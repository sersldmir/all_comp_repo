{
 "cells": [
  {
   "attachments": {},
   "cell_type": "markdown",
   "metadata": {},
   "source": [
    "ML\n",
    "\n",
    "Загрузим и нормализуем тренировочные и тестовые данные"
   ]
  },
  {
   "cell_type": "code",
   "execution_count": 1,
   "metadata": {},
   "outputs": [],
   "source": [
    "import pandas as pd"
   ]
  },
  {
   "cell_type": "code",
   "execution_count": 2,
   "metadata": {},
   "outputs": [],
   "source": [
    "# функция загрузки датасета\n",
    "\n",
    "def load(path):\n",
    "    comment_data = pd.read_json(path, lines=True, orient=\"records\", encoding=\"windows-1251\")\n",
    "    comment_data.rename({\"text\":\"post\"}, inplace=True, axis=1)\n",
    "    comment_data.set_index(\"post\", inplace=True)\n",
    "    comment_data = comment_data.explode(column=\"comments\")\n",
    "    comments = pd.json_normalize(comment_data[\"comments\"])\n",
    "    comments.set_index(comment_data.index, inplace=True)\n",
    "    comment_data = pd.concat([comment_data, comments], axis=1)\n",
    "    comment_data.drop(\"comments\", axis=1, inplace=True)\n",
    "    comment_data.reset_index(inplace=True)\n",
    "    comment_data['text'] = comment_data['text'].str.replace(\"&#x27;\", \"'\")\n",
    "    del comments\n",
    "    return comment_data"
   ]
  },
  {
   "cell_type": "code",
   "execution_count": 3,
   "metadata": {},
   "outputs": [],
   "source": [
    "train_df = load(\"data/ranking_train.jsonl\")\n",
    "test_df = load(\"data/ranking_test.jsonl\")"
   ]
  },
  {
   "attachments": {},
   "cell_type": "markdown",
   "metadata": {},
   "source": [
    "Обработаем текст комментариев следующим образом:\n",
    "\n",
    "- уберем стоп-слова\n",
    "- уберем пунктуацию\n",
    "- уберем цифры\n",
    "- понизим регистр всех слов\n",
    "- приведем слова в начальную форму"
   ]
  },
  {
   "cell_type": "code",
   "execution_count": 4,
   "metadata": {},
   "outputs": [],
   "source": [
    "import nltk\n",
    "import re\n",
    "from nltk.corpus import stopwords\n",
    "from nltk import pos_tag\n",
    "from nltk.corpus import wordnet\n",
    "import string\n",
    "\n",
    "w_tokenizer = nltk.tokenize.WhitespaceTokenizer()\n",
    "lemmatizer = nltk.stem.WordNetLemmatizer()\n",
    "\n",
    "\n",
    "def get_wordnet_pos(pos_tag):\n",
    "    if pos_tag.startswith('J'):\n",
    "        return wordnet.ADJ\n",
    "    elif pos_tag.startswith('V'):\n",
    "        return wordnet.VERB\n",
    "    elif pos_tag.startswith('N'):\n",
    "        return wordnet.NOUN\n",
    "    elif pos_tag.startswith('R'):\n",
    "        return wordnet.ADV\n",
    "    else:\n",
    "        return wordnet.NOUN\n",
    "\n",
    "def lemmatize_text(text):\n",
    "    text = w_tokenizer.tokenize(text)\n",
    "    pos_tags = pos_tag(text)\n",
    "    return ' '.join([lemmatizer.lemmatize(w[0], get_wordnet_pos(w[1])) for w in pos_tags])\n",
    "\n",
    "def transform(df):\n",
    "    stop_words = stopwords.words('english')\n",
    "    pattern = r'\\b(?:{})\\b'.format('|'.join(stop_words))\n",
    "    punc_pattern = re.compile(f'[{string.punctuation}]')\n",
    "    num_pattern = re.compile('\\d')\n",
    "    df.loc[:, \"modified_text\"] = df.loc[:, 'text'].str.replace(pattern, '', regex=True)\n",
    "    df.loc[:, \"modified_text\"] = df.loc[:, 'modified_text'].str.replace(punc_pattern, '', regex=True)\n",
    "    df.loc[:, \"modified_text\"] = df.loc[:, 'modified_text'].str.replace(num_pattern, '', regex=True)\n",
    "    df.loc[:, \"modified_text\"] = df.loc[:, 'modified_text'].str.lower()\n",
    "    df.loc[:, \"modified_text\"] = df.loc[:, 'modified_text'].apply(lemmatize_text)"
   ]
  },
  {
   "cell_type": "code",
   "execution_count": 5,
   "metadata": {},
   "outputs": [],
   "source": [
    "transform(train_df)"
   ]
  },
  {
   "cell_type": "code",
   "execution_count": 6,
   "metadata": {},
   "outputs": [],
   "source": [
    "transform(test_df)"
   ]
  },
  {
   "attachments": {},
   "cell_type": "markdown",
   "metadata": {},
   "source": [
    "Отложим 88100 строк на тест(нужно число, кратное 5, так как у нас гарантированы группы по 5 элементов, и довольно большое, поэтому выбрал такое)"
   ]
  },
  {
   "cell_type": "code",
   "execution_count": null,
   "metadata": {},
   "outputs": [],
   "source": [
    "test_pred = train_df.iloc[0:88100]\n",
    "train_df.drop(range(88101), inplace=True)"
   ]
  },
  {
   "attachments": {},
   "cell_type": "markdown",
   "metadata": {},
   "source": [
    "Векторизируем нормализованные комментарии для обучения с помощью `TfidfVectorizer()` (его преимушество - учет частоты слов: чем чаще встречается слово, тем менее значимым оно становится)\n",
    "\n",
    "Затем разделим данные на тренировочные и валидационные"
   ]
  },
  {
   "cell_type": "code",
   "execution_count": 41,
   "metadata": {},
   "outputs": [],
   "source": [
    "from sklearn.feature_extraction.text import TfidfVectorizer\n",
    "from sklearn.model_selection import train_test_split\n",
    "\n",
    "vect = TfidfVectorizer()\n",
    "\n",
    "X = vect.fit_transform(train_df.loc[:, \"modified_text\"])\n",
    "\n",
    "x_train, x_val, y_train, y_val = train_test_split(X, train_df[[\"post\", \"score\"]], test_size=0.2, random_state=7)\n",
    "\n",
    "# подсчет групп по постам в тренировочных и валидационных данных\n",
    "query_train = y_train.groupby(\"post\")[\"post\"].count().to_numpy()\n",
    "query_val = y_val.groupby(\"post\")[\"post\"].count().to_numpy()\n"
   ]
  },
  {
   "attachments": {},
   "cell_type": "markdown",
   "metadata": {},
   "source": [
    "Используемая модель - `LGBMRanker()` из [библиотеки](https://lightgbm.readthedocs.io/en/latest/Python-API.html) lightgbm\n",
    "\n",
    "Это ранжирующая модель, на основе на градиентного бустинга\n",
    "\n",
    "Натренируем её"
   ]
  },
  {
   "cell_type": "code",
   "execution_count": 42,
   "metadata": {},
   "outputs": [
    {
     "name": "stdout",
     "output_type": "stream",
     "text": [
      "[1]\tvalid_0's ndcg@1: 0.891006\tvalid_0's ndcg@2: 0.951045\tvalid_0's ndcg@3: 0.960688\tvalid_0's ndcg@4: 0.961527\tvalid_0's ndcg@5: 0.96156\n",
      "[2]\tvalid_0's ndcg@1: 0.893764\tvalid_0's ndcg@2: 0.952172\tvalid_0's ndcg@3: 0.961598\tvalid_0's ndcg@4: 0.962484\tvalid_0's ndcg@5: 0.962522\n",
      "[3]\tvalid_0's ndcg@1: 0.894147\tvalid_0's ndcg@2: 0.952294\tvalid_0's ndcg@3: 0.961707\tvalid_0's ndcg@4: 0.962601\tvalid_0's ndcg@5: 0.962633\n",
      "[4]\tvalid_0's ndcg@1: 0.895151\tvalid_0's ndcg@2: 0.952622\tvalid_0's ndcg@3: 0.962082\tvalid_0's ndcg@4: 0.96294\tvalid_0's ndcg@5: 0.962986\n",
      "[5]\tvalid_0's ndcg@1: 0.895363\tvalid_0's ndcg@2: 0.952736\tvalid_0's ndcg@3: 0.962117\tvalid_0's ndcg@4: 0.963014\tvalid_0's ndcg@5: 0.963062\n",
      "[6]\tvalid_0's ndcg@1: 0.895984\tvalid_0's ndcg@2: 0.952983\tvalid_0's ndcg@3: 0.962371\tvalid_0's ndcg@4: 0.963232\tvalid_0's ndcg@5: 0.963279\n",
      "[7]\tvalid_0's ndcg@1: 0.895207\tvalid_0's ndcg@2: 0.952768\tvalid_0's ndcg@3: 0.962109\tvalid_0's ndcg@4: 0.962992\tvalid_0's ndcg@5: 0.963039\n",
      "[8]\tvalid_0's ndcg@1: 0.895393\tvalid_0's ndcg@2: 0.952856\tvalid_0's ndcg@3: 0.962199\tvalid_0's ndcg@4: 0.963068\tvalid_0's ndcg@5: 0.963115\n",
      "[9]\tvalid_0's ndcg@1: 0.895482\tvalid_0's ndcg@2: 0.952863\tvalid_0's ndcg@3: 0.962219\tvalid_0's ndcg@4: 0.963099\tvalid_0's ndcg@5: 0.963143\n",
      "[10]\tvalid_0's ndcg@1: 0.895719\tvalid_0's ndcg@2: 0.952919\tvalid_0's ndcg@3: 0.962305\tvalid_0's ndcg@4: 0.963185\tvalid_0's ndcg@5: 0.963229\n",
      "[11]\tvalid_0's ndcg@1: 0.89556\tvalid_0's ndcg@2: 0.952804\tvalid_0's ndcg@3: 0.962234\tvalid_0's ndcg@4: 0.96311\tvalid_0's ndcg@5: 0.96315\n",
      "[12]\tvalid_0's ndcg@1: 0.895319\tvalid_0's ndcg@2: 0.952677\tvalid_0's ndcg@3: 0.962152\tvalid_0's ndcg@4: 0.963012\tvalid_0's ndcg@5: 0.963053\n",
      "[13]\tvalid_0's ndcg@1: 0.895433\tvalid_0's ndcg@2: 0.952746\tvalid_0's ndcg@3: 0.962208\tvalid_0's ndcg@4: 0.963067\tvalid_0's ndcg@5: 0.96311\n",
      "[14]\tvalid_0's ndcg@1: 0.895481\tvalid_0's ndcg@2: 0.952804\tvalid_0's ndcg@3: 0.962246\tvalid_0's ndcg@4: 0.963094\tvalid_0's ndcg@5: 0.963134\n",
      "[15]\tvalid_0's ndcg@1: 0.895163\tvalid_0's ndcg@2: 0.952738\tvalid_0's ndcg@3: 0.962137\tvalid_0's ndcg@4: 0.962996\tvalid_0's ndcg@5: 0.963036\n",
      "[16]\tvalid_0's ndcg@1: 0.89531\tvalid_0's ndcg@2: 0.952872\tvalid_0's ndcg@3: 0.962178\tvalid_0's ndcg@4: 0.963044\tvalid_0's ndcg@5: 0.963084\n",
      "[17]\tvalid_0's ndcg@1: 0.895086\tvalid_0's ndcg@2: 0.952729\tvalid_0's ndcg@3: 0.962101\tvalid_0's ndcg@4: 0.962975\tvalid_0's ndcg@5: 0.963015\n",
      "[18]\tvalid_0's ndcg@1: 0.895214\tvalid_0's ndcg@2: 0.952777\tvalid_0's ndcg@3: 0.962164\tvalid_0's ndcg@4: 0.963025\tvalid_0's ndcg@5: 0.963065\n",
      "[19]\tvalid_0's ndcg@1: 0.895357\tvalid_0's ndcg@2: 0.95275\tvalid_0's ndcg@3: 0.962189\tvalid_0's ndcg@4: 0.96306\tvalid_0's ndcg@5: 0.963101\n",
      "[20]\tvalid_0's ndcg@1: 0.895393\tvalid_0's ndcg@2: 0.952795\tvalid_0's ndcg@3: 0.962204\tvalid_0's ndcg@4: 0.963072\tvalid_0's ndcg@5: 0.963114\n",
      "[21]\tvalid_0's ndcg@1: 0.895712\tvalid_0's ndcg@2: 0.952904\tvalid_0's ndcg@3: 0.962319\tvalid_0's ndcg@4: 0.963181\tvalid_0's ndcg@5: 0.963222\n",
      "[22]\tvalid_0's ndcg@1: 0.895386\tvalid_0's ndcg@2: 0.952864\tvalid_0's ndcg@3: 0.962229\tvalid_0's ndcg@4: 0.963099\tvalid_0's ndcg@5: 0.963139\n",
      "[23]\tvalid_0's ndcg@1: 0.895566\tvalid_0's ndcg@2: 0.952914\tvalid_0's ndcg@3: 0.96229\tvalid_0's ndcg@4: 0.963149\tvalid_0's ndcg@5: 0.963189\n",
      "[24]\tvalid_0's ndcg@1: 0.895821\tvalid_0's ndcg@2: 0.953012\tvalid_0's ndcg@3: 0.962355\tvalid_0's ndcg@4: 0.963232\tvalid_0's ndcg@5: 0.963273\n",
      "[25]\tvalid_0's ndcg@1: 0.895561\tvalid_0's ndcg@2: 0.952879\tvalid_0's ndcg@3: 0.962278\tvalid_0's ndcg@4: 0.96314\tvalid_0's ndcg@5: 0.96318\n",
      "[26]\tvalid_0's ndcg@1: 0.895625\tvalid_0's ndcg@2: 0.952904\tvalid_0's ndcg@3: 0.962293\tvalid_0's ndcg@4: 0.963155\tvalid_0's ndcg@5: 0.963199\n",
      "[27]\tvalid_0's ndcg@1: 0.895406\tvalid_0's ndcg@2: 0.952909\tvalid_0's ndcg@3: 0.962241\tvalid_0's ndcg@4: 0.963105\tvalid_0's ndcg@5: 0.963149\n",
      "[28]\tvalid_0's ndcg@1: 0.895413\tvalid_0's ndcg@2: 0.952897\tvalid_0's ndcg@3: 0.962229\tvalid_0's ndcg@4: 0.963096\tvalid_0's ndcg@5: 0.96314\n",
      "[29]\tvalid_0's ndcg@1: 0.895622\tvalid_0's ndcg@2: 0.952976\tvalid_0's ndcg@3: 0.962295\tvalid_0's ndcg@4: 0.963166\tvalid_0's ndcg@5: 0.96321\n",
      "[30]\tvalid_0's ndcg@1: 0.89591\tvalid_0's ndcg@2: 0.953064\tvalid_0's ndcg@3: 0.962395\tvalid_0's ndcg@4: 0.963256\tvalid_0's ndcg@5: 0.9633\n",
      "[31]\tvalid_0's ndcg@1: 0.895804\tvalid_0's ndcg@2: 0.953056\tvalid_0's ndcg@3: 0.962353\tvalid_0's ndcg@4: 0.963221\tvalid_0's ndcg@5: 0.963266\n",
      "[32]\tvalid_0's ndcg@1: 0.895801\tvalid_0's ndcg@2: 0.953047\tvalid_0's ndcg@3: 0.962359\tvalid_0's ndcg@4: 0.963221\tvalid_0's ndcg@5: 0.963264\n",
      "[33]\tvalid_0's ndcg@1: 0.895725\tvalid_0's ndcg@2: 0.953011\tvalid_0's ndcg@3: 0.96234\tvalid_0's ndcg@4: 0.963191\tvalid_0's ndcg@5: 0.963235\n",
      "[34]\tvalid_0's ndcg@1: 0.895796\tvalid_0's ndcg@2: 0.953014\tvalid_0's ndcg@3: 0.962349\tvalid_0's ndcg@4: 0.963202\tvalid_0's ndcg@5: 0.963246\n",
      "[35]\tvalid_0's ndcg@1: 0.895783\tvalid_0's ndcg@2: 0.952996\tvalid_0's ndcg@3: 0.962346\tvalid_0's ndcg@4: 0.963202\tvalid_0's ndcg@5: 0.963246\n",
      "[36]\tvalid_0's ndcg@1: 0.895806\tvalid_0's ndcg@2: 0.952966\tvalid_0's ndcg@3: 0.962335\tvalid_0's ndcg@4: 0.963199\tvalid_0's ndcg@5: 0.963242\n",
      "[37]\tvalid_0's ndcg@1: 0.896216\tvalid_0's ndcg@2: 0.953143\tvalid_0's ndcg@3: 0.962488\tvalid_0's ndcg@4: 0.963349\tvalid_0's ndcg@5: 0.963392\n",
      "[38]\tvalid_0's ndcg@1: 0.896247\tvalid_0's ndcg@2: 0.953143\tvalid_0's ndcg@3: 0.962497\tvalid_0's ndcg@4: 0.96336\tvalid_0's ndcg@5: 0.963403\n",
      "[39]\tvalid_0's ndcg@1: 0.896348\tvalid_0's ndcg@2: 0.953204\tvalid_0's ndcg@3: 0.962539\tvalid_0's ndcg@4: 0.963399\tvalid_0's ndcg@5: 0.963442\n",
      "[40]\tvalid_0's ndcg@1: 0.896149\tvalid_0's ndcg@2: 0.953134\tvalid_0's ndcg@3: 0.962474\tvalid_0's ndcg@4: 0.963339\tvalid_0's ndcg@5: 0.963382\n",
      "[41]\tvalid_0's ndcg@1: 0.89634\tvalid_0's ndcg@2: 0.953244\tvalid_0's ndcg@3: 0.962553\tvalid_0's ndcg@4: 0.963414\tvalid_0's ndcg@5: 0.963457\n",
      "[42]\tvalid_0's ndcg@1: 0.896499\tvalid_0's ndcg@2: 0.953309\tvalid_0's ndcg@3: 0.962621\tvalid_0's ndcg@4: 0.96347\tvalid_0's ndcg@5: 0.963513\n",
      "[43]\tvalid_0's ndcg@1: 0.896252\tvalid_0's ndcg@2: 0.95321\tvalid_0's ndcg@3: 0.962513\tvalid_0's ndcg@4: 0.96337\tvalid_0's ndcg@5: 0.963413\n",
      "[44]\tvalid_0's ndcg@1: 0.896263\tvalid_0's ndcg@2: 0.953199\tvalid_0's ndcg@3: 0.962523\tvalid_0's ndcg@4: 0.963377\tvalid_0's ndcg@5: 0.96342\n",
      "[45]\tvalid_0's ndcg@1: 0.896434\tvalid_0's ndcg@2: 0.953306\tvalid_0's ndcg@3: 0.962587\tvalid_0's ndcg@4: 0.963446\tvalid_0's ndcg@5: 0.96349\n",
      "[46]\tvalid_0's ndcg@1: 0.896257\tvalid_0's ndcg@2: 0.953286\tvalid_0's ndcg@3: 0.962541\tvalid_0's ndcg@4: 0.963396\tvalid_0's ndcg@5: 0.963439\n",
      "[47]\tvalid_0's ndcg@1: 0.896309\tvalid_0's ndcg@2: 0.953317\tvalid_0's ndcg@3: 0.962573\tvalid_0's ndcg@4: 0.963423\tvalid_0's ndcg@5: 0.963466\n",
      "[48]\tvalid_0's ndcg@1: 0.896378\tvalid_0's ndcg@2: 0.953359\tvalid_0's ndcg@3: 0.962605\tvalid_0's ndcg@4: 0.96345\tvalid_0's ndcg@5: 0.963493\n",
      "[49]\tvalid_0's ndcg@1: 0.896437\tvalid_0's ndcg@2: 0.953381\tvalid_0's ndcg@3: 0.96263\tvalid_0's ndcg@4: 0.963478\tvalid_0's ndcg@5: 0.963521\n",
      "[50]\tvalid_0's ndcg@1: 0.896445\tvalid_0's ndcg@2: 0.953367\tvalid_0's ndcg@3: 0.962629\tvalid_0's ndcg@4: 0.963474\tvalid_0's ndcg@5: 0.963517\n",
      "[51]\tvalid_0's ndcg@1: 0.896496\tvalid_0's ndcg@2: 0.953366\tvalid_0's ndcg@3: 0.962641\tvalid_0's ndcg@4: 0.963489\tvalid_0's ndcg@5: 0.963533\n",
      "[52]\tvalid_0's ndcg@1: 0.896455\tvalid_0's ndcg@2: 0.953317\tvalid_0's ndcg@3: 0.962613\tvalid_0's ndcg@4: 0.963461\tvalid_0's ndcg@5: 0.963504\n",
      "[53]\tvalid_0's ndcg@1: 0.896357\tvalid_0's ndcg@2: 0.953305\tvalid_0's ndcg@3: 0.962596\tvalid_0's ndcg@4: 0.963446\tvalid_0's ndcg@5: 0.963484\n",
      "[54]\tvalid_0's ndcg@1: 0.896417\tvalid_0's ndcg@2: 0.953318\tvalid_0's ndcg@3: 0.9626\tvalid_0's ndcg@4: 0.963465\tvalid_0's ndcg@5: 0.963502\n",
      "[55]\tvalid_0's ndcg@1: 0.896429\tvalid_0's ndcg@2: 0.953319\tvalid_0's ndcg@3: 0.962615\tvalid_0's ndcg@4: 0.963468\tvalid_0's ndcg@5: 0.963506\n",
      "[56]\tvalid_0's ndcg@1: 0.896461\tvalid_0's ndcg@2: 0.953322\tvalid_0's ndcg@3: 0.962617\tvalid_0's ndcg@4: 0.963475\tvalid_0's ndcg@5: 0.963513\n",
      "[57]\tvalid_0's ndcg@1: 0.896437\tvalid_0's ndcg@2: 0.953269\tvalid_0's ndcg@3: 0.962612\tvalid_0's ndcg@4: 0.963461\tvalid_0's ndcg@5: 0.963503\n",
      "[58]\tvalid_0's ndcg@1: 0.896463\tvalid_0's ndcg@2: 0.953292\tvalid_0's ndcg@3: 0.962625\tvalid_0's ndcg@4: 0.963476\tvalid_0's ndcg@5: 0.963518\n",
      "[59]\tvalid_0's ndcg@1: 0.896453\tvalid_0's ndcg@2: 0.953313\tvalid_0's ndcg@3: 0.962638\tvalid_0's ndcg@4: 0.963485\tvalid_0's ndcg@5: 0.963527\n",
      "[60]\tvalid_0's ndcg@1: 0.896549\tvalid_0's ndcg@2: 0.953383\tvalid_0's ndcg@3: 0.962668\tvalid_0's ndcg@4: 0.963523\tvalid_0's ndcg@5: 0.963565\n",
      "[61]\tvalid_0's ndcg@1: 0.896655\tvalid_0's ndcg@2: 0.953406\tvalid_0's ndcg@3: 0.962703\tvalid_0's ndcg@4: 0.963548\tvalid_0's ndcg@5: 0.963591\n",
      "[62]\tvalid_0's ndcg@1: 0.896704\tvalid_0's ndcg@2: 0.953435\tvalid_0's ndcg@3: 0.962728\tvalid_0's ndcg@4: 0.963574\tvalid_0's ndcg@5: 0.963617\n",
      "[63]\tvalid_0's ndcg@1: 0.896678\tvalid_0's ndcg@2: 0.953392\tvalid_0's ndcg@3: 0.962698\tvalid_0's ndcg@4: 0.963557\tvalid_0's ndcg@5: 0.963599\n",
      "[64]\tvalid_0's ndcg@1: 0.896588\tvalid_0's ndcg@2: 0.953402\tvalid_0's ndcg@3: 0.962671\tvalid_0's ndcg@4: 0.963529\tvalid_0's ndcg@5: 0.963572\n",
      "[65]\tvalid_0's ndcg@1: 0.896591\tvalid_0's ndcg@2: 0.95342\tvalid_0's ndcg@3: 0.962676\tvalid_0's ndcg@4: 0.963534\tvalid_0's ndcg@5: 0.963577\n",
      "[66]\tvalid_0's ndcg@1: 0.896642\tvalid_0's ndcg@2: 0.953416\tvalid_0's ndcg@3: 0.962686\tvalid_0's ndcg@4: 0.963545\tvalid_0's ndcg@5: 0.963588\n",
      "[67]\tvalid_0's ndcg@1: 0.896554\tvalid_0's ndcg@2: 0.953402\tvalid_0's ndcg@3: 0.96266\tvalid_0's ndcg@4: 0.96352\tvalid_0's ndcg@5: 0.963562\n",
      "[68]\tvalid_0's ndcg@1: 0.896619\tvalid_0's ndcg@2: 0.953415\tvalid_0's ndcg@3: 0.962685\tvalid_0's ndcg@4: 0.963545\tvalid_0's ndcg@5: 0.963588\n",
      "[69]\tvalid_0's ndcg@1: 0.896514\tvalid_0's ndcg@2: 0.953362\tvalid_0's ndcg@3: 0.962639\tvalid_0's ndcg@4: 0.963504\tvalid_0's ndcg@5: 0.963547\n",
      "[70]\tvalid_0's ndcg@1: 0.896621\tvalid_0's ndcg@2: 0.953412\tvalid_0's ndcg@3: 0.96268\tvalid_0's ndcg@4: 0.963545\tvalid_0's ndcg@5: 0.963587\n",
      "[71]\tvalid_0's ndcg@1: 0.896631\tvalid_0's ndcg@2: 0.953415\tvalid_0's ndcg@3: 0.962676\tvalid_0's ndcg@4: 0.963549\tvalid_0's ndcg@5: 0.96359\n",
      "[72]\tvalid_0's ndcg@1: 0.896662\tvalid_0's ndcg@2: 0.953449\tvalid_0's ndcg@3: 0.962707\tvalid_0's ndcg@4: 0.963561\tvalid_0's ndcg@5: 0.963604\n",
      "[73]\tvalid_0's ndcg@1: 0.896788\tvalid_0's ndcg@2: 0.953503\tvalid_0's ndcg@3: 0.962752\tvalid_0's ndcg@4: 0.963608\tvalid_0's ndcg@5: 0.963651\n",
      "[74]\tvalid_0's ndcg@1: 0.896613\tvalid_0's ndcg@2: 0.953449\tvalid_0's ndcg@3: 0.962711\tvalid_0's ndcg@4: 0.963554\tvalid_0's ndcg@5: 0.963596\n",
      "[75]\tvalid_0's ndcg@1: 0.896853\tvalid_0's ndcg@2: 0.95355\tvalid_0's ndcg@3: 0.962779\tvalid_0's ndcg@4: 0.963638\tvalid_0's ndcg@5: 0.96368\n",
      "[76]\tvalid_0's ndcg@1: 0.896766\tvalid_0's ndcg@2: 0.953527\tvalid_0's ndcg@3: 0.962763\tvalid_0's ndcg@4: 0.963609\tvalid_0's ndcg@5: 0.963652\n",
      "[77]\tvalid_0's ndcg@1: 0.896774\tvalid_0's ndcg@2: 0.95352\tvalid_0's ndcg@3: 0.962768\tvalid_0's ndcg@4: 0.96361\tvalid_0's ndcg@5: 0.963653\n",
      "[78]\tvalid_0's ndcg@1: 0.896866\tvalid_0's ndcg@2: 0.953523\tvalid_0's ndcg@3: 0.962789\tvalid_0's ndcg@4: 0.963636\tvalid_0's ndcg@5: 0.963679\n",
      "[79]\tvalid_0's ndcg@1: 0.896639\tvalid_0's ndcg@2: 0.953493\tvalid_0's ndcg@3: 0.962723\tvalid_0's ndcg@4: 0.963568\tvalid_0's ndcg@5: 0.96361\n",
      "[80]\tvalid_0's ndcg@1: 0.896655\tvalid_0's ndcg@2: 0.95351\tvalid_0's ndcg@3: 0.962741\tvalid_0's ndcg@4: 0.96358\tvalid_0's ndcg@5: 0.963622\n",
      "[81]\tvalid_0's ndcg@1: 0.89665\tvalid_0's ndcg@2: 0.953475\tvalid_0's ndcg@3: 0.962718\tvalid_0's ndcg@4: 0.963566\tvalid_0's ndcg@5: 0.963609\n",
      "[82]\tvalid_0's ndcg@1: 0.896711\tvalid_0's ndcg@2: 0.953509\tvalid_0's ndcg@3: 0.962737\tvalid_0's ndcg@4: 0.963589\tvalid_0's ndcg@5: 0.963632\n",
      "[83]\tvalid_0's ndcg@1: 0.896591\tvalid_0's ndcg@2: 0.953489\tvalid_0's ndcg@3: 0.962698\tvalid_0's ndcg@4: 0.963555\tvalid_0's ndcg@5: 0.963598\n",
      "[84]\tvalid_0's ndcg@1: 0.896574\tvalid_0's ndcg@2: 0.953478\tvalid_0's ndcg@3: 0.962702\tvalid_0's ndcg@4: 0.96355\tvalid_0's ndcg@5: 0.963593\n",
      "[85]\tvalid_0's ndcg@1: 0.896597\tvalid_0's ndcg@2: 0.953505\tvalid_0's ndcg@3: 0.962706\tvalid_0's ndcg@4: 0.963554\tvalid_0's ndcg@5: 0.963597\n",
      "[86]\tvalid_0's ndcg@1: 0.896605\tvalid_0's ndcg@2: 0.953494\tvalid_0's ndcg@3: 0.962714\tvalid_0's ndcg@4: 0.963557\tvalid_0's ndcg@5: 0.9636\n",
      "[87]\tvalid_0's ndcg@1: 0.896702\tvalid_0's ndcg@2: 0.953499\tvalid_0's ndcg@3: 0.962744\tvalid_0's ndcg@4: 0.963585\tvalid_0's ndcg@5: 0.963627\n",
      "[88]\tvalid_0's ndcg@1: 0.896845\tvalid_0's ndcg@2: 0.95356\tvalid_0's ndcg@3: 0.962792\tvalid_0's ndcg@4: 0.963636\tvalid_0's ndcg@5: 0.963679\n",
      "[89]\tvalid_0's ndcg@1: 0.896803\tvalid_0's ndcg@2: 0.953529\tvalid_0's ndcg@3: 0.962776\tvalid_0's ndcg@4: 0.963618\tvalid_0's ndcg@5: 0.963661\n",
      "[90]\tvalid_0's ndcg@1: 0.896796\tvalid_0's ndcg@2: 0.953555\tvalid_0's ndcg@3: 0.962769\tvalid_0's ndcg@4: 0.963617\tvalid_0's ndcg@5: 0.96366\n",
      "[91]\tvalid_0's ndcg@1: 0.896813\tvalid_0's ndcg@2: 0.953552\tvalid_0's ndcg@3: 0.962787\tvalid_0's ndcg@4: 0.963623\tvalid_0's ndcg@5: 0.963666\n",
      "[92]\tvalid_0's ndcg@1: 0.896809\tvalid_0's ndcg@2: 0.953543\tvalid_0's ndcg@3: 0.96279\tvalid_0's ndcg@4: 0.963626\tvalid_0's ndcg@5: 0.963669\n",
      "[93]\tvalid_0's ndcg@1: 0.896861\tvalid_0's ndcg@2: 0.953579\tvalid_0's ndcg@3: 0.962812\tvalid_0's ndcg@4: 0.963648\tvalid_0's ndcg@5: 0.963691\n",
      "[94]\tvalid_0's ndcg@1: 0.896927\tvalid_0's ndcg@2: 0.95359\tvalid_0's ndcg@3: 0.962827\tvalid_0's ndcg@4: 0.963664\tvalid_0's ndcg@5: 0.963707\n",
      "[95]\tvalid_0's ndcg@1: 0.896843\tvalid_0's ndcg@2: 0.953578\tvalid_0's ndcg@3: 0.962811\tvalid_0's ndcg@4: 0.963644\tvalid_0's ndcg@5: 0.963686\n",
      "[96]\tvalid_0's ndcg@1: 0.896692\tvalid_0's ndcg@2: 0.953525\tvalid_0's ndcg@3: 0.962756\tvalid_0's ndcg@4: 0.963588\tvalid_0's ndcg@5: 0.963631\n",
      "[97]\tvalid_0's ndcg@1: 0.896688\tvalid_0's ndcg@2: 0.953514\tvalid_0's ndcg@3: 0.962756\tvalid_0's ndcg@4: 0.963587\tvalid_0's ndcg@5: 0.96363\n",
      "[98]\tvalid_0's ndcg@1: 0.896628\tvalid_0's ndcg@2: 0.953515\tvalid_0's ndcg@3: 0.96274\tvalid_0's ndcg@4: 0.963571\tvalid_0's ndcg@5: 0.963613\n",
      "[99]\tvalid_0's ndcg@1: 0.8967\tvalid_0's ndcg@2: 0.953456\tvalid_0's ndcg@3: 0.962734\tvalid_0's ndcg@4: 0.963573\tvalid_0's ndcg@5: 0.963616\n",
      "[100]\tvalid_0's ndcg@1: 0.89675\tvalid_0's ndcg@2: 0.953521\tvalid_0's ndcg@3: 0.962756\tvalid_0's ndcg@4: 0.9636\tvalid_0's ndcg@5: 0.963642\n"
     ]
    },
    {
     "data": {
      "text/plain": [
       "LGBMRanker(colsample_bytree=0.7, learning_rate=0.002, num_leaves=41,\n",
       "           random_state=7)"
      ]
     },
     "execution_count": 42,
     "metadata": {},
     "output_type": "execute_result"
    }
   ],
   "source": [
    "from lightgbm import LGBMRanker\n",
    "\n",
    "model_return = LGBMRanker(n_estimators=100,\n",
    "                          random_state=7,\n",
    "                          num_leaves=41,\n",
    "                          learning_rate=0.002,\n",
    "                          colsample_bytree=0.7)\n",
    "\n",
    "model_return.fit(x_train, y_train.loc[:, \"score\"],\n",
    "             group = query_train,\n",
    "             eval_set=[(x_val, y_val.loc[:, \"score\"])],\n",
    "             eval_group=[query_val],\n",
    "                )"
   ]
  },
  {
   "cell_type": "code",
   "execution_count": 43,
   "metadata": {},
   "outputs": [
    {
     "data": {
      "text/plain": [
       "defaultdict(collections.OrderedDict,\n",
       "            {'valid_0': OrderedDict([('ndcg@1', 0.89674952006269),\n",
       "                          ('ndcg@2', 0.9535211635234987),\n",
       "                          ('ndcg@3', 0.9627557103056913),\n",
       "                          ('ndcg@4', 0.9635996044674128),\n",
       "                          ('ndcg@5', 0.9636424010376505)])})"
      ]
     },
     "execution_count": 43,
     "metadata": {},
     "output_type": "execute_result"
    }
   ],
   "source": [
    "model_return.best_score_"
   ]
  },
  {
   "attachments": {},
   "cell_type": "markdown",
   "metadata": {},
   "source": [
    "ndcg@k везде 0.9 и выше, что является очень хорошим знаком"
   ]
  },
  {
   "attachments": {},
   "cell_type": "markdown",
   "metadata": {},
   "source": [
    "Протестируем модель на отложенных данных и измерим ndcg из библиотеки scikit-learn"
   ]
  },
  {
   "cell_type": "code",
   "execution_count": 45,
   "metadata": {},
   "outputs": [
    {
     "name": "stdout",
     "output_type": "stream",
     "text": [
      "[-0.08808458 -0.01940743 -0.02276948 ... -0.01271672  0.00357423\n",
      " -0.02010641]\n"
     ]
    }
   ],
   "source": [
    "# предсказываем\n",
    "predictions = model_return.predict(vect.transform(test_pred.loc[:, \"modified_text\"]))\n",
    "print(predictions)"
   ]
  },
  {
   "attachments": {},
   "cell_type": "markdown",
   "metadata": {},
   "source": [
    "Модель вернула не готовые категории популярности, а абстрактные рейтинги\n",
    "\n",
    "Теперь задача простая - пройтись по пятеркам предсказанных значений, ранжировать по рейтингу и сохранить рейтинги в отдельном списке"
   ]
  },
  {
   "cell_type": "code",
   "execution_count": 89,
   "metadata": {},
   "outputs": [],
   "source": [
    "# ранжируем\n",
    "def get_ranks(arr):\n",
    "    predicted_scores = []\n",
    "    for i in range(0, len(arr), 5):\n",
    "        group = predictions[i:i+5]\n",
    "        sorted_group = sorted(group, reverse=True)\n",
    "        ranking_dict = {v:ind for ind,v in enumerate(sorted_group)}\n",
    "        for j in group:\n",
    "            predicted_scores.append(ranking_dict[j])\n",
    "    return predicted_scores\n",
    "\n",
    "predicted_scores = get_ranks(predictions)"
   ]
  },
  {
   "cell_type": "code",
   "execution_count": 90,
   "metadata": {},
   "outputs": [
    {
     "data": {
      "text/plain": [
       "0.9187150671938966"
      ]
     },
     "execution_count": 90,
     "metadata": {},
     "output_type": "execute_result"
    }
   ],
   "source": [
    "# замеряем результат\n",
    "from sklearn.metrics import ndcg_score\n",
    "\n",
    "ndcg_score([test_pred.loc[:, \"score\"]], [predicted_scores])"
   ]
  },
  {
   "attachments": {},
   "cell_type": "markdown",
   "metadata": {},
   "source": [
    "Скор - 0.92. Модель довольно успешна в ранжировании"
   ]
  },
  {
   "attachments": {},
   "cell_type": "markdown",
   "metadata": {},
   "source": [
    "Предскажем тестовые данные, которые были даны кейсом"
   ]
  },
  {
   "cell_type": "code",
   "execution_count": 91,
   "metadata": {},
   "outputs": [
    {
     "name": "stdout",
     "output_type": "stream",
     "text": [
      "[ 0.04482772  0.04334655  0.04086538 ...  0.03680324 -0.02722701\n",
      "  0.01779177]\n"
     ]
    }
   ],
   "source": [
    "# предсказываем\n",
    "real_predictions = model_return.predict(vect.transform(test_df.loc[:, \"modified_text\"]))\n",
    "print(real_predictions)"
   ]
  },
  {
   "cell_type": "code",
   "execution_count": 92,
   "metadata": {},
   "outputs": [
    {
     "data": {
      "text/html": [
       "<div>\n",
       "<style scoped>\n",
       "    .dataframe tbody tr th:only-of-type {\n",
       "        vertical-align: middle;\n",
       "    }\n",
       "\n",
       "    .dataframe tbody tr th {\n",
       "        vertical-align: top;\n",
       "    }\n",
       "\n",
       "    .dataframe thead th {\n",
       "        text-align: right;\n",
       "    }\n",
       "</style>\n",
       "<table border=\"1\" class=\"dataframe\">\n",
       "  <thead>\n",
       "    <tr style=\"text-align: right;\">\n",
       "      <th></th>\n",
       "      <th>post</th>\n",
       "      <th>text</th>\n",
       "      <th>score</th>\n",
       "      <th>modified_text</th>\n",
       "    </tr>\n",
       "  </thead>\n",
       "  <tbody>\n",
       "    <tr>\n",
       "      <th>0</th>\n",
       "      <td>iOS 8.0.1 released, broken on iPhone 6 models,...</td>\n",
       "      <td>I'm still waiting for them to stabilize wifi o...</td>\n",
       "      <td>4</td>\n",
       "      <td>i still wait stabilize wifi ipad sith ios thei...</td>\n",
       "    </tr>\n",
       "    <tr>\n",
       "      <th>1</th>\n",
       "      <td>iOS 8.0.1 released, broken on iPhone 6 models,...</td>\n",
       "      <td>For those who upgraded, no need to do a restor...</td>\n",
       "      <td>2</td>\n",
       "      <td>for upgraded need restore you optionclick quot...</td>\n",
       "    </tr>\n",
       "    <tr>\n",
       "      <th>2</th>\n",
       "      <td>iOS 8.0.1 released, broken on iPhone 6 models,...</td>\n",
       "      <td>Upgraded shortly after it was released and suf...</td>\n",
       "      <td>3</td>\n",
       "      <td>upgrade shortly release suffered consequence j...</td>\n",
       "    </tr>\n",
       "    <tr>\n",
       "      <th>3</th>\n",
       "      <td>iOS 8.0.1 released, broken on iPhone 6 models,...</td>\n",
       "      <td>I think they were under a lot of pressure on t...</td>\n",
       "      <td>1</td>\n",
       "      <td>i think lot pressure healthkit front that one ...</td>\n",
       "    </tr>\n",
       "    <tr>\n",
       "      <th>4</th>\n",
       "      <td>iOS 8.0.1 released, broken on iPhone 6 models,...</td>\n",
       "      <td>Fix for those who already updated:  http:&amp;#x2F...</td>\n",
       "      <td>0</td>\n",
       "      <td>fix already updated httpxfxfwwwimorecomxfioski...</td>\n",
       "    </tr>\n",
       "    <tr>\n",
       "      <th>...</th>\n",
       "      <td>...</td>\n",
       "      <td>...</td>\n",
       "      <td>...</td>\n",
       "      <td>...</td>\n",
       "    </tr>\n",
       "    <tr>\n",
       "      <th>70015</th>\n",
       "      <td>Why does Gmail hate my domain?</td>\n",
       "      <td>I send a LOT of emails each month (email newsl...</td>\n",
       "      <td>4</td>\n",
       "      <td>i send lot email month email newsletter busine...</td>\n",
       "    </tr>\n",
       "    <tr>\n",
       "      <th>70016</th>\n",
       "      <td>Why does Gmail hate my domain?</td>\n",
       "      <td>I hit a similar problems when sending automate...</td>\n",
       "      <td>2</td>\n",
       "      <td>i hit similar problem send automate internal e...</td>\n",
       "    </tr>\n",
       "    <tr>\n",
       "      <th>70017</th>\n",
       "      <td>Why does Gmail hate my domain?</td>\n",
       "      <td>That's all a bit presumptive and inflammatory ...</td>\n",
       "      <td>0</td>\n",
       "      <td>that bite presumptive inflammatory amount pure...</td>\n",
       "    </tr>\n",
       "    <tr>\n",
       "      <th>70018</th>\n",
       "      <td>Why does Gmail hate my domain?</td>\n",
       "      <td>If the domain is bitbin.de and the mail server...</td>\n",
       "      <td>1</td>\n",
       "      <td>if domain bitbinde mail server host server pro...</td>\n",
       "    </tr>\n",
       "    <tr>\n",
       "      <th>70019</th>\n",
       "      <td>Why does Gmail hate my domain?</td>\n",
       "      <td>I'm very curious about that as well as I am th...</td>\n",
       "      <td>3</td>\n",
       "      <td>i curious well i think move personal domain aw...</td>\n",
       "    </tr>\n",
       "  </tbody>\n",
       "</table>\n",
       "<p>70020 rows × 4 columns</p>\n",
       "</div>"
      ],
      "text/plain": [
       "                                                    post  \\\n",
       "0      iOS 8.0.1 released, broken on iPhone 6 models,...   \n",
       "1      iOS 8.0.1 released, broken on iPhone 6 models,...   \n",
       "2      iOS 8.0.1 released, broken on iPhone 6 models,...   \n",
       "3      iOS 8.0.1 released, broken on iPhone 6 models,...   \n",
       "4      iOS 8.0.1 released, broken on iPhone 6 models,...   \n",
       "...                                                  ...   \n",
       "70015                     Why does Gmail hate my domain?   \n",
       "70016                     Why does Gmail hate my domain?   \n",
       "70017                     Why does Gmail hate my domain?   \n",
       "70018                     Why does Gmail hate my domain?   \n",
       "70019                     Why does Gmail hate my domain?   \n",
       "\n",
       "                                                    text  score  \\\n",
       "0      I'm still waiting for them to stabilize wifi o...      4   \n",
       "1      For those who upgraded, no need to do a restor...      2   \n",
       "2      Upgraded shortly after it was released and suf...      3   \n",
       "3      I think they were under a lot of pressure on t...      1   \n",
       "4      Fix for those who already updated:  http:&#x2F...      0   \n",
       "...                                                  ...    ...   \n",
       "70015  I send a LOT of emails each month (email newsl...      4   \n",
       "70016  I hit a similar problems when sending automate...      2   \n",
       "70017  That's all a bit presumptive and inflammatory ...      0   \n",
       "70018  If the domain is bitbin.de and the mail server...      1   \n",
       "70019  I'm very curious about that as well as I am th...      3   \n",
       "\n",
       "                                           modified_text  \n",
       "0      i still wait stabilize wifi ipad sith ios thei...  \n",
       "1      for upgraded need restore you optionclick quot...  \n",
       "2      upgrade shortly release suffered consequence j...  \n",
       "3      i think lot pressure healthkit front that one ...  \n",
       "4      fix already updated httpxfxfwwwimorecomxfioski...  \n",
       "...                                                  ...  \n",
       "70015  i send lot email month email newsletter busine...  \n",
       "70016  i hit similar problem send automate internal e...  \n",
       "70017  that bite presumptive inflammatory amount pure...  \n",
       "70018  if domain bitbinde mail server host server pro...  \n",
       "70019  i curious well i think move personal domain aw...  \n",
       "\n",
       "[70020 rows x 4 columns]"
      ]
     },
     "execution_count": 92,
     "metadata": {},
     "output_type": "execute_result"
    }
   ],
   "source": [
    "# помещаем результаты в фрейм\n",
    "test_df[\"score\"] = get_ranks(real_predictions)\n",
    "test_df"
   ]
  },
  {
   "attachments": {},
   "cell_type": "markdown",
   "metadata": {},
   "source": [
    "Выберем нужные колонки и преобразуем фрейм в .jsonl файл с такой же структурой, как ranking_test.jsonl"
   ]
  },
  {
   "cell_type": "code",
   "execution_count": 93,
   "metadata": {},
   "outputs": [
    {
     "data": {
      "text/html": [
       "<div>\n",
       "<style scoped>\n",
       "    .dataframe tbody tr th:only-of-type {\n",
       "        vertical-align: middle;\n",
       "    }\n",
       "\n",
       "    .dataframe tbody tr th {\n",
       "        vertical-align: top;\n",
       "    }\n",
       "\n",
       "    .dataframe thead th {\n",
       "        text-align: right;\n",
       "    }\n",
       "</style>\n",
       "<table border=\"1\" class=\"dataframe\">\n",
       "  <thead>\n",
       "    <tr style=\"text-align: right;\">\n",
       "      <th></th>\n",
       "      <th>post</th>\n",
       "      <th>text</th>\n",
       "      <th>score</th>\n",
       "    </tr>\n",
       "  </thead>\n",
       "  <tbody>\n",
       "    <tr>\n",
       "      <th>0</th>\n",
       "      <td>iOS 8.0.1 released, broken on iPhone 6 models,...</td>\n",
       "      <td>I'm still waiting for them to stabilize wifi o...</td>\n",
       "      <td>4</td>\n",
       "    </tr>\n",
       "    <tr>\n",
       "      <th>1</th>\n",
       "      <td>iOS 8.0.1 released, broken on iPhone 6 models,...</td>\n",
       "      <td>For those who upgraded, no need to do a restor...</td>\n",
       "      <td>2</td>\n",
       "    </tr>\n",
       "    <tr>\n",
       "      <th>2</th>\n",
       "      <td>iOS 8.0.1 released, broken on iPhone 6 models,...</td>\n",
       "      <td>Upgraded shortly after it was released and suf...</td>\n",
       "      <td>3</td>\n",
       "    </tr>\n",
       "    <tr>\n",
       "      <th>3</th>\n",
       "      <td>iOS 8.0.1 released, broken on iPhone 6 models,...</td>\n",
       "      <td>I think they were under a lot of pressure on t...</td>\n",
       "      <td>1</td>\n",
       "    </tr>\n",
       "    <tr>\n",
       "      <th>4</th>\n",
       "      <td>iOS 8.0.1 released, broken on iPhone 6 models,...</td>\n",
       "      <td>Fix for those who already updated:  http:&amp;#x2F...</td>\n",
       "      <td>0</td>\n",
       "    </tr>\n",
       "    <tr>\n",
       "      <th>...</th>\n",
       "      <td>...</td>\n",
       "      <td>...</td>\n",
       "      <td>...</td>\n",
       "    </tr>\n",
       "    <tr>\n",
       "      <th>70015</th>\n",
       "      <td>Why does Gmail hate my domain?</td>\n",
       "      <td>I send a LOT of emails each month (email newsl...</td>\n",
       "      <td>4</td>\n",
       "    </tr>\n",
       "    <tr>\n",
       "      <th>70016</th>\n",
       "      <td>Why does Gmail hate my domain?</td>\n",
       "      <td>I hit a similar problems when sending automate...</td>\n",
       "      <td>2</td>\n",
       "    </tr>\n",
       "    <tr>\n",
       "      <th>70017</th>\n",
       "      <td>Why does Gmail hate my domain?</td>\n",
       "      <td>That's all a bit presumptive and inflammatory ...</td>\n",
       "      <td>0</td>\n",
       "    </tr>\n",
       "    <tr>\n",
       "      <th>70018</th>\n",
       "      <td>Why does Gmail hate my domain?</td>\n",
       "      <td>If the domain is bitbin.de and the mail server...</td>\n",
       "      <td>1</td>\n",
       "    </tr>\n",
       "    <tr>\n",
       "      <th>70019</th>\n",
       "      <td>Why does Gmail hate my domain?</td>\n",
       "      <td>I'm very curious about that as well as I am th...</td>\n",
       "      <td>3</td>\n",
       "    </tr>\n",
       "  </tbody>\n",
       "</table>\n",
       "<p>70020 rows × 3 columns</p>\n",
       "</div>"
      ],
      "text/plain": [
       "                                                    post  \\\n",
       "0      iOS 8.0.1 released, broken on iPhone 6 models,...   \n",
       "1      iOS 8.0.1 released, broken on iPhone 6 models,...   \n",
       "2      iOS 8.0.1 released, broken on iPhone 6 models,...   \n",
       "3      iOS 8.0.1 released, broken on iPhone 6 models,...   \n",
       "4      iOS 8.0.1 released, broken on iPhone 6 models,...   \n",
       "...                                                  ...   \n",
       "70015                     Why does Gmail hate my domain?   \n",
       "70016                     Why does Gmail hate my domain?   \n",
       "70017                     Why does Gmail hate my domain?   \n",
       "70018                     Why does Gmail hate my domain?   \n",
       "70019                     Why does Gmail hate my domain?   \n",
       "\n",
       "                                                    text  score  \n",
       "0      I'm still waiting for them to stabilize wifi o...      4  \n",
       "1      For those who upgraded, no need to do a restor...      2  \n",
       "2      Upgraded shortly after it was released and suf...      3  \n",
       "3      I think they were under a lot of pressure on t...      1  \n",
       "4      Fix for those who already updated:  http:&#x2F...      0  \n",
       "...                                                  ...    ...  \n",
       "70015  I send a LOT of emails each month (email newsl...      4  \n",
       "70016  I hit a similar problems when sending automate...      2  \n",
       "70017  That's all a bit presumptive and inflammatory ...      0  \n",
       "70018  If the domain is bitbin.de and the mail server...      1  \n",
       "70019  I'm very curious about that as well as I am th...      3  \n",
       "\n",
       "[70020 rows x 3 columns]"
      ]
     },
     "execution_count": 93,
     "metadata": {},
     "output_type": "execute_result"
    }
   ],
   "source": [
    "# извлекаем\n",
    "solution = test_df[[\"post\", \"text\", \"score\"]]\n",
    "solution"
   ]
  },
  {
   "cell_type": "code",
   "execution_count": 98,
   "metadata": {},
   "outputs": [],
   "source": [
    "# сделаем jsonl файл\n",
    "import jsonlines\n",
    "import numpy as np\n",
    "\n",
    "future_jsonl = []\n",
    "post_set, post_ind = np.unique(solution[[\"post\"]], return_index=True)\n",
    "post_set = post_set[np.argsort(post_ind)]\n",
    "for element in post_set:\n",
    "    df_frac = solution[solution[\"post\"]==element]\n",
    "    comments = df_frac[[\"text\", \"score\"]].to_dict(\"records\")\n",
    "    json_sample = {\"text\":element, \"comments\":comments}\n",
    "    future_jsonl.append(json_sample)\n",
    "\n",
    "with jsonlines.open(\"data/ranking_result.jsonl\", mode='w') as jsonl_writer: \n",
    "    jsonl_writer.write_all(future_jsonl)"
   ]
  }
 ],
 "metadata": {
  "kernelspec": {
   "display_name": "base",
   "language": "python",
   "name": "python3"
  },
  "language_info": {
   "codemirror_mode": {
    "name": "ipython",
    "version": 3
   },
   "file_extension": ".py",
   "mimetype": "text/x-python",
   "name": "python",
   "nbconvert_exporter": "python",
   "pygments_lexer": "ipython3",
   "version": "3.9.7"
  },
  "orig_nbformat": 4
 },
 "nbformat": 4,
 "nbformat_minor": 2
}
