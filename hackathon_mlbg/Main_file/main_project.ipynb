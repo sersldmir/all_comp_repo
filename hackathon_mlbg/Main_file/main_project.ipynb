{
 "cells": [
  {
   "cell_type": "code",
   "execution_count": 1,
   "metadata": {},
   "outputs": [],
   "source": [
    "#если нет pip в конде, то раскомментить строку ниже\n",
    "#%conda install pip\n",
    "# %pip install -r requirements.txt"
   ]
  },
  {
   "cell_type": "markdown",
   "metadata": {},
   "source": [
    "Импорт библиотек"
   ]
  },
  {
   "cell_type": "code",
   "execution_count": 2,
   "metadata": {},
   "outputs": [],
   "source": [
    "import pandas as pd\n",
    "import json\n",
    "import pathlib\n",
    "import numpy as np"
   ]
  },
  {
   "cell_type": "markdown",
   "metadata": {},
   "source": [
    "Извлечение путя данных"
   ]
  },
  {
   "cell_type": "code",
   "execution_count": 3,
   "metadata": {},
   "outputs": [
    {
     "data": {
      "text/plain": [
       "PosixPath('/home/sergey/Рабочий стол/Coding/hacathon_mlbg/Data')"
      ]
     },
     "execution_count": 3,
     "metadata": {},
     "output_type": "execute_result"
    }
   ],
   "source": [
    "hack_data_path = pathlib.Path().cwd().parent/'Data'\n",
    "hack_data_path"
   ]
  },
  {
   "cell_type": "markdown",
   "metadata": {},
   "source": [
    "Взглянем на данные"
   ]
  },
  {
   "cell_type": "code",
   "execution_count": 4,
   "metadata": {},
   "outputs": [],
   "source": [
    "# уберем лимит на ширину строк\n",
    "pd.set_option('display.max_colwidth', None)"
   ]
  },
  {
   "cell_type": "code",
   "execution_count": 5,
   "metadata": {},
   "outputs": [],
   "source": [
    "# тестовые данные\n",
    "test_df = pd.read_csv(hack_data_path/'test.csv')"
   ]
  },
  {
   "cell_type": "code",
   "execution_count": 6,
   "metadata": {},
   "outputs": [],
   "source": [
    "# тренировочные данные\n",
    "train_df = pd.read_csv(hack_data_path/'train.csv')"
   ]
  },
  {
   "cell_type": "code",
   "execution_count": 7,
   "metadata": {},
   "outputs": [],
   "source": [
    "# справочник вакансий\n",
    "okz_df = pd.read_csv(hack_data_path/'okz_3_4_professions.csv', delimiter='\\t')"
   ]
  },
  {
   "cell_type": "markdown",
   "metadata": {},
   "source": [
    "Распакуем json файлы"
   ]
  },
  {
   "cell_type": "code",
   "execution_count": 8,
   "metadata": {},
   "outputs": [],
   "source": [
    "def json_processor(path):\n",
    "    json_df = pd.read_json(path)\n",
    "    json_df['Обязанности'] = [' '.join(el.get('Обязанности', np.nan)) if el.get('Обязанности', np.nan) is not np.nan else np.nan for el in json_df['Content'].values]\n",
    "    json_df.drop(['Content', 'Position'], axis=1, inplace=True)\n",
    "    return json_df"
   ]
  },
  {
   "cell_type": "code",
   "execution_count": 9,
   "metadata": {},
   "outputs": [],
   "source": [
    "vd1 = json_processor(hack_data_path/'vacancy_descriptions'/'1_parsed.json')\n",
    "vd2 = json_processor(hack_data_path/'vacancy_descriptions'/'2_parsed.json')\n",
    "vd3 = json_processor(hack_data_path/'vacancy_descriptions'/'3_parsed.json')\n",
    "vd4 = json_processor(hack_data_path/'vacancy_descriptions'/'4_parsed.json')\n",
    "vd5 = json_processor(hack_data_path/'vacancy_descriptions'/'5_parsed.json')"
   ]
  },
  {
   "cell_type": "code",
   "execution_count": 10,
   "metadata": {},
   "outputs": [],
   "source": [
    "vd = pd.concat([vd1, vd2, vd3, vd4, vd5], ignore_index=True)"
   ]
  },
  {
   "cell_type": "code",
   "execution_count": 11,
   "metadata": {},
   "outputs": [],
   "source": [
    "# сливаем тренировочные данные\n",
    "train_df_w_description = train_df.merge(vd, how='left', left_on='index', right_on='ID')\n",
    "train_df_w_description.drop(['ID', 'name'], inplace=True, axis=1)"
   ]
  },
  {
   "cell_type": "code",
   "execution_count": 12,
   "metadata": {},
   "outputs": [],
   "source": [
    "# сливаем тестовые данные\n",
    "test_df_w_description = test_df.merge(vd, how='left', left_on='index', right_on='ID')\n",
    "test_df_w_description.drop(['ID', 'name'], inplace=True, axis=1)"
   ]
  },
  {
   "cell_type": "code",
   "execution_count": 13,
   "metadata": {},
   "outputs": [],
   "source": [
    "# извлечем обязанности из справочника вакансий\n",
    "okz_df.drop(['control_number', 'profession'], axis=1, inplace=True)"
   ]
  },
  {
   "cell_type": "code",
   "execution_count": 14,
   "metadata": {},
   "outputs": [],
   "source": [
    "# функция для обработки описания\n",
    "import re\n",
    "from nltk.corpus import stopwords\n",
    "from pymorphy2 import MorphAnalyzer\n",
    "\n",
    "def transofrm_description(initial_desciption, morph = MorphAnalyzer(), stop_words = stopwords.words('russian')):\n",
    "    sample_description_v1 = initial_desciption.lower()\n",
    "    sample_description_v2 = sample_description_v1[sample_description_v1.find('обязанности'):sample_description_v1.find('.', sample_description_v1.find('обязанности'))]\n",
    "    sample_description_v3 = sample_description_v2[sample_description_v2.find(':')+1:]\n",
    "    sample_description_v4 = sample_description_v3.replace('\\n', ' ').strip()\n",
    "    patt1 = re.compile(r'[а-я\\s\\;]')\n",
    "    sample_description_v5 = re.findall(patt1, sample_description_v4)\n",
    "    sample_description_v6 = ''.join(sample_description_v5)\n",
    "    sample_description_v7 = sample_description_v6.split('; ')\n",
    "    sample_description_v8 = []\n",
    "    for i in sample_description_v7:\n",
    "        # print(f'Изначальный вариант: {i}\\n')\n",
    "        wout_stop_words = [word for word in i.split(' ') if word not in stop_words]\n",
    "        # print(f'Без стоп слов: {wout_stop_words}\\n')\n",
    "        inf_forms = [morph.parse(word)[0].normal_form for word in wout_stop_words]\n",
    "        # print(f'Начальная форма: {inf_forms}\\n')\n",
    "        sample_description_v8.append(' '.join(inf_forms))\n",
    "    sample_description_final = ' '.join(sample_description_v8)\n",
    "    return sample_description_final\n",
    "    "
   ]
  },
  {
   "cell_type": "code",
   "execution_count": 15,
   "metadata": {},
   "outputs": [],
   "source": [
    "# делаем столбец описания в словах у справочника\n",
    "okz_df['redacted discription'] = okz_df.apply(lambda row: transofrm_description(row['description']), axis=1)"
   ]
  },
  {
   "cell_type": "code",
   "execution_count": 16,
   "metadata": {},
   "outputs": [],
   "source": [
    "okz_df.drop('description', axis=1, inplace=True)"
   ]
  },
  {
   "cell_type": "code",
   "execution_count": 17,
   "metadata": {},
   "outputs": [
    {
     "data": {
      "text/plain": [
       "4431"
      ]
     },
     "execution_count": 17,
     "metadata": {},
     "output_type": "execute_result"
    }
   ],
   "source": [
    "# количество пустых обязанностей\n",
    "sum(train_df_w_description['Обязанности'].isna())"
   ]
  },
  {
   "cell_type": "code",
   "execution_count": 18,
   "metadata": {},
   "outputs": [],
   "source": [
    "train_w_nan_resp = train_df_w_description[train_df_w_description['Обязанности'].isna()]"
   ]
  },
  {
   "cell_type": "code",
   "execution_count": 19,
   "metadata": {},
   "outputs": [],
   "source": [
    "def nan_transformer(sample_description, stop_words = stopwords.words('russian'), morph = MorphAnalyzer()):\n",
    "    if sample_description is np.nan:\n",
    "        return np.nan\n",
    "    sample_description_v1 = sample_description.lower()\n",
    "    patt1 = re.compile(r'[а-я\\s\\;]')\n",
    "    sample_description_v2 = ''.join(re.findall(patt1, sample_description_v1)).replace('\\n', '')\n",
    "    sample_description_v3 = ' '.join([word for word in sample_description_v2.split(' ') if word not in stop_words])\n",
    "    inf_forms = ' '.join([morph.parse(word)[0].normal_form for word in sample_description_v3.split()])\n",
    "    finale = [word for word in inf_forms.split() if len(word)<20]\n",
    "    return ' '.join(finale)"
   ]
  },
  {
   "cell_type": "code",
   "execution_count": 20,
   "metadata": {},
   "outputs": [
    {
     "name": "stderr",
     "output_type": "stream",
     "text": [
      "/tmp/ipykernel_105453/2964548059.py:1: SettingWithCopyWarning: \n",
      "A value is trying to be set on a copy of a slice from a DataFrame.\n",
      "Try using .loc[row_indexer,col_indexer] = value instead\n",
      "\n",
      "See the caveats in the documentation: https://pandas.pydata.org/pandas-docs/stable/user_guide/indexing.html#returning-a-view-versus-a-copy\n",
      "  train_w_nan_resp['Обязанности'] = train_w_nan_resp.apply(lambda row: nan_transformer(row['description']), axis=1)\n"
     ]
    }
   ],
   "source": [
    "train_w_nan_resp['Обязанности'] = train_w_nan_resp.apply(lambda row: nan_transformer(row['description']), axis=1)"
   ]
  },
  {
   "cell_type": "code",
   "execution_count": null,
   "metadata": {},
   "outputs": [],
   "source": []
  },
  {
   "cell_type": "code",
   "execution_count": 21,
   "metadata": {},
   "outputs": [
    {
     "name": "stderr",
     "output_type": "stream",
     "text": [
      "/tmp/ipykernel_105453/62153877.py:1: SettingWithCopyWarning: \n",
      "A value is trying to be set on a copy of a slice from a DataFrame\n",
      "\n",
      "See the caveats in the documentation: https://pandas.pydata.org/pandas-docs/stable/user_guide/indexing.html#returning-a-view-versus-a-copy\n",
      "  train_w_nan_resp.rename(columns={'Обязанности': 'redacted description'}, inplace=True)\n"
     ]
    }
   ],
   "source": [
    "train_w_nan_resp.rename(columns={'Обязанности': 'redacted description'}, inplace=True)"
   ]
  },
  {
   "cell_type": "code",
   "execution_count": 22,
   "metadata": {},
   "outputs": [],
   "source": [
    "def simple_transformer(sample_description, stop_words = stopwords.words('russian'), morph = MorphAnalyzer()):\n",
    "    if sample_description is np.nan:\n",
    "        return np.nan\n",
    "    patt1 = re.compile(r'[а-я\\s]')\n",
    "    sample_description_v2 = ''.join(re.findall(patt1, sample_description.lower())).replace('\\n', '')\n",
    "    sample_description_v3 = ' '.join([word for word in sample_description_v2.split(' ') if word not in stop_words])\n",
    "    inf_forms = ' '.join([morph.parse(word)[0].normal_form for word in sample_description_v3.split()])\n",
    "    return inf_forms"
   ]
  },
  {
   "cell_type": "code",
   "execution_count": 23,
   "metadata": {},
   "outputs": [],
   "source": [
    "train_df_w_description['redacted description'] = train_df_w_description.apply(lambda row: simple_transformer(row['Обязанности']), axis=1)"
   ]
  },
  {
   "cell_type": "code",
   "execution_count": 24,
   "metadata": {},
   "outputs": [],
   "source": [
    "train_df_w_description.drop(['description', 'Обязанности'], axis=1, inplace=True)"
   ]
  },
  {
   "cell_type": "code",
   "execution_count": 25,
   "metadata": {},
   "outputs": [
    {
     "name": "stderr",
     "output_type": "stream",
     "text": [
      "/tmp/ipykernel_105453/532034478.py:1: SettingWithCopyWarning: \n",
      "A value is trying to be set on a copy of a slice from a DataFrame\n",
      "\n",
      "See the caveats in the documentation: https://pandas.pydata.org/pandas-docs/stable/user_guide/indexing.html#returning-a-view-versus-a-copy\n",
      "  train_w_nan_resp.drop(['description'], axis=1, inplace=True)\n"
     ]
    }
   ],
   "source": [
    "train_w_nan_resp.drop(['description'], axis=1, inplace=True)"
   ]
  },
  {
   "cell_type": "code",
   "execution_count": 26,
   "metadata": {},
   "outputs": [],
   "source": [
    "final_train = train_df_w_description.fillna(train_w_nan_resp)"
   ]
  },
  {
   "cell_type": "code",
   "execution_count": 27,
   "metadata": {},
   "outputs": [],
   "source": [
    "final_train.dropna(inplace=True)"
   ]
  },
  {
   "cell_type": "markdown",
   "metadata": {},
   "source": [
    "в обучение okz_df, final_train"
   ]
  },
  {
   "cell_type": "code",
   "execution_count": 28,
   "metadata": {},
   "outputs": [],
   "source": [
    "# обработаем тестовое задание\n",
    "save_test = test_df_w_description[test_df_w_description['Обязанности'].isna()]\n",
    "process_test = test_df_w_description.dropna()"
   ]
  },
  {
   "cell_type": "code",
   "execution_count": 29,
   "metadata": {},
   "outputs": [
    {
     "name": "stderr",
     "output_type": "stream",
     "text": [
      "/tmp/ipykernel_105453/1511708657.py:1: SettingWithCopyWarning: \n",
      "A value is trying to be set on a copy of a slice from a DataFrame.\n",
      "Try using .loc[row_indexer,col_indexer] = value instead\n",
      "\n",
      "See the caveats in the documentation: https://pandas.pydata.org/pandas-docs/stable/user_guide/indexing.html#returning-a-view-versus-a-copy\n",
      "  process_test['redacted description'] = process_test.apply(lambda row: simple_transformer(row['Обязанности']), axis=1)\n"
     ]
    }
   ],
   "source": [
    "process_test['redacted description'] = process_test.apply(lambda row: simple_transformer(row['Обязанности']), axis=1)"
   ]
  },
  {
   "cell_type": "code",
   "execution_count": 30,
   "metadata": {},
   "outputs": [
    {
     "name": "stderr",
     "output_type": "stream",
     "text": [
      "/tmp/ipykernel_105453/104347109.py:1: SettingWithCopyWarning: \n",
      "A value is trying to be set on a copy of a slice from a DataFrame\n",
      "\n",
      "See the caveats in the documentation: https://pandas.pydata.org/pandas-docs/stable/user_guide/indexing.html#returning-a-view-versus-a-copy\n",
      "  process_test.drop(['Обязанности', 'description'], axis=1, inplace=True)\n"
     ]
    }
   ],
   "source": [
    "process_test.drop(['Обязанности', 'description'], axis=1, inplace=True)"
   ]
  },
  {
   "cell_type": "code",
   "execution_count": 31,
   "metadata": {},
   "outputs": [
    {
     "name": "stderr",
     "output_type": "stream",
     "text": [
      "/tmp/ipykernel_105453/4038635796.py:1: SettingWithCopyWarning: \n",
      "A value is trying to be set on a copy of a slice from a DataFrame.\n",
      "Try using .loc[row_indexer,col_indexer] = value instead\n",
      "\n",
      "See the caveats in the documentation: https://pandas.pydata.org/pandas-docs/stable/user_guide/indexing.html#returning-a-view-versus-a-copy\n",
      "  save_test['redacted description'] = save_test.apply(lambda row: nan_transformer(row['description']), axis=1)\n"
     ]
    }
   ],
   "source": [
    "save_test['redacted description'] = save_test.apply(lambda row: nan_transformer(row['description']), axis=1)"
   ]
  },
  {
   "cell_type": "code",
   "execution_count": 32,
   "metadata": {},
   "outputs": [
    {
     "name": "stderr",
     "output_type": "stream",
     "text": [
      "/tmp/ipykernel_105453/2196103870.py:1: SettingWithCopyWarning: \n",
      "A value is trying to be set on a copy of a slice from a DataFrame\n",
      "\n",
      "See the caveats in the documentation: https://pandas.pydata.org/pandas-docs/stable/user_guide/indexing.html#returning-a-view-versus-a-copy\n",
      "  save_test.drop(['Обязанности', 'description'], axis=1, inplace=True)\n"
     ]
    }
   ],
   "source": [
    "save_test.drop(['Обязанности', 'description'], axis=1, inplace=True)"
   ]
  },
  {
   "cell_type": "code",
   "execution_count": 33,
   "metadata": {},
   "outputs": [],
   "source": [
    "final_test = pd.concat([process_test, save_test], ignore_index=True)"
   ]
  },
  {
   "cell_type": "markdown",
   "metadata": {},
   "source": [
    "Обработанные датасеты\n",
    "\n",
    "*   final_test\n",
    "*   finale_train\n",
    "*   okz_df"
   ]
  },
  {
   "cell_type": "code",
   "execution_count": 34,
   "metadata": {},
   "outputs": [],
   "source": [
    "final_train.drop('index', axis=1, inplace=True)"
   ]
  },
  {
   "cell_type": "markdown",
   "metadata": {},
   "source": [
    "Машинное обучение"
   ]
  },
  {
   "cell_type": "code",
   "execution_count": 35,
   "metadata": {},
   "outputs": [],
   "source": [
    "from sklearn.feature_extraction.text import TfidfVectorizer\n",
    "from sklearn.linear_model import PassiveAggressiveClassifier\n",
    "from sklearn.model_selection import train_test_split"
   ]
  },
  {
   "cell_type": "markdown",
   "metadata": {},
   "source": [
    "Разделяем немаркированные данные и маркированные"
   ]
  },
  {
   "cell_type": "code",
   "execution_count": 36,
   "metadata": {},
   "outputs": [],
   "source": [
    "train_unmarked = final_train[final_train['target']==-1]\n",
    "train_marked = final_train[final_train['target']!=-1]"
   ]
  },
  {
   "cell_type": "markdown",
   "metadata": {},
   "source": [
    "Сливаем справочник и размеченные тренировочные данные"
   ]
  },
  {
   "cell_type": "code",
   "execution_count": 37,
   "metadata": {},
   "outputs": [],
   "source": [
    "okz_df.rename(columns={'redacted discription':'text'}, inplace=True)"
   ]
  },
  {
   "cell_type": "code",
   "execution_count": 38,
   "metadata": {},
   "outputs": [
    {
     "name": "stderr",
     "output_type": "stream",
     "text": [
      "/tmp/ipykernel_105453/1075917921.py:1: SettingWithCopyWarning: \n",
      "A value is trying to be set on a copy of a slice from a DataFrame\n",
      "\n",
      "See the caveats in the documentation: https://pandas.pydata.org/pandas-docs/stable/user_guide/indexing.html#returning-a-view-versus-a-copy\n",
      "  train_marked.rename(columns={'target':'code', 'redacted description':'text'}, inplace=True)\n"
     ]
    }
   ],
   "source": [
    "train_marked.rename(columns={'target':'code', 'redacted description':'text'}, inplace=True)"
   ]
  },
  {
   "cell_type": "code",
   "execution_count": 39,
   "metadata": {},
   "outputs": [],
   "source": [
    "full_training = pd.concat([okz_df, train_marked], ignore_index=True)"
   ]
  },
  {
   "cell_type": "code",
   "execution_count": 40,
   "metadata": {},
   "outputs": [
    {
     "data": {
      "text/html": [
       "<div>\n",
       "<style scoped>\n",
       "    .dataframe tbody tr th:only-of-type {\n",
       "        vertical-align: middle;\n",
       "    }\n",
       "\n",
       "    .dataframe tbody tr th {\n",
       "        vertical-align: top;\n",
       "    }\n",
       "\n",
       "    .dataframe thead th {\n",
       "        text-align: right;\n",
       "    }\n",
       "</style>\n",
       "<table border=\"1\" class=\"dataframe\">\n",
       "  <thead>\n",
       "    <tr style=\"text-align: right;\">\n",
       "      <th></th>\n",
       "      <th>code</th>\n",
       "      <th>text</th>\n",
       "    </tr>\n",
       "  </thead>\n",
       "  <tbody>\n",
       "    <tr>\n",
       "      <th>0</th>\n",
       "      <td>111</td>\n",
       "      <td>руководство участие работа законодательный орган административный совет правительство законодательный собрание орган местный самоуправление общественный организация служба государственный административный орган официальный комитет расследование вопрос касаться интерес общество целое затрагивать интерес избиратель разработка консультирование вопрос проведение государственный политика исполнение бюджет законодательство нормативный обеспечение установление цель организация разработка утверждение оценка программа политика процедура реализация рекомендация анализ оценка утверждение документ информационный записка представить доклад обеспечение надлежащий система процедура который разработать реализоваться обеспечение контроль исполнение бюджет выделение использование государственный земля другой ресурс выполнение церемониальный обязанность представительство имя государство правительство организация сообщество официальный мероприятие встреча переговоры собрание общественный слушание</td>\n",
       "    </tr>\n",
       "    <tr>\n",
       "      <th>1</th>\n",
       "      <td>1111</td>\n",
       "      <td>участие заседание федеральный региональный орган законодательный власть  рассмотрение проект законодательный акт работа комитет комиссия палата работа согласительный специальный комиссия также рабочий группа  внесение парламентский запрос депутатский запрос обращение вопрос руководство исполнительный орган власть контроль исполнение они законодательный акт  обращение соответствовать должностной лицо требование принять мера немедленный пресечение обнаружиться нарушение право гражданин  изучение вопрос представлять интерес общественность защита интерес избиратель который представлять  исполнение представительский функция проведение встреча направить оказание услуга сообщество изучение запрос различный группа население гражданин  ведение переговоры другой законодатель представитель заинтересованный группа примирение различный интерес выработка политика достижение общественный согласие</td>\n",
       "    </tr>\n",
       "    <tr>\n",
       "      <th>2</th>\n",
       "      <td>1112</td>\n",
       "      <td>разработка контроль исполнение государственный бюджет проведение единый финансовый кредитный денежный политика  разработка мера проведение единый государственный политика область культура наука образование здравоохранение социальный обеспечение экология  осуществление мера обеспечение оборона страна государственный безопасность реализация внешний политика законность право свобода гражданин охрана собственность общественный порядок борьба преступность  разработка стратегический цель министерство ведомство соответствие законодательство реализовать политика планирование координация контроль осуществление  разработка утверждение оценка программа процедура реализация государственный политика целое соответствие предмет ведение  подготовка утверждение ведомственный нормативный правовой акт анализ оценка утверждение методический документ информационный записка доклад ход исполнение государственный ведомственный иной программа  обеспечение надлежащий система процедура который разработать реализоваться обеспечение контроль исполнение бюджет  координация деятельность другой высокий правительственный служащий должностной лицо  надзор реализация государственный политика соблюдение законодательство юридический лицо гражданин</td>\n",
       "    </tr>\n",
       "    <tr>\n",
       "      <th>3</th>\n",
       "      <td>1113</td>\n",
       "      <td>управление муниципальный собственность  формирование утверждение обеспечение исполнение местный бюджет  установление местный налог сбор  осуществление охрана общественный порядок  представительство свой поселение высокий орган государственный власть  информирование местный сообщество государственный норма правило</td>\n",
       "    </tr>\n",
       "    <tr>\n",
       "      <th>4</th>\n",
       "      <td>1114</td>\n",
       "      <td>определение формулирование политика норма правило организация  осуществление планирование управление координация общий функционирование организация  обзор деятельность результат деятельность организация предоставление отчётность совет директор руководящий орган членский организация финансовый учреждение  проведение переговоры имя организация член соответствующий группа особый интерес  соблюдение интерес организация член соответствующий группа особый интерес законодательный власть правительство широкий общественность  планирование организация управление отдельный направление деятельность связанный реализация общий политика выполнение программа соблюдение правило положение  обеспечение надлежащий система процедура который разработать реализоваться обеспечение контроль исполнение бюджет  мониторинг оценка деятельность организация предприятие учёт установленный цель проводить политика  представительство имя организация официальный мероприятие заседание совет директор переговоры съезд общественный слушание форум</td>\n",
       "    </tr>\n",
       "    <tr>\n",
       "      <th>...</th>\n",
       "      <td>...</td>\n",
       "      <td>...</td>\n",
       "    </tr>\n",
       "    <tr>\n",
       "      <th>16199</th>\n",
       "      <td>3341</td>\n",
       "      <td>обязанность исполнение поручение первый руководитель рамка служебный обязанность организация собрание ведение протокол организация встреча составление рабочий графика первый руководитель контроль качество работа администратор поиск замена преподаватель сбор обработка заявка филиал контроль работа преподаватель внешний центр организация промоакция трц заказ печатный материал дизайнер типография контроль качество срок исполнение обзвон текущий клиент цель контроль качество организация приезд нахождение алматы сотрудниковстажер другой город обеспечение бесперебойный работа офис сбор задача департамент контроль исполнение срок предоставление информация первый руководитель координация водитель ведение табель оказание помощь работа департамент необходимость поиск кандидат открытый вакансия навык знание компьютер программа приветствоваться знание кадровый производстванавыка знание компьютер программа приветствоваться знание кадровый поручение первый руководитель рамка служебный обязанность организация собрание ведение протокол организация встреча составление рабочий графика первый руководитель</td>\n",
       "    </tr>\n",
       "    <tr>\n",
       "      <th>16200</th>\n",
       "      <td>3341</td>\n",
       "      <td>приём отправка входящий исходящий корреспонденция документ письмо административный поддержка деятельность руководитель организация встреча совещание подготовка информационный материал протоколирование совещание приём переадресация телефонный звонок организация деловой поездка заказ авиа жд билет бронирование гостиница функция гостеприимство чай кофе сбор информация анализ информация вывод предложение задача поставить руководитель</td>\n",
       "    </tr>\n",
       "    <tr>\n",
       "      <th>16201</th>\n",
       "      <td>3341</td>\n",
       "      <td>встречать направлять клиент вход ресепшен отвечать входящий телефонный звонок необходимость переадресовывать регистрация исходящий входящий документация составление авансовый отчтовый проездной документ составлять командировочный сотрудник компания заказывать билет оформлять необходимый документ заказывать гостиница вести телефонный переговоры клиент предприятие цель привлечение обслуживание тс сервисный центр работать пассивный клиент ориентировать услуга предлагать сервисный центр следить поддерживать порядок зона ресепшен зона отдых производить контролировать заказ канцелярский товар отдел компания производить отправка контроль почтовый курьерский сообщение формирование документ дело передача архив предприятие сообщать непосредственный руководитель поступать информация</td>\n",
       "    </tr>\n",
       "    <tr>\n",
       "      <th>16202</th>\n",
       "      <td>3341</td>\n",
       "      <td>приём регистрация входящий звонок регистрация входящихисходящий документ служебный записка направление адресат подготовка письмо производственный приказ предоставление документ подпись руководитель обеспечение офис канцтовары расходный материал иной товарноматериальный ценность необходимый работа офис работа курьерский служба исполнение поручение руководство начальник отдел бухгалтерия</td>\n",
       "    </tr>\n",
       "    <tr>\n",
       "      <th>16203</th>\n",
       "      <td>6121</td>\n",
       "      <td>соблюдение должностной инструкция правило внутренний распорядок соблюдение техника безопасность</td>\n",
       "    </tr>\n",
       "  </tbody>\n",
       "</table>\n",
       "<p>16204 rows × 2 columns</p>\n",
       "</div>"
      ],
      "text/plain": [
       "       code  \\\n",
       "0       111   \n",
       "1      1111   \n",
       "2      1112   \n",
       "3      1113   \n",
       "4      1114   \n",
       "...     ...   \n",
       "16199  3341   \n",
       "16200  3341   \n",
       "16201  3341   \n",
       "16202  3341   \n",
       "16203  6121   \n",
       "\n",
       "                                                                                                                                                                                                                                                                                                                                                                                                                                                                                                                                                                                                                                                                                                                                                                                                                                                                                                                                                                                                                                                                                                                                                                                                                                                                                  text  \n",
       "0                                                                                                                                                                                                                                                      руководство участие работа законодательный орган административный совет правительство законодательный собрание орган местный самоуправление общественный организация служба государственный административный орган официальный комитет расследование вопрос касаться интерес общество целое затрагивать интерес избиратель разработка консультирование вопрос проведение государственный политика исполнение бюджет законодательство нормативный обеспечение установление цель организация разработка утверждение оценка программа политика процедура реализация рекомендация анализ оценка утверждение документ информационный записка представить доклад обеспечение надлежащий система процедура который разработать реализоваться обеспечение контроль исполнение бюджет выделение использование государственный земля другой ресурс выполнение церемониальный обязанность представительство имя государство правительство организация сообщество официальный мероприятие встреча переговоры собрание общественный слушание  \n",
       "1                                                                                                                                                                                                                                                                                                                                                       участие заседание федеральный региональный орган законодательный власть  рассмотрение проект законодательный акт работа комитет комиссия палата работа согласительный специальный комиссия также рабочий группа  внесение парламентский запрос депутатский запрос обращение вопрос руководство исполнительный орган власть контроль исполнение они законодательный акт  обращение соответствовать должностной лицо требование принять мера немедленный пресечение обнаружиться нарушение право гражданин  изучение вопрос представлять интерес общественность защита интерес избиратель который представлять  исполнение представительский функция проведение встреча направить оказание услуга сообщество изучение запрос различный группа население гражданин  ведение переговоры другой законодатель представитель заинтересованный группа примирение различный интерес выработка политика достижение общественный согласие  \n",
       "2       разработка контроль исполнение государственный бюджет проведение единый финансовый кредитный денежный политика  разработка мера проведение единый государственный политика область культура наука образование здравоохранение социальный обеспечение экология  осуществление мера обеспечение оборона страна государственный безопасность реализация внешний политика законность право свобода гражданин охрана собственность общественный порядок борьба преступность  разработка стратегический цель министерство ведомство соответствие законодательство реализовать политика планирование координация контроль осуществление  разработка утверждение оценка программа процедура реализация государственный политика целое соответствие предмет ведение  подготовка утверждение ведомственный нормативный правовой акт анализ оценка утверждение методический документ информационный записка доклад ход исполнение государственный ведомственный иной программа  обеспечение надлежащий система процедура который разработать реализоваться обеспечение контроль исполнение бюджет  координация деятельность другой высокий правительственный служащий должностной лицо  надзор реализация государственный политика соблюдение законодательство юридический лицо гражданин  \n",
       "3                                                                                                                                                                                                                                                                                                                                                                                                                                                                                                                                                                                                                                                                                                                                                                                                                                                                                                                                                           управление муниципальный собственность  формирование утверждение обеспечение исполнение местный бюджет  установление местный налог сбор  осуществление охрана общественный порядок  представительство свой поселение высокий орган государственный власть  информирование местный сообщество государственный норма правило  \n",
       "4                                                                                                                                                                                                                       определение формулирование политика норма правило организация  осуществление планирование управление координация общий функционирование организация  обзор деятельность результат деятельность организация предоставление отчётность совет директор руководящий орган членский организация финансовый учреждение  проведение переговоры имя организация член соответствующий группа особый интерес  соблюдение интерес организация член соответствующий группа особый интерес законодательный власть правительство широкий общественность  планирование организация управление отдельный направление деятельность связанный реализация общий политика выполнение программа соблюдение правило положение  обеспечение надлежащий система процедура который разработать реализоваться обеспечение контроль исполнение бюджет  мониторинг оценка деятельность организация предприятие учёт установленный цель проводить политика  представительство имя организация официальный мероприятие заседание совет директор переговоры съезд общественный слушание форум  \n",
       "...                                                                                                                                                                                                                                                                                                                                                                                                                                                                                                                                                                                                                                                                                                                                                                                                                                                                                                                                                                                                                                                                                                                                                                                                                                                                                ...  \n",
       "16199                                                                                                                                  обязанность исполнение поручение первый руководитель рамка служебный обязанность организация собрание ведение протокол организация встреча составление рабочий графика первый руководитель контроль качество работа администратор поиск замена преподаватель сбор обработка заявка филиал контроль работа преподаватель внешний центр организация промоакция трц заказ печатный материал дизайнер типография контроль качество срок исполнение обзвон текущий клиент цель контроль качество организация приезд нахождение алматы сотрудниковстажер другой город обеспечение бесперебойный работа офис сбор задача департамент контроль исполнение срок предоставление информация первый руководитель координация водитель ведение табель оказание помощь работа департамент необходимость поиск кандидат открытый вакансия навык знание компьютер программа приветствоваться знание кадровый производстванавыка знание компьютер программа приветствоваться знание кадровый поручение первый руководитель рамка служебный обязанность организация собрание ведение протокол организация встреча составление рабочий графика первый руководитель  \n",
       "16200                                                                                                                                                                                                                                                                                                                                                                                                                                                                                                                                                                                                                                                                                                                                                                                                                                приём отправка входящий исходящий корреспонденция документ письмо административный поддержка деятельность руководитель организация встреча совещание подготовка информационный материал протоколирование совещание приём переадресация телефонный звонок организация деловой поездка заказ авиа жд билет бронирование гостиница функция гостеприимство чай кофе сбор информация анализ информация вывод предложение задача поставить руководитель  \n",
       "16201                                                                                                                                                                                                                                                                                                                                                                                                                                                                   встречать направлять клиент вход ресепшен отвечать входящий телефонный звонок необходимость переадресовывать регистрация исходящий входящий документация составление авансовый отчтовый проездной документ составлять командировочный сотрудник компания заказывать билет оформлять необходимый документ заказывать гостиница вести телефонный переговоры клиент предприятие цель привлечение обслуживание тс сервисный центр работать пассивный клиент ориентировать услуга предлагать сервисный центр следить поддерживать порядок зона ресепшен зона отдых производить контролировать заказ канцелярский товар отдел компания производить отправка контроль почтовый курьерский сообщение формирование документ дело передача архив предприятие сообщать непосредственный руководитель поступать информация  \n",
       "16202                                                                                                                                                                                                                                                                                                                                                                                                                                                                                                                                                                                                                                                                                                                                                                                                                                                                             приём регистрация входящий звонок регистрация входящихисходящий документ служебный записка направление адресат подготовка письмо производственный приказ предоставление документ подпись руководитель обеспечение офис канцтовары расходный материал иной товарноматериальный ценность необходимый работа офис работа курьерский служба исполнение поручение руководство начальник отдел бухгалтерия  \n",
       "16203                                                                                                                                                                                                                                                                                                                                                                                                                                                                                                                                                                                                                                                                                                                                                                                                                                                                                                                                                                                                                                                                                                                                                                                  соблюдение должностной инструкция правило внутренний распорядок соблюдение техника безопасность  \n",
       "\n",
       "[16204 rows x 2 columns]"
      ]
     },
     "execution_count": 40,
     "metadata": {},
     "output_type": "execute_result"
    }
   ],
   "source": [
    "full_training"
   ]
  },
  {
   "cell_type": "markdown",
   "metadata": {},
   "source": [
    "Тренируем модель"
   ]
  },
  {
   "cell_type": "code",
   "execution_count": 41,
   "metadata": {},
   "outputs": [],
   "source": [
    "x_train, x_test, y_train, y_test = train_test_split(full_training['text'], full_training['code'])"
   ]
  },
  {
   "cell_type": "code",
   "execution_count": 42,
   "metadata": {},
   "outputs": [],
   "source": [
    "vectorizer = TfidfVectorizer()\n",
    "tf_train = vectorizer.fit_transform(x_train)\n",
    "tf_test = vectorizer.transform(x_test)"
   ]
  },
  {
   "cell_type": "code",
   "execution_count": 43,
   "metadata": {},
   "outputs": [
    {
     "data": {
      "text/plain": [
       "PassiveAggressiveClassifier()"
      ]
     },
     "execution_count": 43,
     "metadata": {},
     "output_type": "execute_result"
    }
   ],
   "source": [
    "pass_agg = PassiveAggressiveClassifier()\n",
    "pass_agg.partial_fit(tf_train, y_train, classes=okz_df['code'])"
   ]
  },
  {
   "cell_type": "code",
   "execution_count": 44,
   "metadata": {},
   "outputs": [
    {
     "data": {
      "text/plain": [
       "0.6763762034065662"
      ]
     },
     "execution_count": 44,
     "metadata": {},
     "output_type": "execute_result"
    }
   ],
   "source": [
    "# точность\n",
    "pass_agg.score(tf_test, y_test)"
   ]
  },
  {
   "cell_type": "markdown",
   "metadata": {},
   "source": [
    "Предскажем профессии для неразмеченных данных"
   ]
  },
  {
   "cell_type": "code",
   "execution_count": 45,
   "metadata": {},
   "outputs": [
    {
     "name": "stderr",
     "output_type": "stream",
     "text": [
      "/tmp/ipykernel_105453/221119137.py:1: SettingWithCopyWarning: \n",
      "A value is trying to be set on a copy of a slice from a DataFrame\n",
      "\n",
      "See the caveats in the documentation: https://pandas.pydata.org/pandas-docs/stable/user_guide/indexing.html#returning-a-view-versus-a-copy\n",
      "  train_unmarked.drop('target', axis=1, inplace=True)\n"
     ]
    }
   ],
   "source": [
    "train_unmarked.drop('target', axis=1, inplace=True)"
   ]
  },
  {
   "cell_type": "code",
   "execution_count": 46,
   "metadata": {},
   "outputs": [],
   "source": [
    "x_predict = train_unmarked['redacted description']"
   ]
  },
  {
   "cell_type": "code",
   "execution_count": 47,
   "metadata": {},
   "outputs": [],
   "source": [
    "tf_predict = vectorizer.transform(x_predict)"
   ]
  },
  {
   "cell_type": "code",
   "execution_count": 48,
   "metadata": {},
   "outputs": [],
   "source": [
    "y_predict = pass_agg.predict(tf_predict)"
   ]
  },
  {
   "cell_type": "markdown",
   "metadata": {},
   "source": [
    "Тренируем модель на неразмеченных данных"
   ]
  },
  {
   "cell_type": "code",
   "execution_count": 49,
   "metadata": {},
   "outputs": [
    {
     "data": {
      "text/plain": [
       "PassiveAggressiveClassifier()"
      ]
     },
     "execution_count": 49,
     "metadata": {},
     "output_type": "execute_result"
    }
   ],
   "source": [
    "pass_agg.partial_fit(tf_predict, y_predict)"
   ]
  },
  {
   "cell_type": "markdown",
   "metadata": {},
   "source": [
    "Полная тренировка на всех данных"
   ]
  },
  {
   "cell_type": "code",
   "execution_count": 61,
   "metadata": {},
   "outputs": [
    {
     "name": "stderr",
     "output_type": "stream",
     "text": [
      "/tmp/ipykernel_105453/249392443.py:1: SettingWithCopyWarning: \n",
      "A value is trying to be set on a copy of a slice from a DataFrame.\n",
      "Try using .loc[row_indexer,col_indexer] = value instead\n",
      "\n",
      "See the caveats in the documentation: https://pandas.pydata.org/pandas-docs/stable/user_guide/indexing.html#returning-a-view-versus-a-copy\n",
      "  train_unmarked['code'] = y_predict\n"
     ]
    }
   ],
   "source": [
    "train_unmarked['code'] = y_predict"
   ]
  },
  {
   "cell_type": "code",
   "execution_count": 65,
   "metadata": {},
   "outputs": [
    {
     "data": {
      "text/html": [
       "<div>\n",
       "<style scoped>\n",
       "    .dataframe tbody tr th:only-of-type {\n",
       "        vertical-align: middle;\n",
       "    }\n",
       "\n",
       "    .dataframe tbody tr th {\n",
       "        vertical-align: top;\n",
       "    }\n",
       "\n",
       "    .dataframe thead th {\n",
       "        text-align: right;\n",
       "    }\n",
       "</style>\n",
       "<table border=\"1\" class=\"dataframe\">\n",
       "  <thead>\n",
       "    <tr style=\"text-align: right;\">\n",
       "      <th></th>\n",
       "      <th>code</th>\n",
       "      <th>text</th>\n",
       "    </tr>\n",
       "  </thead>\n",
       "  <tbody>\n",
       "    <tr>\n",
       "      <th>0</th>\n",
       "      <td>111</td>\n",
       "      <td>руководство участие работа законодательный орган административный совет правительство законодательный собрание орган местный самоуправление общественный организация служба государственный административный орган официальный комитет расследование вопрос касаться интерес общество целое затрагивать интерес избиратель разработка консультирование вопрос проведение государственный политика исполнение бюджет законодательство нормативный обеспечение установление цель организация разработка утверждение оценка программа политика процедура реализация рекомендация анализ оценка утверждение документ информационный записка представить доклад обеспечение надлежащий система процедура который разработать реализоваться обеспечение контроль исполнение бюджет выделение использование государственный земля другой ресурс выполнение церемониальный обязанность представительство имя государство правительство организация сообщество официальный мероприятие встреча переговоры собрание общественный слушание</td>\n",
       "    </tr>\n",
       "    <tr>\n",
       "      <th>1</th>\n",
       "      <td>1111</td>\n",
       "      <td>участие заседание федеральный региональный орган законодательный власть  рассмотрение проект законодательный акт работа комитет комиссия палата работа согласительный специальный комиссия также рабочий группа  внесение парламентский запрос депутатский запрос обращение вопрос руководство исполнительный орган власть контроль исполнение они законодательный акт  обращение соответствовать должностной лицо требование принять мера немедленный пресечение обнаружиться нарушение право гражданин  изучение вопрос представлять интерес общественность защита интерес избиратель который представлять  исполнение представительский функция проведение встреча направить оказание услуга сообщество изучение запрос различный группа население гражданин  ведение переговоры другой законодатель представитель заинтересованный группа примирение различный интерес выработка политика достижение общественный согласие</td>\n",
       "    </tr>\n",
       "    <tr>\n",
       "      <th>2</th>\n",
       "      <td>1112</td>\n",
       "      <td>разработка контроль исполнение государственный бюджет проведение единый финансовый кредитный денежный политика  разработка мера проведение единый государственный политика область культура наука образование здравоохранение социальный обеспечение экология  осуществление мера обеспечение оборона страна государственный безопасность реализация внешний политика законность право свобода гражданин охрана собственность общественный порядок борьба преступность  разработка стратегический цель министерство ведомство соответствие законодательство реализовать политика планирование координация контроль осуществление  разработка утверждение оценка программа процедура реализация государственный политика целое соответствие предмет ведение  подготовка утверждение ведомственный нормативный правовой акт анализ оценка утверждение методический документ информационный записка доклад ход исполнение государственный ведомственный иной программа  обеспечение надлежащий система процедура который разработать реализоваться обеспечение контроль исполнение бюджет  координация деятельность другой высокий правительственный служащий должностной лицо  надзор реализация государственный политика соблюдение законодательство юридический лицо гражданин</td>\n",
       "    </tr>\n",
       "    <tr>\n",
       "      <th>3</th>\n",
       "      <td>1113</td>\n",
       "      <td>управление муниципальный собственность  формирование утверждение обеспечение исполнение местный бюджет  установление местный налог сбор  осуществление охрана общественный порядок  представительство свой поселение высокий орган государственный власть  информирование местный сообщество государственный норма правило</td>\n",
       "    </tr>\n",
       "    <tr>\n",
       "      <th>4</th>\n",
       "      <td>1114</td>\n",
       "      <td>определение формулирование политика норма правило организация  осуществление планирование управление координация общий функционирование организация  обзор деятельность результат деятельность организация предоставление отчётность совет директор руководящий орган членский организация финансовый учреждение  проведение переговоры имя организация член соответствующий группа особый интерес  соблюдение интерес организация член соответствующий группа особый интерес законодательный власть правительство широкий общественность  планирование организация управление отдельный направление деятельность связанный реализация общий политика выполнение программа соблюдение правило положение  обеспечение надлежащий система процедура который разработать реализоваться обеспечение контроль исполнение бюджет  мониторинг оценка деятельность организация предприятие учёт установленный цель проводить политика  представительство имя организация официальный мероприятие заседание совет директор переговоры съезд общественный слушание форум</td>\n",
       "    </tr>\n",
       "    <tr>\n",
       "      <th>...</th>\n",
       "      <td>...</td>\n",
       "      <td>...</td>\n",
       "    </tr>\n",
       "    <tr>\n",
       "      <th>16199</th>\n",
       "      <td>3341</td>\n",
       "      <td>обязанность исполнение поручение первый руководитель рамка служебный обязанность организация собрание ведение протокол организация встреча составление рабочий графика первый руководитель контроль качество работа администратор поиск замена преподаватель сбор обработка заявка филиал контроль работа преподаватель внешний центр организация промоакция трц заказ печатный материал дизайнер типография контроль качество срок исполнение обзвон текущий клиент цель контроль качество организация приезд нахождение алматы сотрудниковстажер другой город обеспечение бесперебойный работа офис сбор задача департамент контроль исполнение срок предоставление информация первый руководитель координация водитель ведение табель оказание помощь работа департамент необходимость поиск кандидат открытый вакансия навык знание компьютер программа приветствоваться знание кадровый производстванавыка знание компьютер программа приветствоваться знание кадровый поручение первый руководитель рамка служебный обязанность организация собрание ведение протокол организация встреча составление рабочий графика первый руководитель</td>\n",
       "    </tr>\n",
       "    <tr>\n",
       "      <th>16200</th>\n",
       "      <td>3341</td>\n",
       "      <td>приём отправка входящий исходящий корреспонденция документ письмо административный поддержка деятельность руководитель организация встреча совещание подготовка информационный материал протоколирование совещание приём переадресация телефонный звонок организация деловой поездка заказ авиа жд билет бронирование гостиница функция гостеприимство чай кофе сбор информация анализ информация вывод предложение задача поставить руководитель</td>\n",
       "    </tr>\n",
       "    <tr>\n",
       "      <th>16201</th>\n",
       "      <td>3341</td>\n",
       "      <td>встречать направлять клиент вход ресепшен отвечать входящий телефонный звонок необходимость переадресовывать регистрация исходящий входящий документация составление авансовый отчтовый проездной документ составлять командировочный сотрудник компания заказывать билет оформлять необходимый документ заказывать гостиница вести телефонный переговоры клиент предприятие цель привлечение обслуживание тс сервисный центр работать пассивный клиент ориентировать услуга предлагать сервисный центр следить поддерживать порядок зона ресепшен зона отдых производить контролировать заказ канцелярский товар отдел компания производить отправка контроль почтовый курьерский сообщение формирование документ дело передача архив предприятие сообщать непосредственный руководитель поступать информация</td>\n",
       "    </tr>\n",
       "    <tr>\n",
       "      <th>16202</th>\n",
       "      <td>3341</td>\n",
       "      <td>приём регистрация входящий звонок регистрация входящихисходящий документ служебный записка направление адресат подготовка письмо производственный приказ предоставление документ подпись руководитель обеспечение офис канцтовары расходный материал иной товарноматериальный ценность необходимый работа офис работа курьерский служба исполнение поручение руководство начальник отдел бухгалтерия</td>\n",
       "    </tr>\n",
       "    <tr>\n",
       "      <th>16203</th>\n",
       "      <td>6121</td>\n",
       "      <td>соблюдение должностной инструкция правило внутренний распорядок соблюдение техника безопасность</td>\n",
       "    </tr>\n",
       "  </tbody>\n",
       "</table>\n",
       "<p>16204 rows × 2 columns</p>\n",
       "</div>"
      ],
      "text/plain": [
       "       code  \\\n",
       "0       111   \n",
       "1      1111   \n",
       "2      1112   \n",
       "3      1113   \n",
       "4      1114   \n",
       "...     ...   \n",
       "16199  3341   \n",
       "16200  3341   \n",
       "16201  3341   \n",
       "16202  3341   \n",
       "16203  6121   \n",
       "\n",
       "                                                                                                                                                                                                                                                                                                                                                                                                                                                                                                                                                                                                                                                                                                                                                                                                                                                                                                                                                                                                                                                                                                                                                                                                                                                                                  text  \n",
       "0                                                                                                                                                                                                                                                      руководство участие работа законодательный орган административный совет правительство законодательный собрание орган местный самоуправление общественный организация служба государственный административный орган официальный комитет расследование вопрос касаться интерес общество целое затрагивать интерес избиратель разработка консультирование вопрос проведение государственный политика исполнение бюджет законодательство нормативный обеспечение установление цель организация разработка утверждение оценка программа политика процедура реализация рекомендация анализ оценка утверждение документ информационный записка представить доклад обеспечение надлежащий система процедура который разработать реализоваться обеспечение контроль исполнение бюджет выделение использование государственный земля другой ресурс выполнение церемониальный обязанность представительство имя государство правительство организация сообщество официальный мероприятие встреча переговоры собрание общественный слушание  \n",
       "1                                                                                                                                                                                                                                                                                                                                                       участие заседание федеральный региональный орган законодательный власть  рассмотрение проект законодательный акт работа комитет комиссия палата работа согласительный специальный комиссия также рабочий группа  внесение парламентский запрос депутатский запрос обращение вопрос руководство исполнительный орган власть контроль исполнение они законодательный акт  обращение соответствовать должностной лицо требование принять мера немедленный пресечение обнаружиться нарушение право гражданин  изучение вопрос представлять интерес общественность защита интерес избиратель который представлять  исполнение представительский функция проведение встреча направить оказание услуга сообщество изучение запрос различный группа население гражданин  ведение переговоры другой законодатель представитель заинтересованный группа примирение различный интерес выработка политика достижение общественный согласие  \n",
       "2       разработка контроль исполнение государственный бюджет проведение единый финансовый кредитный денежный политика  разработка мера проведение единый государственный политика область культура наука образование здравоохранение социальный обеспечение экология  осуществление мера обеспечение оборона страна государственный безопасность реализация внешний политика законность право свобода гражданин охрана собственность общественный порядок борьба преступность  разработка стратегический цель министерство ведомство соответствие законодательство реализовать политика планирование координация контроль осуществление  разработка утверждение оценка программа процедура реализация государственный политика целое соответствие предмет ведение  подготовка утверждение ведомственный нормативный правовой акт анализ оценка утверждение методический документ информационный записка доклад ход исполнение государственный ведомственный иной программа  обеспечение надлежащий система процедура который разработать реализоваться обеспечение контроль исполнение бюджет  координация деятельность другой высокий правительственный служащий должностной лицо  надзор реализация государственный политика соблюдение законодательство юридический лицо гражданин  \n",
       "3                                                                                                                                                                                                                                                                                                                                                                                                                                                                                                                                                                                                                                                                                                                                                                                                                                                                                                                                                           управление муниципальный собственность  формирование утверждение обеспечение исполнение местный бюджет  установление местный налог сбор  осуществление охрана общественный порядок  представительство свой поселение высокий орган государственный власть  информирование местный сообщество государственный норма правило  \n",
       "4                                                                                                                                                                                                                       определение формулирование политика норма правило организация  осуществление планирование управление координация общий функционирование организация  обзор деятельность результат деятельность организация предоставление отчётность совет директор руководящий орган членский организация финансовый учреждение  проведение переговоры имя организация член соответствующий группа особый интерес  соблюдение интерес организация член соответствующий группа особый интерес законодательный власть правительство широкий общественность  планирование организация управление отдельный направление деятельность связанный реализация общий политика выполнение программа соблюдение правило положение  обеспечение надлежащий система процедура который разработать реализоваться обеспечение контроль исполнение бюджет  мониторинг оценка деятельность организация предприятие учёт установленный цель проводить политика  представительство имя организация официальный мероприятие заседание совет директор переговоры съезд общественный слушание форум  \n",
       "...                                                                                                                                                                                                                                                                                                                                                                                                                                                                                                                                                                                                                                                                                                                                                                                                                                                                                                                                                                                                                                                                                                                                                                                                                                                                                ...  \n",
       "16199                                                                                                                                  обязанность исполнение поручение первый руководитель рамка служебный обязанность организация собрание ведение протокол организация встреча составление рабочий графика первый руководитель контроль качество работа администратор поиск замена преподаватель сбор обработка заявка филиал контроль работа преподаватель внешний центр организация промоакция трц заказ печатный материал дизайнер типография контроль качество срок исполнение обзвон текущий клиент цель контроль качество организация приезд нахождение алматы сотрудниковстажер другой город обеспечение бесперебойный работа офис сбор задача департамент контроль исполнение срок предоставление информация первый руководитель координация водитель ведение табель оказание помощь работа департамент необходимость поиск кандидат открытый вакансия навык знание компьютер программа приветствоваться знание кадровый производстванавыка знание компьютер программа приветствоваться знание кадровый поручение первый руководитель рамка служебный обязанность организация собрание ведение протокол организация встреча составление рабочий графика первый руководитель  \n",
       "16200                                                                                                                                                                                                                                                                                                                                                                                                                                                                                                                                                                                                                                                                                                                                                                                                                                приём отправка входящий исходящий корреспонденция документ письмо административный поддержка деятельность руководитель организация встреча совещание подготовка информационный материал протоколирование совещание приём переадресация телефонный звонок организация деловой поездка заказ авиа жд билет бронирование гостиница функция гостеприимство чай кофе сбор информация анализ информация вывод предложение задача поставить руководитель  \n",
       "16201                                                                                                                                                                                                                                                                                                                                                                                                                                                                   встречать направлять клиент вход ресепшен отвечать входящий телефонный звонок необходимость переадресовывать регистрация исходящий входящий документация составление авансовый отчтовый проездной документ составлять командировочный сотрудник компания заказывать билет оформлять необходимый документ заказывать гостиница вести телефонный переговоры клиент предприятие цель привлечение обслуживание тс сервисный центр работать пассивный клиент ориентировать услуга предлагать сервисный центр следить поддерживать порядок зона ресепшен зона отдых производить контролировать заказ канцелярский товар отдел компания производить отправка контроль почтовый курьерский сообщение формирование документ дело передача архив предприятие сообщать непосредственный руководитель поступать информация  \n",
       "16202                                                                                                                                                                                                                                                                                                                                                                                                                                                                                                                                                                                                                                                                                                                                                                                                                                                                             приём регистрация входящий звонок регистрация входящихисходящий документ служебный записка направление адресат подготовка письмо производственный приказ предоставление документ подпись руководитель обеспечение офис канцтовары расходный материал иной товарноматериальный ценность необходимый работа офис работа курьерский служба исполнение поручение руководство начальник отдел бухгалтерия  \n",
       "16203                                                                                                                                                                                                                                                                                                                                                                                                                                                                                                                                                                                                                                                                                                                                                                                                                                                                                                                                                                                                                                                                                                                                                                                  соблюдение должностной инструкция правило внутренний распорядок соблюдение техника безопасность  \n",
       "\n",
       "[16204 rows x 2 columns]"
      ]
     },
     "execution_count": 65,
     "metadata": {},
     "output_type": "execute_result"
    }
   ],
   "source": [
    "full_training"
   ]
  },
  {
   "cell_type": "code",
   "execution_count": 67,
   "metadata": {},
   "outputs": [
    {
     "name": "stderr",
     "output_type": "stream",
     "text": [
      "/tmp/ipykernel_105453/1446441042.py:1: SettingWithCopyWarning: \n",
      "A value is trying to be set on a copy of a slice from a DataFrame\n",
      "\n",
      "See the caveats in the documentation: https://pandas.pydata.org/pandas-docs/stable/user_guide/indexing.html#returning-a-view-versus-a-copy\n",
      "  train_unmarked.rename(columns={'redacted description':'text'}, inplace=True)\n"
     ]
    }
   ],
   "source": [
    "train_unmarked.rename(columns={'redacted description':'text'}, inplace=True)"
   ]
  },
  {
   "cell_type": "code",
   "execution_count": 68,
   "metadata": {},
   "outputs": [
    {
     "data": {
      "text/html": [
       "<div>\n",
       "<style scoped>\n",
       "    .dataframe tbody tr th:only-of-type {\n",
       "        vertical-align: middle;\n",
       "    }\n",
       "\n",
       "    .dataframe tbody tr th {\n",
       "        vertical-align: top;\n",
       "    }\n",
       "\n",
       "    .dataframe thead th {\n",
       "        text-align: right;\n",
       "    }\n",
       "</style>\n",
       "<table border=\"1\" class=\"dataframe\">\n",
       "  <thead>\n",
       "    <tr style=\"text-align: right;\">\n",
       "      <th></th>\n",
       "      <th>text</th>\n",
       "      <th>code</th>\n",
       "    </tr>\n",
       "  </thead>\n",
       "  <tbody>\n",
       "    <tr>\n",
       "      <th>0</th>\n",
       "      <td>работа касса открытие закрытие смена вежливый работа гость контроль чистота зал знание пк контроль отдача готовый блюдо</td>\n",
       "      <td>5131</td>\n",
       "    </tr>\n",
       "    <tr>\n",
       "      <th>1</th>\n",
       "      <td>выкладка товар соответствие планограмма консультирование покупатель косметический продукция работа касса кассовый документация поддержание чистота порядок магазин контроль сохранность товар</td>\n",
       "      <td>5223</td>\n",
       "    </tr>\n",
       "    <tr>\n",
       "      <th>3</th>\n",
       "      <td>организация производство работа кровля оформление наряддопуск ведение исполнительнотехнический документация журнал работа получение тмц склад</td>\n",
       "      <td>3123</td>\n",
       "    </tr>\n",
       "    <tr>\n",
       "      <th>4</th>\n",
       "      <td>обязанность обслуживание покупатель касса наличный безналичный расчёт выкладка товар зал отслеживание срок годность товар проверка наличие ценник консультация покупатель зал требование ответственность внимательность условие график работа возможный неполный рабочий день неполный рабочий неделя возможность подработка работа совместительство социальный гарантия оплата отпуск больничный лист работа рядом дом скидка магазин сеть фирменный спецодежда возможность профессиональный карьерный рост корпоративный обучение корпоративный мероприятие конкурсымедицинский страховка формат телемедициныдоплата стаж</td>\n",
       "      <td>5223</td>\n",
       "    </tr>\n",
       "    <tr>\n",
       "      <th>10</th>\n",
       "      <td>полный ведение бухгалтерский налоговый кадровый учёт платёж клиент банк выставление акт выполнить работа услуга автомойкиконтроль дебиторский кредиторский задолженностикассакомпания предоставлять полный социальный пакет официальный трудоустройство работа удалённый свободный график заработный плата оговариваться собеседование</td>\n",
       "      <td>2411</td>\n",
       "    </tr>\n",
       "    <tr>\n",
       "      <th>...</th>\n",
       "      <td>...</td>\n",
       "      <td>...</td>\n",
       "    </tr>\n",
       "    <tr>\n",
       "      <th>29990</th>\n",
       "      <td>планирование координация ведение рабочий графика календарь руководитель участие переговоры деловой встреча ведение протокол организация совещание корпоративный мероприятие поддержка руководитель выполнение поручение руководитель работа документооборот контроль исполнение поручение руководитель осуществление сбор материал информация необходимый руководитель умение слышать руководитель проявлять инициатива быстро реагировать непредвиденный ситуация знание английский язык необязательно приветствоваться</td>\n",
       "      <td>4120</td>\n",
       "    </tr>\n",
       "    <tr>\n",
       "      <th>29992</th>\n",
       "      <td>выполнение обязанность соответствие должностной инструкция</td>\n",
       "      <td>8343</td>\n",
       "    </tr>\n",
       "    <tr>\n",
       "      <th>29994</th>\n",
       "      <td>заполнение письмо отправка почтовый корреспонденция приём документация клиент встреча клиент ведение документооборот компания оформление заказ канцтовары вода содержание офис чистота иной поручение руководитель</td>\n",
       "      <td>3341</td>\n",
       "    </tr>\n",
       "    <tr>\n",
       "      <th>29996</th>\n",
       "      <td>группа компания ооо обязанностиюметобязанность требоваться разнорабочий дворникподметание территория улицесбор вынос мусор мелкий косметический ремонтпосадка полить цвет покос трава сезон график работа договорённость обязательно полный рабочий день оформление тк рф зп банковский карта аванс зп оклад вычет ежемесячно</td>\n",
       "      <td>9622</td>\n",
       "    </tr>\n",
       "    <tr>\n",
       "      <th>29998</th>\n",
       "      <td>производить распиловка бревно брус заготовка круглый лесоматериал различный порода пиломатериал общий назначение производить регулирование величина посылка пиломатериал производить регулирование направлять нож производить продольный раскрой кряж разный порода брус ванчес производство строганый шпон схема раскрой ленточнопильный станок лесорам производить распиловка бревно брус различный порода древесина пиломатериал внутрисоюзный экспертный назначение лесопильный рама специализированный лесопильный поток производить выбор оптимальный режим пиление производить смена постав пить приёмка правка пить постав определять причина неисправность работа оборудование устранение</td>\n",
       "      <td>6210</td>\n",
       "    </tr>\n",
       "  </tbody>\n",
       "</table>\n",
       "<p>14345 rows × 2 columns</p>\n",
       "</div>"
      ],
      "text/plain": [
       "                                                                                                                                                                                                                                                                                                                                                                                                                                                                                                                                                                                                                                                                                                     text  \\\n",
       "0                                                                                                                                                                                                                                                                                                                                                                                                                                                                                                                                                                                 работа касса открытие закрытие смена вежливый работа гость контроль чистота зал знание пк контроль отдача готовый блюдо   \n",
       "1                                                                                                                                                                                                                                                                                                                                                                                                                                                                                                           выкладка товар соответствие планограмма консультирование покупатель косметический продукция работа касса кассовый документация поддержание чистота порядок магазин контроль сохранность товар   \n",
       "3                                                                                                                                                                                                                                                                                                                                                                                                                                                                                                                                                           организация производство работа кровля оформление наряддопуск ведение исполнительнотехнический документация журнал работа получение тмц склад   \n",
       "4                                                                             обязанность обслуживание покупатель касса наличный безналичный расчёт выкладка товар зал отслеживание срок годность товар проверка наличие ценник консультация покупатель зал требование ответственность внимательность условие график работа возможный неполный рабочий день неполный рабочий неделя возможность подработка работа совместительство социальный гарантия оплата отпуск больничный лист работа рядом дом скидка магазин сеть фирменный спецодежда возможность профессиональный карьерный рост корпоративный обучение корпоративный мероприятие конкурсымедицинский страховка формат телемедициныдоплата стаж   \n",
       "10                                                                                                                                                                                                                                                                                                                                                                 полный ведение бухгалтерский налоговый кадровый учёт платёж клиент банк выставление акт выполнить работа услуга автомойкиконтроль дебиторский кредиторский задолженностикассакомпания предоставлять полный социальный пакет официальный трудоустройство работа удалённый свободный график заработный плата оговариваться собеседование   \n",
       "...                                                                                                                                                                                                                                                                                                                                                                                                                                                                                                                                                                                                                                                                                                   ...   \n",
       "29990                                                                                                                                                                            планирование координация ведение рабочий графика календарь руководитель участие переговоры деловой встреча ведение протокол организация совещание корпоративный мероприятие поддержка руководитель выполнение поручение руководитель работа документооборот контроль исполнение поручение руководитель осуществление сбор материал информация необходимый руководитель умение слышать руководитель проявлять инициатива быстро реагировать непредвиденный ситуация знание английский язык необязательно приветствоваться   \n",
       "29992                                                                                                                                                                                                                                                                                                                                                                                                                                                                                                                                                                                                                                          выполнение обязанность соответствие должностной инструкция   \n",
       "29994                                                                                                                                                                                                                                                                                                                                                                                                                                                                                  заполнение письмо отправка почтовый корреспонденция приём документация клиент встреча клиент ведение документооборот компания оформление заказ канцтовары вода содержание офис чистота иной поручение руководитель   \n",
       "29996                                                                                                                                                                                                                                                                                                                                                                       группа компания ооо обязанностиюметобязанность требоваться разнорабочий дворникподметание территория улицесбор вынос мусор мелкий косметический ремонтпосадка полить цвет покос трава сезон график работа договорённость обязательно полный рабочий день оформление тк рф зп банковский карта аванс зп оклад вычет ежемесячно   \n",
       "29998  производить распиловка бревно брус заготовка круглый лесоматериал различный порода пиломатериал общий назначение производить регулирование величина посылка пиломатериал производить регулирование направлять нож производить продольный раскрой кряж разный порода брус ванчес производство строганый шпон схема раскрой ленточнопильный станок лесорам производить распиловка бревно брус различный порода древесина пиломатериал внутрисоюзный экспертный назначение лесопильный рама специализированный лесопильный поток производить выбор оптимальный режим пиление производить смена постав пить приёмка правка пить постав определять причина неисправность работа оборудование устранение   \n",
       "\n",
       "       code  \n",
       "0      5131  \n",
       "1      5223  \n",
       "3      3123  \n",
       "4      5223  \n",
       "10     2411  \n",
       "...     ...  \n",
       "29990  4120  \n",
       "29992  8343  \n",
       "29994  3341  \n",
       "29996  9622  \n",
       "29998  6210  \n",
       "\n",
       "[14345 rows x 2 columns]"
      ]
     },
     "execution_count": 68,
     "metadata": {},
     "output_type": "execute_result"
    }
   ],
   "source": [
    "train_unmarked"
   ]
  },
  {
   "cell_type": "code",
   "execution_count": 69,
   "metadata": {},
   "outputs": [
    {
     "data": {
      "text/html": [
       "<div>\n",
       "<style scoped>\n",
       "    .dataframe tbody tr th:only-of-type {\n",
       "        vertical-align: middle;\n",
       "    }\n",
       "\n",
       "    .dataframe tbody tr th {\n",
       "        vertical-align: top;\n",
       "    }\n",
       "\n",
       "    .dataframe thead th {\n",
       "        text-align: right;\n",
       "    }\n",
       "</style>\n",
       "<table border=\"1\" class=\"dataframe\">\n",
       "  <thead>\n",
       "    <tr style=\"text-align: right;\">\n",
       "      <th></th>\n",
       "      <th>code</th>\n",
       "      <th>text</th>\n",
       "    </tr>\n",
       "  </thead>\n",
       "  <tbody>\n",
       "    <tr>\n",
       "      <th>0</th>\n",
       "      <td>111</td>\n",
       "      <td>руководство участие работа законодательный орган административный совет правительство законодательный собрание орган местный самоуправление общественный организация служба государственный административный орган официальный комитет расследование вопрос касаться интерес общество целое затрагивать интерес избиратель разработка консультирование вопрос проведение государственный политика исполнение бюджет законодательство нормативный обеспечение установление цель организация разработка утверждение оценка программа политика процедура реализация рекомендация анализ оценка утверждение документ информационный записка представить доклад обеспечение надлежащий система процедура который разработать реализоваться обеспечение контроль исполнение бюджет выделение использование государственный земля другой ресурс выполнение церемониальный обязанность представительство имя государство правительство организация сообщество официальный мероприятие встреча переговоры собрание общественный слушание</td>\n",
       "    </tr>\n",
       "    <tr>\n",
       "      <th>1</th>\n",
       "      <td>1111</td>\n",
       "      <td>участие заседание федеральный региональный орган законодательный власть  рассмотрение проект законодательный акт работа комитет комиссия палата работа согласительный специальный комиссия также рабочий группа  внесение парламентский запрос депутатский запрос обращение вопрос руководство исполнительный орган власть контроль исполнение они законодательный акт  обращение соответствовать должностной лицо требование принять мера немедленный пресечение обнаружиться нарушение право гражданин  изучение вопрос представлять интерес общественность защита интерес избиратель который представлять  исполнение представительский функция проведение встреча направить оказание услуга сообщество изучение запрос различный группа население гражданин  ведение переговоры другой законодатель представитель заинтересованный группа примирение различный интерес выработка политика достижение общественный согласие</td>\n",
       "    </tr>\n",
       "    <tr>\n",
       "      <th>2</th>\n",
       "      <td>1112</td>\n",
       "      <td>разработка контроль исполнение государственный бюджет проведение единый финансовый кредитный денежный политика  разработка мера проведение единый государственный политика область культура наука образование здравоохранение социальный обеспечение экология  осуществление мера обеспечение оборона страна государственный безопасность реализация внешний политика законность право свобода гражданин охрана собственность общественный порядок борьба преступность  разработка стратегический цель министерство ведомство соответствие законодательство реализовать политика планирование координация контроль осуществление  разработка утверждение оценка программа процедура реализация государственный политика целое соответствие предмет ведение  подготовка утверждение ведомственный нормативный правовой акт анализ оценка утверждение методический документ информационный записка доклад ход исполнение государственный ведомственный иной программа  обеспечение надлежащий система процедура который разработать реализоваться обеспечение контроль исполнение бюджет  координация деятельность другой высокий правительственный служащий должностной лицо  надзор реализация государственный политика соблюдение законодательство юридический лицо гражданин</td>\n",
       "    </tr>\n",
       "    <tr>\n",
       "      <th>3</th>\n",
       "      <td>1113</td>\n",
       "      <td>управление муниципальный собственность  формирование утверждение обеспечение исполнение местный бюджет  установление местный налог сбор  осуществление охрана общественный порядок  представительство свой поселение высокий орган государственный власть  информирование местный сообщество государственный норма правило</td>\n",
       "    </tr>\n",
       "    <tr>\n",
       "      <th>4</th>\n",
       "      <td>1114</td>\n",
       "      <td>определение формулирование политика норма правило организация  осуществление планирование управление координация общий функционирование организация  обзор деятельность результат деятельность организация предоставление отчётность совет директор руководящий орган членский организация финансовый учреждение  проведение переговоры имя организация член соответствующий группа особый интерес  соблюдение интерес организация член соответствующий группа особый интерес законодательный власть правительство широкий общественность  планирование организация управление отдельный направление деятельность связанный реализация общий политика выполнение программа соблюдение правило положение  обеспечение надлежащий система процедура который разработать реализоваться обеспечение контроль исполнение бюджет  мониторинг оценка деятельность организация предприятие учёт установленный цель проводить политика  представительство имя организация официальный мероприятие заседание совет директор переговоры съезд общественный слушание форум</td>\n",
       "    </tr>\n",
       "    <tr>\n",
       "      <th>...</th>\n",
       "      <td>...</td>\n",
       "      <td>...</td>\n",
       "    </tr>\n",
       "    <tr>\n",
       "      <th>30544</th>\n",
       "      <td>4120</td>\n",
       "      <td>планирование координация ведение рабочий графика календарь руководитель участие переговоры деловой встреча ведение протокол организация совещание корпоративный мероприятие поддержка руководитель выполнение поручение руководитель работа документооборот контроль исполнение поручение руководитель осуществление сбор материал информация необходимый руководитель умение слышать руководитель проявлять инициатива быстро реагировать непредвиденный ситуация знание английский язык необязательно приветствоваться</td>\n",
       "    </tr>\n",
       "    <tr>\n",
       "      <th>30545</th>\n",
       "      <td>8343</td>\n",
       "      <td>выполнение обязанность соответствие должностной инструкция</td>\n",
       "    </tr>\n",
       "    <tr>\n",
       "      <th>30546</th>\n",
       "      <td>3341</td>\n",
       "      <td>заполнение письмо отправка почтовый корреспонденция приём документация клиент встреча клиент ведение документооборот компания оформление заказ канцтовары вода содержание офис чистота иной поручение руководитель</td>\n",
       "    </tr>\n",
       "    <tr>\n",
       "      <th>30547</th>\n",
       "      <td>9622</td>\n",
       "      <td>группа компания ооо обязанностиюметобязанность требоваться разнорабочий дворникподметание территория улицесбор вынос мусор мелкий косметический ремонтпосадка полить цвет покос трава сезон график работа договорённость обязательно полный рабочий день оформление тк рф зп банковский карта аванс зп оклад вычет ежемесячно</td>\n",
       "    </tr>\n",
       "    <tr>\n",
       "      <th>30548</th>\n",
       "      <td>6210</td>\n",
       "      <td>производить распиловка бревно брус заготовка круглый лесоматериал различный порода пиломатериал общий назначение производить регулирование величина посылка пиломатериал производить регулирование направлять нож производить продольный раскрой кряж разный порода брус ванчес производство строганый шпон схема раскрой ленточнопильный станок лесорам производить распиловка бревно брус различный порода древесина пиломатериал внутрисоюзный экспертный назначение лесопильный рама специализированный лесопильный поток производить выбор оптимальный режим пиление производить смена постав пить приёмка правка пить постав определять причина неисправность работа оборудование устранение</td>\n",
       "    </tr>\n",
       "  </tbody>\n",
       "</table>\n",
       "<p>30549 rows × 2 columns</p>\n",
       "</div>"
      ],
      "text/plain": [
       "       code  \\\n",
       "0       111   \n",
       "1      1111   \n",
       "2      1112   \n",
       "3      1113   \n",
       "4      1114   \n",
       "...     ...   \n",
       "30544  4120   \n",
       "30545  8343   \n",
       "30546  3341   \n",
       "30547  9622   \n",
       "30548  6210   \n",
       "\n",
       "                                                                                                                                                                                                                                                                                                                                                                                                                                                                                                                                                                                                                                                                                                                                                                                                                                                                                                                                                                                                                                                                                                                                                                                                                                                                                  text  \n",
       "0                                                                                                                                                                                                                                                      руководство участие работа законодательный орган административный совет правительство законодательный собрание орган местный самоуправление общественный организация служба государственный административный орган официальный комитет расследование вопрос касаться интерес общество целое затрагивать интерес избиратель разработка консультирование вопрос проведение государственный политика исполнение бюджет законодательство нормативный обеспечение установление цель организация разработка утверждение оценка программа политика процедура реализация рекомендация анализ оценка утверждение документ информационный записка представить доклад обеспечение надлежащий система процедура который разработать реализоваться обеспечение контроль исполнение бюджет выделение использование государственный земля другой ресурс выполнение церемониальный обязанность представительство имя государство правительство организация сообщество официальный мероприятие встреча переговоры собрание общественный слушание  \n",
       "1                                                                                                                                                                                                                                                                                                                                                       участие заседание федеральный региональный орган законодательный власть  рассмотрение проект законодательный акт работа комитет комиссия палата работа согласительный специальный комиссия также рабочий группа  внесение парламентский запрос депутатский запрос обращение вопрос руководство исполнительный орган власть контроль исполнение они законодательный акт  обращение соответствовать должностной лицо требование принять мера немедленный пресечение обнаружиться нарушение право гражданин  изучение вопрос представлять интерес общественность защита интерес избиратель который представлять  исполнение представительский функция проведение встреча направить оказание услуга сообщество изучение запрос различный группа население гражданин  ведение переговоры другой законодатель представитель заинтересованный группа примирение различный интерес выработка политика достижение общественный согласие  \n",
       "2       разработка контроль исполнение государственный бюджет проведение единый финансовый кредитный денежный политика  разработка мера проведение единый государственный политика область культура наука образование здравоохранение социальный обеспечение экология  осуществление мера обеспечение оборона страна государственный безопасность реализация внешний политика законность право свобода гражданин охрана собственность общественный порядок борьба преступность  разработка стратегический цель министерство ведомство соответствие законодательство реализовать политика планирование координация контроль осуществление  разработка утверждение оценка программа процедура реализация государственный политика целое соответствие предмет ведение  подготовка утверждение ведомственный нормативный правовой акт анализ оценка утверждение методический документ информационный записка доклад ход исполнение государственный ведомственный иной программа  обеспечение надлежащий система процедура который разработать реализоваться обеспечение контроль исполнение бюджет  координация деятельность другой высокий правительственный служащий должностной лицо  надзор реализация государственный политика соблюдение законодательство юридический лицо гражданин  \n",
       "3                                                                                                                                                                                                                                                                                                                                                                                                                                                                                                                                                                                                                                                                                                                                                                                                                                                                                                                                                           управление муниципальный собственность  формирование утверждение обеспечение исполнение местный бюджет  установление местный налог сбор  осуществление охрана общественный порядок  представительство свой поселение высокий орган государственный власть  информирование местный сообщество государственный норма правило  \n",
       "4                                                                                                                                                                                                                       определение формулирование политика норма правило организация  осуществление планирование управление координация общий функционирование организация  обзор деятельность результат деятельность организация предоставление отчётность совет директор руководящий орган членский организация финансовый учреждение  проведение переговоры имя организация член соответствующий группа особый интерес  соблюдение интерес организация член соответствующий группа особый интерес законодательный власть правительство широкий общественность  планирование организация управление отдельный направление деятельность связанный реализация общий политика выполнение программа соблюдение правило положение  обеспечение надлежащий система процедура который разработать реализоваться обеспечение контроль исполнение бюджет  мониторинг оценка деятельность организация предприятие учёт установленный цель проводить политика  представительство имя организация официальный мероприятие заседание совет директор переговоры съезд общественный слушание форум  \n",
       "...                                                                                                                                                                                                                                                                                                                                                                                                                                                                                                                                                                                                                                                                                                                                                                                                                                                                                                                                                                                                                                                                                                                                                                                                                                                                                ...  \n",
       "30544                                                                                                                                                                                                                                                                                                                                                                                                                                                                                                                                                                                                                                                                                                                                                         планирование координация ведение рабочий графика календарь руководитель участие переговоры деловой встреча ведение протокол организация совещание корпоративный мероприятие поддержка руководитель выполнение поручение руководитель работа документооборот контроль исполнение поручение руководитель осуществление сбор материал информация необходимый руководитель умение слышать руководитель проявлять инициатива быстро реагировать непредвиденный ситуация знание английский язык необязательно приветствоваться  \n",
       "30545                                                                                                                                                                                                                                                                                                                                                                                                                                                                                                                                                                                                                                                                                                                                                                                                                                                                                                                                                                                                                                                                                                                                                                                                                       выполнение обязанность соответствие должностной инструкция  \n",
       "30546                                                                                                                                                                                                                                                                                                                                                                                                                                                                                                                                                                                                                                                                                                                                                                                                                                                                                                                                                                                                                                                               заполнение письмо отправка почтовый корреспонденция приём документация клиент встреча клиент ведение документооборот компания оформление заказ канцтовары вода содержание офис чистота иной поручение руководитель  \n",
       "30547                                                                                                                                                                                                                                                                                                                                                                                                                                                                                                                                                                                                                                                                                                                                                                                                                                                                                                                                                    группа компания ооо обязанностиюметобязанность требоваться разнорабочий дворникподметание территория улицесбор вынос мусор мелкий косметический ремонтпосадка полить цвет покос трава сезон график работа договорённость обязательно полный рабочий день оформление тк рф зп банковский карта аванс зп оклад вычет ежемесячно  \n",
       "30548                                                                                                                                                                                                                                                                                                                                                                                                                                                                                                                                                                               производить распиловка бревно брус заготовка круглый лесоматериал различный порода пиломатериал общий назначение производить регулирование величина посылка пиломатериал производить регулирование направлять нож производить продольный раскрой кряж разный порода брус ванчес производство строганый шпон схема раскрой ленточнопильный станок лесорам производить распиловка бревно брус различный порода древесина пиломатериал внутрисоюзный экспертный назначение лесопильный рама специализированный лесопильный поток производить выбор оптимальный режим пиление производить смена постав пить приёмка правка пить постав определять причина неисправность работа оборудование устранение  \n",
       "\n",
       "[30549 rows x 2 columns]"
      ]
     },
     "execution_count": 69,
     "metadata": {},
     "output_type": "execute_result"
    }
   ],
   "source": [
    "fullest_training = pd.concat([full_training, train_unmarked[['code', 'text']]], ignore_index=True)\n",
    "fullest_training"
   ]
  },
  {
   "cell_type": "code",
   "execution_count": 147,
   "metadata": {},
   "outputs": [],
   "source": [
    "il_data = pd.read_csv(hack_data_path/'train_fd.csv')"
   ]
  },
  {
   "cell_type": "code",
   "execution_count": 159,
   "metadata": {},
   "outputs": [
    {
     "data": {
      "text/plain": [
       "PassiveAggressiveClassifier(max_iter=50000)"
      ]
     },
     "execution_count": 159,
     "metadata": {},
     "output_type": "execute_result"
    }
   ],
   "source": [
    "x_train1, x_test1, y_train1, y_test1 = train_test_split(fullest_training['text'], fullest_training['code'], test_size=0.15)\n",
    "vectorizer1 = TfidfVectorizer()\n",
    "tf_train1 = vectorizer1.fit_transform(x_train1)\n",
    "tf_test1 = vectorizer1.transform(x_test1)\n",
    "pas_ag1 = PassiveAggressiveClassifier(max_iter=50000)\n",
    "pas_ag1.fit(tf_train1, y_train1)"
   ]
  },
  {
   "cell_type": "code",
   "execution_count": 160,
   "metadata": {},
   "outputs": [
    {
     "data": {
      "text/plain": [
       "0.7691468470434213"
      ]
     },
     "execution_count": 160,
     "metadata": {},
     "output_type": "execute_result"
    }
   ],
   "source": [
    "pas_ag1.score(tf_test1, y_test1)"
   ]
  },
  {
   "cell_type": "code",
   "execution_count": 161,
   "metadata": {},
   "outputs": [],
   "source": [
    "final_results = final_test['index']\n",
    "final_feeding = final_test['redacted description']"
   ]
  },
  {
   "cell_type": "code",
   "execution_count": 162,
   "metadata": {},
   "outputs": [
    {
     "data": {
      "text/plain": [
       "array([8322, 3323, 5223, ..., 7212, 9333, 4222])"
      ]
     },
     "execution_count": 162,
     "metadata": {},
     "output_type": "execute_result"
    }
   ],
   "source": [
    "tf_pred1 = vectorizer1.transform(final_feeding)\n",
    "prof = pas_ag1.predict(tf_pred1)\n",
    "prof"
   ]
  },
  {
   "cell_type": "code",
   "execution_count": 163,
   "metadata": {},
   "outputs": [],
   "source": [
    "f_pr = pd.Series(prof)\n",
    "f_pr.name = 'target'"
   ]
  },
  {
   "cell_type": "code",
   "execution_count": 164,
   "metadata": {},
   "outputs": [],
   "source": [
    "finale1 = pd.concat([final_results, f_pr], axis=1)\n",
    "save_path = hack_data_path.parent/'Results'\n",
    "finale1.to_csv(save_path/'submission_pass_aggr_v4.csv', index=False)"
   ]
  },
  {
   "cell_type": "markdown",
   "metadata": {},
   "source": [
    "Предсказываем тестовые данные"
   ]
  },
  {
   "cell_type": "code",
   "execution_count": 50,
   "metadata": {},
   "outputs": [
    {
     "data": {
      "text/html": [
       "<div>\n",
       "<style scoped>\n",
       "    .dataframe tbody tr th:only-of-type {\n",
       "        vertical-align: middle;\n",
       "    }\n",
       "\n",
       "    .dataframe tbody tr th {\n",
       "        vertical-align: top;\n",
       "    }\n",
       "\n",
       "    .dataframe thead th {\n",
       "        text-align: right;\n",
       "    }\n",
       "</style>\n",
       "<table border=\"1\" class=\"dataframe\">\n",
       "  <thead>\n",
       "    <tr style=\"text-align: right;\">\n",
       "      <th></th>\n",
       "      <th>index</th>\n",
       "      <th>redacted description</th>\n",
       "    </tr>\n",
       "  </thead>\n",
       "  <tbody>\n",
       "    <tr>\n",
       "      <th>0</th>\n",
       "      <td>26461447</td>\n",
       "      <td>выполнение поступать заявка приложение контроль технический состояние автомобиль чистота порядок салон соблюдение стандарт компания</td>\n",
       "    </tr>\n",
       "    <tr>\n",
       "      <th>1</th>\n",
       "      <td>26464220</td>\n",
       "      <td>поиск поставщик ведение перевозка начало конец</td>\n",
       "    </tr>\n",
       "    <tr>\n",
       "      <th>2</th>\n",
       "      <td>26467473</td>\n",
       "      <td>обслуживание покупатель торговый зал зона примерочный кассовый зона выкладка довесок товар торговый зал совершенствование свой знание товар поддержание порядок чистота рабочий место</td>\n",
       "    </tr>\n",
       "    <tr>\n",
       "      <th>3</th>\n",
       "      <td>26468989</td>\n",
       "      <td>оформление приём перевод увольнение сотрудник отчётность сзвтд оформление личный дело заполнение учёт хранение трудовой книжка выдача справка настоящий прошлый трудовой деятельность оформление отпуск сотрудник график оформление командировка составление приказ ведение табель учёт рабочий время оформление больничный лист разработка лна правило внутренний распорядок положение отчёт отчётность численность состав работник защита персональный данные так учёт военнообязанный поиск подбор персонал</td>\n",
       "    </tr>\n",
       "    <tr>\n",
       "      <th>4</th>\n",
       "      <td>26471705</td>\n",
       "      <td>обработка входящий горячий заявка клиент первичный консультирование клиент телефон поиск запись гражданин очный приём профильный юрист компания весь работа телефон обучение процесс работа выполнение поручение руководитель</td>\n",
       "    </tr>\n",
       "    <tr>\n",
       "      <th>...</th>\n",
       "      <td>...</td>\n",
       "      <td>...</td>\n",
       "    </tr>\n",
       "    <tr>\n",
       "      <th>1085</th>\n",
       "      <td>33916809</td>\n",
       "      <td>контроль ход выполнение работа взаимодействие строительный техника срок соответствие сграфик производство работ;составленией подача заявка контроль поступленияматериал выполнение работа хранение изделие складированиеучёт контроль техника безопасность итрудовой дисциплина выполнить работа ведение журнал ведение сдача объектов;опытработа сфера строительство работас металлоконструкция бетонныеработа инженерный сеть планировказдание участок внутренний отделкаумение пк знание ичтение чертёж смет;знаниеспособ ведение строительный работстроительный норма коллектив рабочихусловие уровеньзаработный плата каждый заработный плата</td>\n",
       "    </tr>\n",
       "    <tr>\n",
       "      <th>1086</th>\n",
       "      <td>113912590</td>\n",
       "      <td>год являться один крупный поставщик посуда сувенирный изделие предмет домашний интерьер быт россия продажа наименование продукция произвести группа компания хороший фабрика китай россия европа больший часть товар произвести собственный торговый марка бренд один первый заняться производство реализация лицензионный товар опыт накопить область позволить мы стать лицензиат зимний олимпийский игра чемпионат мир футбол свой сотрудник ценить профессионализм нацеленность результат каждый понимать зависеть успешность эффективность весь компания вместе совершенствоваться каждый день связь расширение искать наш команда менеджер работа сеть обязанность развитие отношение региональный федеральный сеть поиск привлечение новый клиент партнёр вхождение новый крупный торговый сеть расширение дистрибьюция оптимизация условие сотрудничество ценовой политика обеспечение условие хороший представленность продукция ввод новый матрица работать сеть ротация ассортимент анализ активность конкурент анализ статистика продажа сеть планирование индивидуальный объём сбыт индивидуальный целевой показатель развитие активный клиентский база ведение переговоры уровень руководитель компания условие продажа продукция порядок проведение расчёт составление продавать коммерческий предложение проведение работа стимулирование продажа реализация специальный программа скидка бонус другой сбытовый акция выполнение план увеличение продажа возможный командировка участие выставка требование реальный успешный опыт продажа менеджер работа сеть менеджер работа ключевой клиент опыт продажа х год опыт работа локальный федеральный сеть опыт работа сегмент посуда подарок товар дом умение расставлять приоритет реагировать изменение ситуация умение вести переговоры добиваться поставить цель умение работать режим многозадачность высокий организаторский способность условие работа стабильный компания лидер рынок свой сегмент конкурентный заработный плата оклад совокупный доход р возможность карьерный рост график работа либо официальный трудоустройство место работа г королева ул калинин реальный успешный опыт продажа менеджер работа сеть менеджер работа ключевой клиент опыт продажа развитие отношение региональный федеральный сеть поиск привлечение новый клиент партнёр вхождение новый крупный торговый сеть расширение</td>\n",
       "    </tr>\n",
       "    <tr>\n",
       "      <th>1087</th>\n",
       "      <td>33948550</td>\n",
       "      <td>строительный участок требованияопыт работа строительный образование накс непросроченный ниже разряда;отсутствие рфусловие оформление трудовой договору; работа постоянный основа ивахтовый метод работа оклад премия рубоплата число каждый месяц задержка иногородний питание; вахтовик оплачиваться проездныебилет межвахтовый отдых обратно место работы; выдаваться спецодеждалетний зимний сезон обувь</td>\n",
       "    </tr>\n",
       "    <tr>\n",
       "      <th>1088</th>\n",
       "      <td>35926971</td>\n",
       "      <td>ехать москва вахта соседний город отличныйвариант достойный оплата условие работа вахтовый метод г тверь складпромтовары собрать наименование товаракакий задача стоятперёд сотрудник работан линия распределение товар территория разгрузкапогрузка перемещение товар склад сколько можнозаработать вахта смена рубль вахта смена рубль вахта смена рубль мочь предложить трудоустройствой заселение день обращение возможность бронь вакансия выпланировать поездка дальний регион размещений общежитие центр город размещение комната человек средняяставка смена рубль смена бесплатно проживание спецодежда питание корпоративный транспорт оформлениен ваш выбор договор трудовой книжка размер рубль акциидлить сотрудник компания привести друг компенсация проезд продливахтуполучить бонус карьерный рост расчетзаработный плата карта наличные каждый сотрудник время ждатьприходить мы офис колвый место ограниченно тывсегда мочь связаться мы телефон также доступный длятести вконтакте</td>\n",
       "    </tr>\n",
       "    <tr>\n",
       "      <th>1089</th>\n",
       "      <td>166397492</td>\n",
       "      <td>наш умный устройство окружать забота дом готовый составить компания вдали ктоть пользоваться станция легко нажатие кнопка находить фильм вечер переключать музыка другой пользователь создавать помощь устройство умный дом переживать включить утюжка возвращаться осветить квартира подогреть чайник другой помогать голосовой помощник алиса именно принимать команда распределять весь лампочка розетка телевизор алиса чтоть перепутать пользователь смочь разобраться подключение помощь прийти служба поддержка сервис алиса каждый день присоединяться новый пользователь искать отзывчивый специалист который легко радость позаботиться нужно делать отвечать сообщение пользователь почта чатах; консультировать вопрос связанный яндексом; передавать информация разработчик менеджер помогать улучшать сервисы; решать новый интересный задача постоянно расти меняться ждать грамотно писать порусски; уметь чётко структурированный излагать мысли; легко находить главный информация текст разный объема; уметь читать язык ; иметь высокий неоконченный высокий образование технический плюсом; помогать человек онлайн; уметь работать самостоятельно команде; готовый гибкий графику; ответственный стрессоустойчивый самоорганизованны; уметь работать больший объём информации; готовый учиться; уставать однообразный задача условие работа дома; оформление тк рф; полный занятость рабочий час неделю; гибкий график дневный рабочий неделя рабочий час день плавать выходной начало смена обсуждаться индивидуально; сдельный оплата; удалённый оплачивать обучение</td>\n",
       "    </tr>\n",
       "  </tbody>\n",
       "</table>\n",
       "<p>1090 rows × 2 columns</p>\n",
       "</div>"
      ],
      "text/plain": [
       "          index  \\\n",
       "0      26461447   \n",
       "1      26464220   \n",
       "2      26467473   \n",
       "3      26468989   \n",
       "4      26471705   \n",
       "...         ...   \n",
       "1085   33916809   \n",
       "1086  113912590   \n",
       "1087   33948550   \n",
       "1088   35926971   \n",
       "1089  166397492   \n",
       "\n",
       "                                                                                                                                                                                                                                                                                                                                                                                                                                                                                                                                                                                                                                                                                                                                                                                                                                                                                                                                                                                                                                                                                                                                                                                                                                                                                                                                                                                                                                                                                                                                                                                                                                                                                                                                                                                                                                                                                                                                                                                                                                                                                                                                                                                                                                                                                                                                                                          redacted description  \n",
       "0                                                                                                                                                                                                                                                                                                                                                                                                                                                                                                                                                                                                                                                                                                                                                                                                                                                                                                                                                                                                                                                                                                                                                                                                                                                                                                                                                                                                                                                                                                                                                                                                                                                                                                                                                                                                                                                                                                                                                                                                                                                                                                                                                                                                                                                          выполнение поступать заявка приложение контроль технический состояние автомобиль чистота порядок салон соблюдение стандарт компания  \n",
       "1                                                                                                                                                                                                                                                                                                                                                                                                                                                                                                                                                                                                                                                                                                                                                                                                                                                                                                                                                                                                                                                                                                                                                                                                                                                                                                                                                                                                                                                                                                                                                                                                                                                                                                                                                                                                                                                                                                                                                                                                                                                                                                                                                                                                                                                                                                                                               поиск поставщик ведение перевозка начало конец  \n",
       "2                                                                                                                                                                                                                                                                                                                                                                                                                                                                                                                                                                                                                                                                                                                                                                                                                                                                                                                                                                                                                                                                                                                                                                                                                                                                                                                                                                                                                                                                                                                                                                                                                                                                                                                                                                                                                                                                                                                                                                                                                                                                                                                                                                                                        обслуживание покупатель торговый зал зона примерочный кассовый зона выкладка довесок товар торговый зал совершенствование свой знание товар поддержание порядок чистота рабочий место  \n",
       "3                                                                                                                                                                                                                                                                                                                                                                                                                                                                                                                                                                                                                                                                                                                                                                                                                                                                                                                                                                                                                                                                                                                                                                                                                                                                                                                                                                                                                                                                                                                                                                                                                                                                                                                                                                                                                                                                               оформление приём перевод увольнение сотрудник отчётность сзвтд оформление личный дело заполнение учёт хранение трудовой книжка выдача справка настоящий прошлый трудовой деятельность оформление отпуск сотрудник график оформление командировка составление приказ ведение табель учёт рабочий время оформление больничный лист разработка лна правило внутренний распорядок положение отчёт отчётность численность состав работник защита персональный данные так учёт военнообязанный поиск подбор персонал  \n",
       "4                                                                                                                                                                                                                                                                                                                                                                                                                                                                                                                                                                                                                                                                                                                                                                                                                                                                                                                                                                                                                                                                                                                                                                                                                                                                                                                                                                                                                                                                                                                                                                                                                                                                                                                                                                                                                                                                                                                                                                                                                                                                                                                                                                обработка входящий горячий заявка клиент первичный консультирование клиент телефон поиск запись гражданин очный приём профильный юрист компания весь работа телефон обучение процесс работа выполнение поручение руководитель  \n",
       "...                                                                                                                                                                                                                                                                                                                                                                                                                                                                                                                                                                                                                                                                                                                                                                                                                                                                                                                                                                                                                                                                                                                                                                                                                                                                                                                                                                                                                                                                                                                                                                                                                                                                                                                                                                                                                                                                                                                                                                                                                                                                                                                                                                                                                                                                                                                                                                                        ...  \n",
       "1085                                                                                                                                                                                                                                                                                                                                                                                                                                                                                                                                                                                                                                                                                                                                                                                                                                                                                                                                                                                                                                                                                                                                                                                                                                                                                                                                                                                                                                                                                                                                                                                                                                                                                                                                        контроль ход выполнение работа взаимодействие строительный техника срок соответствие сграфик производство работ;составленией подача заявка контроль поступленияматериал выполнение работа хранение изделие складированиеучёт контроль техника безопасность итрудовой дисциплина выполнить работа ведение журнал ведение сдача объектов;опытработа сфера строительство работас металлоконструкция бетонныеработа инженерный сеть планировказдание участок внутренний отделкаумение пк знание ичтение чертёж смет;знаниеспособ ведение строительный работстроительный норма коллектив рабочихусловие уровеньзаработный плата каждый заработный плата  \n",
       "1086  год являться один крупный поставщик посуда сувенирный изделие предмет домашний интерьер быт россия продажа наименование продукция произвести группа компания хороший фабрика китай россия европа больший часть товар произвести собственный торговый марка бренд один первый заняться производство реализация лицензионный товар опыт накопить область позволить мы стать лицензиат зимний олимпийский игра чемпионат мир футбол свой сотрудник ценить профессионализм нацеленность результат каждый понимать зависеть успешность эффективность весь компания вместе совершенствоваться каждый день связь расширение искать наш команда менеджер работа сеть обязанность развитие отношение региональный федеральный сеть поиск привлечение новый клиент партнёр вхождение новый крупный торговый сеть расширение дистрибьюция оптимизация условие сотрудничество ценовой политика обеспечение условие хороший представленность продукция ввод новый матрица работать сеть ротация ассортимент анализ активность конкурент анализ статистика продажа сеть планирование индивидуальный объём сбыт индивидуальный целевой показатель развитие активный клиентский база ведение переговоры уровень руководитель компания условие продажа продукция порядок проведение расчёт составление продавать коммерческий предложение проведение работа стимулирование продажа реализация специальный программа скидка бонус другой сбытовый акция выполнение план увеличение продажа возможный командировка участие выставка требование реальный успешный опыт продажа менеджер работа сеть менеджер работа ключевой клиент опыт продажа х год опыт работа локальный федеральный сеть опыт работа сегмент посуда подарок товар дом умение расставлять приоритет реагировать изменение ситуация умение вести переговоры добиваться поставить цель умение работать режим многозадачность высокий организаторский способность условие работа стабильный компания лидер рынок свой сегмент конкурентный заработный плата оклад совокупный доход р возможность карьерный рост график работа либо официальный трудоустройство место работа г королева ул калинин реальный успешный опыт продажа менеджер работа сеть менеджер работа ключевой клиент опыт продажа развитие отношение региональный федеральный сеть поиск привлечение новый клиент партнёр вхождение новый крупный торговый сеть расширение  \n",
       "1087                                                                                                                                                                                                                                                                                                                                                                                                                                                                                                                                                                                                                                                                                                                                                                                                                                                                                                                                                                                                                                                                                                                                                                                                                                                                                                                                                                                                                                                                                                                                                                                                                                                                                                                                                                                                                                                                                                                                                                               строительный участок требованияопыт работа строительный образование накс непросроченный ниже разряда;отсутствие рфусловие оформление трудовой договору; работа постоянный основа ивахтовый метод работа оклад премия рубоплата число каждый месяц задержка иногородний питание; вахтовик оплачиваться проездныебилет межвахтовый отдых обратно место работы; выдаваться спецодеждалетний зимний сезон обувь  \n",
       "1088                                                                                                                                                                                                                                                                                                                                                                                                                                                                                                                                                                                                                                                                                                                                                                                                                                                                                                                                                                                                                                                                                                                                                                                                                                                                                                                                                                                    ехать москва вахта соседний город отличныйвариант достойный оплата условие работа вахтовый метод г тверь складпромтовары собрать наименование товаракакий задача стоятперёд сотрудник работан линия распределение товар территория разгрузкапогрузка перемещение товар склад сколько можнозаработать вахта смена рубль вахта смена рубль вахта смена рубль мочь предложить трудоустройствой заселение день обращение возможность бронь вакансия выпланировать поездка дальний регион размещений общежитие центр город размещение комната человек средняяставка смена рубль смена бесплатно проживание спецодежда питание корпоративный транспорт оформлениен ваш выбор договор трудовой книжка размер рубль акциидлить сотрудник компания привести друг компенсация проезд продливахтуполучить бонус карьерный рост расчетзаработный плата карта наличные каждый сотрудник время ждатьприходить мы офис колвый место ограниченно тывсегда мочь связаться мы телефон также доступный длятести вконтакте  \n",
       "1089                                                                                                                                                                                                                                                                                                                                                                                                                                                                                                                                                                                                                                                                                                                                                                                              наш умный устройство окружать забота дом готовый составить компания вдали ктоть пользоваться станция легко нажатие кнопка находить фильм вечер переключать музыка другой пользователь создавать помощь устройство умный дом переживать включить утюжка возвращаться осветить квартира подогреть чайник другой помогать голосовой помощник алиса именно принимать команда распределять весь лампочка розетка телевизор алиса чтоть перепутать пользователь смочь разобраться подключение помощь прийти служба поддержка сервис алиса каждый день присоединяться новый пользователь искать отзывчивый специалист который легко радость позаботиться нужно делать отвечать сообщение пользователь почта чатах; консультировать вопрос связанный яндексом; передавать информация разработчик менеджер помогать улучшать сервисы; решать новый интересный задача постоянно расти меняться ждать грамотно писать порусски; уметь чётко структурированный излагать мысли; легко находить главный информация текст разный объема; уметь читать язык ; иметь высокий неоконченный высокий образование технический плюсом; помогать человек онлайн; уметь работать самостоятельно команде; готовый гибкий графику; ответственный стрессоустойчивый самоорганизованны; уметь работать больший объём информации; готовый учиться; уставать однообразный задача условие работа дома; оформление тк рф; полный занятость рабочий час неделю; гибкий график дневный рабочий неделя рабочий час день плавать выходной начало смена обсуждаться индивидуально; сдельный оплата; удалённый оплачивать обучение  \n",
       "\n",
       "[1090 rows x 2 columns]"
      ]
     },
     "execution_count": 50,
     "metadata": {},
     "output_type": "execute_result"
    }
   ],
   "source": [
    "final_test"
   ]
  },
  {
   "cell_type": "markdown",
   "metadata": {},
   "source": [
    "Финальное предсказание"
   ]
  },
  {
   "cell_type": "code",
   "execution_count": 89,
   "metadata": {},
   "outputs": [],
   "source": [
    "final_results = final_test['index']\n",
    "final_feeding = final_test['redacted description']"
   ]
  },
  {
   "cell_type": "code",
   "execution_count": 52,
   "metadata": {},
   "outputs": [],
   "source": [
    "tf_final_predict = vectorizer.transform(final_feeding)"
   ]
  },
  {
   "cell_type": "code",
   "execution_count": 53,
   "metadata": {},
   "outputs": [],
   "source": [
    "professions = pass_agg.predict(tf_final_predict)"
   ]
  },
  {
   "cell_type": "code",
   "execution_count": 54,
   "metadata": {},
   "outputs": [
    {
     "data": {
      "text/plain": [
       "array([8322, 8322, 5223, ..., 7212, 9333, 4222])"
      ]
     },
     "execution_count": 54,
     "metadata": {},
     "output_type": "execute_result"
    }
   ],
   "source": [
    "professions"
   ]
  },
  {
   "cell_type": "code",
   "execution_count": 55,
   "metadata": {},
   "outputs": [
    {
     "data": {
      "text/plain": [
       "0       8322\n",
       "1       8322\n",
       "2       5223\n",
       "3       4120\n",
       "4       4222\n",
       "        ... \n",
       "1085    3123\n",
       "1086    1221\n",
       "1087    7212\n",
       "1088    9333\n",
       "1089    4222\n",
       "Length: 1090, dtype: int64"
      ]
     },
     "execution_count": 55,
     "metadata": {},
     "output_type": "execute_result"
    }
   ],
   "source": [
    "final_prediction = pd.Series(professions)\n",
    "final_prediction"
   ]
  },
  {
   "cell_type": "code",
   "execution_count": null,
   "metadata": {},
   "outputs": [],
   "source": [
    "final_results.drop('code', inplace=True)"
   ]
  },
  {
   "cell_type": "code",
   "execution_count": 57,
   "metadata": {},
   "outputs": [
    {
     "data": {
      "text/plain": [
       "0        26461447\n",
       "1        26464220\n",
       "2        26467473\n",
       "3        26468989\n",
       "4        26471705\n",
       "          ...    \n",
       "1085     33916809\n",
       "1086    113912590\n",
       "1087     33948550\n",
       "1088     35926971\n",
       "1089    166397492\n",
       "Name: index, Length: 1090, dtype: int64"
      ]
     },
     "execution_count": 57,
     "metadata": {},
     "output_type": "execute_result"
    }
   ],
   "source": [
    "final_results"
   ]
  },
  {
   "cell_type": "code",
   "execution_count": 58,
   "metadata": {},
   "outputs": [],
   "source": [
    "final_prediction.name = 'target'"
   ]
  },
  {
   "cell_type": "code",
   "execution_count": 59,
   "metadata": {},
   "outputs": [
    {
     "data": {
      "text/plain": [
       "0       8322\n",
       "1       8322\n",
       "2       5223\n",
       "3       4120\n",
       "4       4222\n",
       "        ... \n",
       "1085    3123\n",
       "1086    1221\n",
       "1087    7212\n",
       "1088    9333\n",
       "1089    4222\n",
       "Name: target, Length: 1090, dtype: int64"
      ]
     },
     "execution_count": 59,
     "metadata": {},
     "output_type": "execute_result"
    }
   ],
   "source": [
    "final_prediction"
   ]
  },
  {
   "cell_type": "code",
   "execution_count": 60,
   "metadata": {},
   "outputs": [
    {
     "data": {
      "text/html": [
       "<div>\n",
       "<style scoped>\n",
       "    .dataframe tbody tr th:only-of-type {\n",
       "        vertical-align: middle;\n",
       "    }\n",
       "\n",
       "    .dataframe tbody tr th {\n",
       "        vertical-align: top;\n",
       "    }\n",
       "\n",
       "    .dataframe thead th {\n",
       "        text-align: right;\n",
       "    }\n",
       "</style>\n",
       "<table border=\"1\" class=\"dataframe\">\n",
       "  <thead>\n",
       "    <tr style=\"text-align: right;\">\n",
       "      <th></th>\n",
       "      <th>index</th>\n",
       "      <th>target</th>\n",
       "    </tr>\n",
       "  </thead>\n",
       "  <tbody>\n",
       "    <tr>\n",
       "      <th>0</th>\n",
       "      <td>26461447</td>\n",
       "      <td>8322</td>\n",
       "    </tr>\n",
       "    <tr>\n",
       "      <th>1</th>\n",
       "      <td>26464220</td>\n",
       "      <td>8322</td>\n",
       "    </tr>\n",
       "    <tr>\n",
       "      <th>2</th>\n",
       "      <td>26467473</td>\n",
       "      <td>5223</td>\n",
       "    </tr>\n",
       "    <tr>\n",
       "      <th>3</th>\n",
       "      <td>26468989</td>\n",
       "      <td>4120</td>\n",
       "    </tr>\n",
       "    <tr>\n",
       "      <th>4</th>\n",
       "      <td>26471705</td>\n",
       "      <td>4222</td>\n",
       "    </tr>\n",
       "    <tr>\n",
       "      <th>...</th>\n",
       "      <td>...</td>\n",
       "      <td>...</td>\n",
       "    </tr>\n",
       "    <tr>\n",
       "      <th>1085</th>\n",
       "      <td>33916809</td>\n",
       "      <td>3123</td>\n",
       "    </tr>\n",
       "    <tr>\n",
       "      <th>1086</th>\n",
       "      <td>113912590</td>\n",
       "      <td>1221</td>\n",
       "    </tr>\n",
       "    <tr>\n",
       "      <th>1087</th>\n",
       "      <td>33948550</td>\n",
       "      <td>7212</td>\n",
       "    </tr>\n",
       "    <tr>\n",
       "      <th>1088</th>\n",
       "      <td>35926971</td>\n",
       "      <td>9333</td>\n",
       "    </tr>\n",
       "    <tr>\n",
       "      <th>1089</th>\n",
       "      <td>166397492</td>\n",
       "      <td>4222</td>\n",
       "    </tr>\n",
       "  </tbody>\n",
       "</table>\n",
       "<p>1090 rows × 2 columns</p>\n",
       "</div>"
      ],
      "text/plain": [
       "          index  target\n",
       "0      26461447    8322\n",
       "1      26464220    8322\n",
       "2      26467473    5223\n",
       "3      26468989    4120\n",
       "4      26471705    4222\n",
       "...         ...     ...\n",
       "1085   33916809    3123\n",
       "1086  113912590    1221\n",
       "1087   33948550    7212\n",
       "1088   35926971    9333\n",
       "1089  166397492    4222\n",
       "\n",
       "[1090 rows x 2 columns]"
      ]
     },
     "execution_count": 60,
     "metadata": {},
     "output_type": "execute_result"
    }
   ],
   "source": [
    "finale = pd.concat([final_results, final_prediction], axis=1)\n",
    "finale"
   ]
  },
  {
   "cell_type": "code",
   "execution_count": 91,
   "metadata": {},
   "outputs": [
    {
     "data": {
      "text/plain": [
       "PosixPath('/home/sergey/Рабочий стол/Coding/hacathon_mlbg/Results')"
      ]
     },
     "execution_count": 91,
     "metadata": {},
     "output_type": "execute_result"
    }
   ],
   "source": [
    "# путь сохранения\n",
    "save_path = hack_data_path.parent/'Results'\n",
    "save_path"
   ]
  },
  {
   "cell_type": "code",
   "execution_count": 93,
   "metadata": {},
   "outputs": [],
   "source": [
    "finale.to_csv(save_path/'submission_pass_aggr_v1.csv', index=False)"
   ]
  }
 ],
 "metadata": {
  "kernelspec": {
   "display_name": "Python 3.9.7 ('base')",
   "language": "python",
   "name": "python3"
  },
  "language_info": {
   "codemirror_mode": {
    "name": "ipython",
    "version": 3
   },
   "file_extension": ".py",
   "mimetype": "text/x-python",
   "name": "python",
   "nbconvert_exporter": "python",
   "pygments_lexer": "ipython3",
   "version": "3.9.7"
  },
  "orig_nbformat": 4,
  "vscode": {
   "interpreter": {
    "hash": "00aef3b98e4ccb3322387f6c47ad24282262e1fd4d41067bd78cec0ceaa17bd0"
   }
  }
 },
 "nbformat": 4,
 "nbformat_minor": 2
}
