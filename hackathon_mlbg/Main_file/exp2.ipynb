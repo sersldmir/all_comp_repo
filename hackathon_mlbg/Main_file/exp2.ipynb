{
 "cells": [
  {
   "cell_type": "code",
   "execution_count": 1,
   "metadata": {},
   "outputs": [],
   "source": [
    "# import the libraries\n",
    "from pathlib import Path\n",
    "import numpy as np\n",
    "import pandas as pd\n",
    "import re\n",
    "from nltk.corpus import stopwords\n",
    "from pymorphy2 import MorphAnalyzer\n",
    "from sklearn.feature_extraction.text import TfidfVectorizer\n",
    "from sklearn.linear_model import PassiveAggressiveClassifier\n",
    "from sklearn.model_selection import train_test_split\n",
    "from sklearn.linear_model import SGDClassifier\n",
    "from sklearn.feature_extraction.text import CountVectorizer\n",
    "from sklearn.feature_extraction.text import TfidfTransformer\n",
    "from sklearn.pipeline import Pipeline"
   ]
  },
  {
   "cell_type": "markdown",
   "metadata": {},
   "source": [
    "# Processing data"
   ]
  },
  {
   "cell_type": "code",
   "execution_count": 2,
   "metadata": {},
   "outputs": [],
   "source": [
    "# extracting paths for data and results\n",
    "data_path = Path().cwd().parent/'Data'\n",
    "result_path = Path().cwd().parent/'Results'"
   ]
  },
  {
   "cell_type": "code",
   "execution_count": 3,
   "metadata": {},
   "outputs": [],
   "source": [
    "# load data\n",
    "train_df = pd.read_csv(data_path/'train.csv')\n",
    "test_df = pd.read_csv(data_path/'test.csv')"
   ]
  },
  {
   "cell_type": "code",
   "execution_count": 4,
   "metadata": {},
   "outputs": [
    {
     "name": "stderr",
     "output_type": "stream",
     "text": [
      "/tmp/ipykernel_108117/3347485245.py:3: SettingWithCopyWarning: \n",
      "A value is trying to be set on a copy of a slice from a DataFrame\n",
      "\n",
      "See the caveats in the documentation: https://pandas.pydata.org/pandas-docs/stable/user_guide/indexing.html#returning-a-view-versus-a-copy\n",
      "  unmarked_train.drop('target', axis=1, inplace=True)\n"
     ]
    },
    {
     "data": {
      "text/html": [
       "<div>\n",
       "<style scoped>\n",
       "    .dataframe tbody tr th:only-of-type {\n",
       "        vertical-align: middle;\n",
       "    }\n",
       "\n",
       "    .dataframe tbody tr th {\n",
       "        vertical-align: top;\n",
       "    }\n",
       "\n",
       "    .dataframe thead th {\n",
       "        text-align: right;\n",
       "    }\n",
       "</style>\n",
       "<table border=\"1\" class=\"dataframe\">\n",
       "  <thead>\n",
       "    <tr style=\"text-align: right;\">\n",
       "      <th></th>\n",
       "      <th>index</th>\n",
       "      <th>name</th>\n",
       "      <th>description</th>\n",
       "    </tr>\n",
       "  </thead>\n",
       "  <tbody>\n",
       "    <tr>\n",
       "      <th>0</th>\n",
       "      <td>324865089</td>\n",
       "      <td>продавец кассир</td>\n",
       "      <td>&lt;strong&gt;Обязанности:&lt;/strong&gt; &lt;ul&gt; &lt;li&gt;работа ...</td>\n",
       "    </tr>\n",
       "    <tr>\n",
       "      <th>1</th>\n",
       "      <td>169467135</td>\n",
       "      <td>продавец мила (шевченко 17)</td>\n",
       "      <td>&lt;p&gt;&lt;strong&gt;Магазин МИЛА по адресу б-р Шевченко...</td>\n",
       "    </tr>\n",
       "  </tbody>\n",
       "</table>\n",
       "</div>"
      ],
      "text/plain": [
       "       index                         name  \\\n",
       "0  324865089              продавец кассир   \n",
       "1  169467135  продавец мила (шевченко 17)   \n",
       "\n",
       "                                         description  \n",
       "0  <strong>Обязанности:</strong> <ul> <li>работа ...  \n",
       "1  <p><strong>Магазин МИЛА по адресу б-р Шевченко...  "
      ]
     },
     "execution_count": 4,
     "metadata": {},
     "output_type": "execute_result"
    }
   ],
   "source": [
    "# get unmarked data\n",
    "unmarked_train = train_df.query(\"target==-1\")\n",
    "unmarked_train.drop('target', axis=1, inplace=True)\n",
    "unmarked_train.head(2)"
   ]
  },
  {
   "cell_type": "code",
   "execution_count": 5,
   "metadata": {},
   "outputs": [
    {
     "data": {
      "text/html": [
       "<div>\n",
       "<style scoped>\n",
       "    .dataframe tbody tr th:only-of-type {\n",
       "        vertical-align: middle;\n",
       "    }\n",
       "\n",
       "    .dataframe tbody tr th {\n",
       "        vertical-align: top;\n",
       "    }\n",
       "\n",
       "    .dataframe thead th {\n",
       "        text-align: right;\n",
       "    }\n",
       "</style>\n",
       "<table border=\"1\" class=\"dataframe\">\n",
       "  <thead>\n",
       "    <tr style=\"text-align: right;\">\n",
       "      <th></th>\n",
       "      <th>index</th>\n",
       "      <th>name</th>\n",
       "      <th>description</th>\n",
       "      <th>target</th>\n",
       "    </tr>\n",
       "  </thead>\n",
       "  <tbody>\n",
       "    <tr>\n",
       "      <th>2</th>\n",
       "      <td>169939030</td>\n",
       "      <td>кассир в пиццерию г витебск</td>\n",
       "      <td>&lt;p&gt;&lt;strong&gt;Устал искать работу? Может, хочешь ...</td>\n",
       "      <td>5223</td>\n",
       "    </tr>\n",
       "    <tr>\n",
       "      <th>5</th>\n",
       "      <td>169293782</td>\n",
       "      <td>продавец консультант yota (тц галерея)</td>\n",
       "      <td>&lt;p&gt;За любыми достижениями нашей компании в пер...</td>\n",
       "      <td>5223</td>\n",
       "    </tr>\n",
       "  </tbody>\n",
       "</table>\n",
       "</div>"
      ],
      "text/plain": [
       "       index                                    name  \\\n",
       "2  169939030             кассир в пиццерию г витебск   \n",
       "5  169293782  продавец консультант yota (тц галерея)   \n",
       "\n",
       "                                         description  target  \n",
       "2  <p><strong>Устал искать работу? Может, хочешь ...    5223  \n",
       "5  <p>За любыми достижениями нашей компании в пер...    5223  "
      ]
     },
     "execution_count": 5,
     "metadata": {},
     "output_type": "execute_result"
    }
   ],
   "source": [
    "# get rid of unmarked data\n",
    "train_df_marked = train_df.query(\"target!=-1\")\n",
    "train_df_marked.head(2)"
   ]
  },
  {
   "cell_type": "code",
   "execution_count": 6,
   "metadata": {},
   "outputs": [
    {
     "data": {
      "text/html": [
       "<div>\n",
       "<style scoped>\n",
       "    .dataframe tbody tr th:only-of-type {\n",
       "        vertical-align: middle;\n",
       "    }\n",
       "\n",
       "    .dataframe tbody tr th {\n",
       "        vertical-align: top;\n",
       "    }\n",
       "\n",
       "    .dataframe thead th {\n",
       "        text-align: right;\n",
       "    }\n",
       "</style>\n",
       "<table border=\"1\" class=\"dataframe\">\n",
       "  <thead>\n",
       "    <tr style=\"text-align: right;\">\n",
       "      <th></th>\n",
       "      <th>index</th>\n",
       "      <th>name</th>\n",
       "      <th>description</th>\n",
       "    </tr>\n",
       "  </thead>\n",
       "  <tbody>\n",
       "    <tr>\n",
       "      <th>0</th>\n",
       "      <td>26461447</td>\n",
       "      <td>персональный водитель сервиса \"wheely\"</td>\n",
       "      <td>&lt;p&gt;&lt;strong&gt;В &lt;/strong&gt;связи с расширением авто...</td>\n",
       "    </tr>\n",
       "    <tr>\n",
       "      <th>1</th>\n",
       "      <td>26464220</td>\n",
       "      <td>менеджер по автоперевозкам</td>\n",
       "      <td>&lt;strong&gt;Обязанности:&lt;/strong&gt; &lt;ul&gt; &lt;li&gt;Поиск п...</td>\n",
       "    </tr>\n",
       "  </tbody>\n",
       "</table>\n",
       "</div>"
      ],
      "text/plain": [
       "      index                                    name  \\\n",
       "0  26461447  персональный водитель сервиса \"wheely\"   \n",
       "1  26464220              менеджер по автоперевозкам   \n",
       "\n",
       "                                         description  \n",
       "0  <p><strong>В </strong>связи с расширением авто...  \n",
       "1  <strong>Обязанности:</strong> <ul> <li>Поиск п...  "
      ]
     },
     "execution_count": 6,
     "metadata": {},
     "output_type": "execute_result"
    }
   ],
   "source": [
    "test_df.head(2)"
   ]
  },
  {
   "cell_type": "code",
   "execution_count": 7,
   "metadata": {},
   "outputs": [
    {
     "data": {
      "text/html": [
       "<div>\n",
       "<style scoped>\n",
       "    .dataframe tbody tr th:only-of-type {\n",
       "        vertical-align: middle;\n",
       "    }\n",
       "\n",
       "    .dataframe tbody tr th {\n",
       "        vertical-align: top;\n",
       "    }\n",
       "\n",
       "    .dataframe thead th {\n",
       "        text-align: right;\n",
       "    }\n",
       "</style>\n",
       "<table border=\"1\" class=\"dataframe\">\n",
       "  <thead>\n",
       "    <tr style=\"text-align: right;\">\n",
       "      <th></th>\n",
       "      <th>ID</th>\n",
       "      <th>useful_data</th>\n",
       "    </tr>\n",
       "  </thead>\n",
       "  <tbody>\n",
       "    <tr>\n",
       "      <th>0</th>\n",
       "      <td>363107946</td>\n",
       "      <td>NaN</td>\n",
       "    </tr>\n",
       "    <tr>\n",
       "      <th>1</th>\n",
       "      <td>363125198</td>\n",
       "      <td>NaN</td>\n",
       "    </tr>\n",
       "    <tr>\n",
       "      <th>2</th>\n",
       "      <td>363144355</td>\n",
       "      <td>NaN</td>\n",
       "    </tr>\n",
       "    <tr>\n",
       "      <th>3</th>\n",
       "      <td>363340232</td>\n",
       "      <td>NaN</td>\n",
       "    </tr>\n",
       "    <tr>\n",
       "      <th>4</th>\n",
       "      <td>363383054</td>\n",
       "      <td>Организовывать и проводить просмотры/показы об...</td>\n",
       "    </tr>\n",
       "  </tbody>\n",
       "</table>\n",
       "</div>"
      ],
      "text/plain": [
       "          ID                                        useful_data\n",
       "0  363107946                                                NaN\n",
       "1  363125198                                                NaN\n",
       "2  363144355                                                NaN\n",
       "3  363340232                                                NaN\n",
       "4  363383054  Организовывать и проводить просмотры/показы об..."
      ]
     },
     "execution_count": 7,
     "metadata": {},
     "output_type": "execute_result"
    }
   ],
   "source": [
    "# load and merge json data\n",
    "def json_data_getter(json_dic):\n",
    "    result = []\n",
    "    for json_file in json_dic:\n",
    "        if json_file.get('Обязанности', np.nan) is not np.nan:\n",
    "            result.append(' '.join(json_file['Обязанности']))\n",
    "        else:\n",
    "            result.append(np.nan)\n",
    "    return result\n",
    "\n",
    "def json_processor(path):\n",
    "    json_df = pd.read_json(path)\n",
    "    json_df['useful_data'] = json_data_getter(json_df['Content'])\n",
    "    json_df.drop(['Content', 'Position'], axis=1, inplace=True)\n",
    "    return json_df\n",
    "\n",
    "vd1 = json_processor(data_path/'vacancy_descriptions'/'1_parsed.json')\n",
    "vd2 = json_processor(data_path/'vacancy_descriptions'/'2_parsed.json')\n",
    "vd3 = json_processor(data_path/'vacancy_descriptions'/'3_parsed.json')\n",
    "vd4 = json_processor(data_path/'vacancy_descriptions'/'4_parsed.json')\n",
    "vd5 = json_processor(data_path/'vacancy_descriptions'/'5_parsed.json')\n",
    "vd = pd.concat([vd1, vd2, vd3, vd4, vd5], ignore_index=True)\n",
    "vd.head(5)"
   ]
  },
  {
   "cell_type": "code",
   "execution_count": 8,
   "metadata": {},
   "outputs": [
    {
     "data": {
      "text/html": [
       "<div>\n",
       "<style scoped>\n",
       "    .dataframe tbody tr th:only-of-type {\n",
       "        vertical-align: middle;\n",
       "    }\n",
       "\n",
       "    .dataframe tbody tr th {\n",
       "        vertical-align: top;\n",
       "    }\n",
       "\n",
       "    .dataframe thead th {\n",
       "        text-align: right;\n",
       "    }\n",
       "</style>\n",
       "<table border=\"1\" class=\"dataframe\">\n",
       "  <thead>\n",
       "    <tr style=\"text-align: right;\">\n",
       "      <th></th>\n",
       "      <th>index</th>\n",
       "      <th>name</th>\n",
       "      <th>description</th>\n",
       "      <th>target</th>\n",
       "      <th>useful_data</th>\n",
       "    </tr>\n",
       "  </thead>\n",
       "  <tbody>\n",
       "    <tr>\n",
       "      <th>0</th>\n",
       "      <td>169939030</td>\n",
       "      <td>кассир в пиццерию г витебск</td>\n",
       "      <td>&lt;p&gt;&lt;strong&gt;Устал искать работу? Может, хочешь ...</td>\n",
       "      <td>5223</td>\n",
       "      <td>:принимать и выдавать заказы, расчет с гостями...</td>\n",
       "    </tr>\n",
       "    <tr>\n",
       "      <th>1</th>\n",
       "      <td>169293782</td>\n",
       "      <td>продавец консультант yota (тц галерея)</td>\n",
       "      <td>&lt;p&gt;За любыми достижениями нашей компании в пер...</td>\n",
       "      <td>5223</td>\n",
       "      <td>:Рассказывать людям о Yota Продавать устройств...</td>\n",
       "    </tr>\n",
       "  </tbody>\n",
       "</table>\n",
       "</div>"
      ],
      "text/plain": [
       "       index                                    name  \\\n",
       "0  169939030             кассир в пиццерию г витебск   \n",
       "1  169293782  продавец консультант yota (тц галерея)   \n",
       "\n",
       "                                         description  target  \\\n",
       "0  <p><strong>Устал искать работу? Может, хочешь ...    5223   \n",
       "1  <p>За любыми достижениями нашей компании в пер...    5223   \n",
       "\n",
       "                                         useful_data  \n",
       "0  :принимать и выдавать заказы, расчет с гостями...  \n",
       "1  :Рассказывать людям о Yota Продавать устройств...  "
      ]
     },
     "execution_count": 8,
     "metadata": {},
     "output_type": "execute_result"
    }
   ],
   "source": [
    "# merge json data with train\n",
    "train_df_marked_w_json = train_df_marked.merge(vd, how='left', left_on='index', right_on='ID')\n",
    "train_df_marked_w_json.drop(['ID'], inplace=True, axis=1)\n",
    "train_df_marked_w_json.head(2)"
   ]
  },
  {
   "cell_type": "code",
   "execution_count": 9,
   "metadata": {},
   "outputs": [
    {
     "data": {
      "text/plain": [
       "2311"
      ]
     },
     "execution_count": 9,
     "metadata": {},
     "output_type": "execute_result"
    }
   ],
   "source": [
    "len(train_df_marked_w_json[train_df_marked_w_json['useful_data'].isna()])"
   ]
  },
  {
   "cell_type": "code",
   "execution_count": 10,
   "metadata": {},
   "outputs": [
    {
     "data": {
      "text/html": [
       "<div>\n",
       "<style scoped>\n",
       "    .dataframe tbody tr th:only-of-type {\n",
       "        vertical-align: middle;\n",
       "    }\n",
       "\n",
       "    .dataframe tbody tr th {\n",
       "        vertical-align: top;\n",
       "    }\n",
       "\n",
       "    .dataframe thead th {\n",
       "        text-align: right;\n",
       "    }\n",
       "</style>\n",
       "<table border=\"1\" class=\"dataframe\">\n",
       "  <thead>\n",
       "    <tr style=\"text-align: right;\">\n",
       "      <th></th>\n",
       "      <th>target</th>\n",
       "      <th>redacted name</th>\n",
       "      <th>full description</th>\n",
       "    </tr>\n",
       "  </thead>\n",
       "  <tbody>\n",
       "    <tr>\n",
       "      <th>0</th>\n",
       "      <td>5223</td>\n",
       "      <td>кассир пиццерия г витебск</td>\n",
       "      <td>кассир пиццерия г витебск принимать выдавать з...</td>\n",
       "    </tr>\n",
       "    <tr>\n",
       "      <th>1</th>\n",
       "      <td>5223</td>\n",
       "      <td>продавец консультант тц галерея</td>\n",
       "      <td>продавец консультант тц галерея рассказывать ч...</td>\n",
       "    </tr>\n",
       "  </tbody>\n",
       "</table>\n",
       "</div>"
      ],
      "text/plain": [
       "   target                    redacted name  \\\n",
       "0    5223        кассир пиццерия г витебск   \n",
       "1    5223  продавец консультант тц галерея   \n",
       "\n",
       "                                    full description  \n",
       "0  кассир пиццерия г витебск принимать выдавать з...  \n",
       "1  продавец консультант тц галерея рассказывать ч...  "
      ]
     },
     "execution_count": 10,
     "metadata": {},
     "output_type": "execute_result"
    }
   ],
   "source": [
    "# transform train data\n",
    "def simple_transformer(sample_description, stop_words = stopwords.words('russian'), morph = MorphAnalyzer()):\n",
    "    if sample_description is np.nan:\n",
    "        return np.nan\n",
    "    patt1 = re.compile(r'[а-я\\s]')\n",
    "    sample_description_v2 = ''.join(re.findall(patt1, sample_description.lower())).replace('\\n', '')\n",
    "    sample_description_v3 = ' '.join([word for word in sample_description_v2.split(' ') if word not in stop_words])\n",
    "    inf_forms = ' '.join([morph.parse(word)[0].normal_form for word in sample_description_v3.split()])\n",
    "    return inf_forms\n",
    "\n",
    "train_df_marked_w_json.loc[:,'redacted description'] = train_df_marked_w_json.apply(lambda row: simple_transformer(row['useful_data']), axis=1)\n",
    "train_df_marked_w_json['redacted name'] = train_df_marked_w_json.apply(lambda row: simple_transformer(row['name']), axis=1)\n",
    "train_df_marked_w_json['full description'] = train_df_marked_w_json['redacted name'] + ' ' + train_df_marked_w_json['redacted description']\n",
    "train_df_marked_w_json.drop(['useful_data', 'description', 'index', 'redacted description', 'name'], axis=1, inplace=True)\n",
    "train_df_marked_w_json.head(2)"
   ]
  },
  {
   "cell_type": "code",
   "execution_count": 11,
   "metadata": {},
   "outputs": [
    {
     "data": {
      "text/plain": [
       "2311"
      ]
     },
     "execution_count": 11,
     "metadata": {},
     "output_type": "execute_result"
    }
   ],
   "source": [
    "len(train_df_marked_w_json[train_df_marked_w_json['full description'].isna()])"
   ]
  },
  {
   "cell_type": "code",
   "execution_count": 12,
   "metadata": {},
   "outputs": [
    {
     "data": {
      "text/plain": [
       "0"
      ]
     },
     "execution_count": 12,
     "metadata": {},
     "output_type": "execute_result"
    }
   ],
   "source": [
    "# fill nan description\n",
    "train_df_marked_w_json['full description'].fillna(train_df_marked_w_json['redacted name'], inplace=True)\n",
    "len(train_df_marked_w_json[train_df_marked_w_json['full description'].isna()])"
   ]
  },
  {
   "cell_type": "code",
   "execution_count": 13,
   "metadata": {},
   "outputs": [
    {
     "data": {
      "text/html": [
       "<div>\n",
       "<style scoped>\n",
       "    .dataframe tbody tr th:only-of-type {\n",
       "        vertical-align: middle;\n",
       "    }\n",
       "\n",
       "    .dataframe tbody tr th {\n",
       "        vertical-align: top;\n",
       "    }\n",
       "\n",
       "    .dataframe thead th {\n",
       "        text-align: right;\n",
       "    }\n",
       "</style>\n",
       "<table border=\"1\" class=\"dataframe\">\n",
       "  <thead>\n",
       "    <tr style=\"text-align: right;\">\n",
       "      <th></th>\n",
       "      <th>target</th>\n",
       "      <th>full description</th>\n",
       "    </tr>\n",
       "  </thead>\n",
       "  <tbody>\n",
       "    <tr>\n",
       "      <th>0</th>\n",
       "      <td>5223</td>\n",
       "      <td>кассир пиццерия г витебск принимать выдавать з...</td>\n",
       "    </tr>\n",
       "    <tr>\n",
       "      <th>1</th>\n",
       "      <td>5223</td>\n",
       "      <td>продавец консультант тц галерея рассказывать ч...</td>\n",
       "    </tr>\n",
       "    <tr>\n",
       "      <th>2</th>\n",
       "      <td>7212</td>\n",
       "      <td>электросварщик накс ск п г норильск ручной дуг...</td>\n",
       "    </tr>\n",
       "    <tr>\n",
       "      <th>3</th>\n",
       "      <td>5223</td>\n",
       "      <td>кассир правило приём проведение расчётный конв...</td>\n",
       "    </tr>\n",
       "    <tr>\n",
       "      <th>4</th>\n",
       "      <td>6121</td>\n",
       "      <td>оператор машинный доение выполнять вид работа ...</td>\n",
       "    </tr>\n",
       "    <tr>\n",
       "      <th>...</th>\n",
       "      <td>...</td>\n",
       "      <td>...</td>\n",
       "    </tr>\n",
       "    <tr>\n",
       "      <th>15645</th>\n",
       "      <td>3341</td>\n",
       "      <td>офис менеджер</td>\n",
       "    </tr>\n",
       "    <tr>\n",
       "      <th>15646</th>\n",
       "      <td>3341</td>\n",
       "      <td>офис менеджер приём отправка входящий исходящи...</td>\n",
       "    </tr>\n",
       "    <tr>\n",
       "      <th>15647</th>\n",
       "      <td>3341</td>\n",
       "      <td>офис менеджер встречать направлять клиент вход...</td>\n",
       "    </tr>\n",
       "    <tr>\n",
       "      <th>15648</th>\n",
       "      <td>3341</td>\n",
       "      <td>офис менеджер приём регистрация входящий звоно...</td>\n",
       "    </tr>\n",
       "    <tr>\n",
       "      <th>15649</th>\n",
       "      <td>6121</td>\n",
       "      <td>дояр соблюдение должностной инструкция правило...</td>\n",
       "    </tr>\n",
       "  </tbody>\n",
       "</table>\n",
       "<p>15650 rows × 2 columns</p>\n",
       "</div>"
      ],
      "text/plain": [
       "       target                                   full description\n",
       "0        5223  кассир пиццерия г витебск принимать выдавать з...\n",
       "1        5223  продавец консультант тц галерея рассказывать ч...\n",
       "2        7212  электросварщик накс ск п г норильск ручной дуг...\n",
       "3        5223  кассир правило приём проведение расчётный конв...\n",
       "4        6121  оператор машинный доение выполнять вид работа ...\n",
       "...       ...                                                ...\n",
       "15645    3341                                      офис менеджер\n",
       "15646    3341  офис менеджер приём отправка входящий исходящи...\n",
       "15647    3341  офис менеджер встречать направлять клиент вход...\n",
       "15648    3341  офис менеджер приём регистрация входящий звоно...\n",
       "15649    6121  дояр соблюдение должностной инструкция правило...\n",
       "\n",
       "[15650 rows x 2 columns]"
      ]
     },
     "execution_count": 13,
     "metadata": {},
     "output_type": "execute_result"
    }
   ],
   "source": [
    "train_df_marked_w_json.drop('redacted name', axis=1, inplace=True)\n",
    "train_df_marked_w_json"
   ]
  },
  {
   "cell_type": "code",
   "execution_count": 14,
   "metadata": {},
   "outputs": [
    {
     "data": {
      "text/html": [
       "<div>\n",
       "<style scoped>\n",
       "    .dataframe tbody tr th:only-of-type {\n",
       "        vertical-align: middle;\n",
       "    }\n",
       "\n",
       "    .dataframe tbody tr th {\n",
       "        vertical-align: top;\n",
       "    }\n",
       "\n",
       "    .dataframe thead th {\n",
       "        text-align: right;\n",
       "    }\n",
       "</style>\n",
       "<table border=\"1\" class=\"dataframe\">\n",
       "  <thead>\n",
       "    <tr style=\"text-align: right;\">\n",
       "      <th></th>\n",
       "      <th>index</th>\n",
       "      <th>name</th>\n",
       "      <th>description</th>\n",
       "      <th>useful_data</th>\n",
       "    </tr>\n",
       "  </thead>\n",
       "  <tbody>\n",
       "    <tr>\n",
       "      <th>0</th>\n",
       "      <td>324865089</td>\n",
       "      <td>продавец кассир</td>\n",
       "      <td>&lt;strong&gt;Обязанности:&lt;/strong&gt; &lt;ul&gt; &lt;li&gt;работа ...</td>\n",
       "      <td>работа с кассой : открытие / закрытие смены ве...</td>\n",
       "    </tr>\n",
       "    <tr>\n",
       "      <th>1</th>\n",
       "      <td>169467135</td>\n",
       "      <td>продавец мила (шевченко 17)</td>\n",
       "      <td>&lt;p&gt;&lt;strong&gt;Магазин МИЛА по адресу б-р Шевченко...</td>\n",
       "      <td>выкладка товара в соответствии с планограммой ...</td>\n",
       "    </tr>\n",
       "  </tbody>\n",
       "</table>\n",
       "</div>"
      ],
      "text/plain": [
       "       index                         name  \\\n",
       "0  324865089              продавец кассир   \n",
       "1  169467135  продавец мила (шевченко 17)   \n",
       "\n",
       "                                         description  \\\n",
       "0  <strong>Обязанности:</strong> <ul> <li>работа ...   \n",
       "1  <p><strong>Магазин МИЛА по адресу б-р Шевченко...   \n",
       "\n",
       "                                         useful_data  \n",
       "0  работа с кассой : открытие / закрытие смены ве...  \n",
       "1  выкладка товара в соответствии с планограммой ...  "
      ]
     },
     "execution_count": 14,
     "metadata": {},
     "output_type": "execute_result"
    }
   ],
   "source": [
    "# same procedure with unmarked data\n",
    "unmarked_train_w_json = unmarked_train.merge(vd, how='left', left_on='index', right_on='ID')\n",
    "unmarked_train_w_json.drop(['ID'], inplace=True, axis=1)\n",
    "unmarked_train_w_json.head(2)"
   ]
  },
  {
   "cell_type": "code",
   "execution_count": 15,
   "metadata": {},
   "outputs": [
    {
     "data": {
      "text/plain": [
       "2120"
      ]
     },
     "execution_count": 15,
     "metadata": {},
     "output_type": "execute_result"
    }
   ],
   "source": [
    "len(unmarked_train_w_json[unmarked_train_w_json['useful_data'].isna()])"
   ]
  },
  {
   "cell_type": "code",
   "execution_count": 16,
   "metadata": {},
   "outputs": [
    {
     "data": {
      "text/html": [
       "<div>\n",
       "<style scoped>\n",
       "    .dataframe tbody tr th:only-of-type {\n",
       "        vertical-align: middle;\n",
       "    }\n",
       "\n",
       "    .dataframe tbody tr th {\n",
       "        vertical-align: top;\n",
       "    }\n",
       "\n",
       "    .dataframe thead th {\n",
       "        text-align: right;\n",
       "    }\n",
       "</style>\n",
       "<table border=\"1\" class=\"dataframe\">\n",
       "  <thead>\n",
       "    <tr style=\"text-align: right;\">\n",
       "      <th></th>\n",
       "      <th>redacted name</th>\n",
       "      <th>full description</th>\n",
       "    </tr>\n",
       "  </thead>\n",
       "  <tbody>\n",
       "    <tr>\n",
       "      <th>0</th>\n",
       "      <td>продавец кассир</td>\n",
       "      <td>продавец кассир работа касса открытие закрытие...</td>\n",
       "    </tr>\n",
       "    <tr>\n",
       "      <th>1</th>\n",
       "      <td>продавец мила шевченко</td>\n",
       "      <td>продавец мила шевченко выкладка товар соответс...</td>\n",
       "    </tr>\n",
       "  </tbody>\n",
       "</table>\n",
       "</div>"
      ],
      "text/plain": [
       "            redacted name                                   full description\n",
       "0         продавец кассир  продавец кассир работа касса открытие закрытие...\n",
       "1  продавец мила шевченко  продавец мила шевченко выкладка товар соответс..."
      ]
     },
     "execution_count": 16,
     "metadata": {},
     "output_type": "execute_result"
    }
   ],
   "source": [
    "unmarked_train_w_json.loc[:,'redacted description'] = unmarked_train_w_json.apply(lambda row: simple_transformer(row['useful_data']), axis=1)\n",
    "unmarked_train_w_json['redacted name'] = unmarked_train_w_json.apply(lambda row: simple_transformer(row['name']), axis=1)\n",
    "unmarked_train_w_json['full description'] = unmarked_train_w_json['redacted name'] + ' ' + unmarked_train_w_json['redacted description']\n",
    "unmarked_train_w_json.drop(['useful_data', 'description', 'index', 'redacted description', 'name'], axis=1, inplace=True)\n",
    "unmarked_train_w_json.head(2)"
   ]
  },
  {
   "cell_type": "code",
   "execution_count": 17,
   "metadata": {},
   "outputs": [
    {
     "data": {
      "text/plain": [
       "2120"
      ]
     },
     "execution_count": 17,
     "metadata": {},
     "output_type": "execute_result"
    }
   ],
   "source": [
    "len(unmarked_train_w_json[unmarked_train_w_json['full description'].isna()])"
   ]
  },
  {
   "cell_type": "code",
   "execution_count": 18,
   "metadata": {},
   "outputs": [
    {
     "data": {
      "text/plain": [
       "0"
      ]
     },
     "execution_count": 18,
     "metadata": {},
     "output_type": "execute_result"
    }
   ],
   "source": [
    "# fill nan description\n",
    "unmarked_train_w_json['full description'].fillna(unmarked_train_w_json['redacted name'], inplace=True)\n",
    "len(unmarked_train_w_json[unmarked_train_w_json['full description'].isna()])"
   ]
  },
  {
   "cell_type": "code",
   "execution_count": 19,
   "metadata": {},
   "outputs": [
    {
     "data": {
      "text/html": [
       "<div>\n",
       "<style scoped>\n",
       "    .dataframe tbody tr th:only-of-type {\n",
       "        vertical-align: middle;\n",
       "    }\n",
       "\n",
       "    .dataframe tbody tr th {\n",
       "        vertical-align: top;\n",
       "    }\n",
       "\n",
       "    .dataframe thead th {\n",
       "        text-align: right;\n",
       "    }\n",
       "</style>\n",
       "<table border=\"1\" class=\"dataframe\">\n",
       "  <thead>\n",
       "    <tr style=\"text-align: right;\">\n",
       "      <th></th>\n",
       "      <th>full description</th>\n",
       "    </tr>\n",
       "  </thead>\n",
       "  <tbody>\n",
       "    <tr>\n",
       "      <th>0</th>\n",
       "      <td>продавец кассир работа касса открытие закрытие...</td>\n",
       "    </tr>\n",
       "    <tr>\n",
       "      <th>1</th>\n",
       "      <td>продавец мила шевченко выкладка товар соответс...</td>\n",
       "    </tr>\n",
       "  </tbody>\n",
       "</table>\n",
       "</div>"
      ],
      "text/plain": [
       "                                    full description\n",
       "0  продавец кассир работа касса открытие закрытие...\n",
       "1  продавец мила шевченко выкладка товар соответс..."
      ]
     },
     "execution_count": 19,
     "metadata": {},
     "output_type": "execute_result"
    }
   ],
   "source": [
    "unmarked_train_w_json.drop('redacted name', axis=1, inplace=True)\n",
    "unmarked_train_w_json.head(2)"
   ]
  },
  {
   "cell_type": "code",
   "execution_count": 20,
   "metadata": {},
   "outputs": [
    {
     "data": {
      "text/html": [
       "<div>\n",
       "<style scoped>\n",
       "    .dataframe tbody tr th:only-of-type {\n",
       "        vertical-align: middle;\n",
       "    }\n",
       "\n",
       "    .dataframe tbody tr th {\n",
       "        vertical-align: top;\n",
       "    }\n",
       "\n",
       "    .dataframe thead th {\n",
       "        text-align: right;\n",
       "    }\n",
       "</style>\n",
       "<table border=\"1\" class=\"dataframe\">\n",
       "  <thead>\n",
       "    <tr style=\"text-align: right;\">\n",
       "      <th></th>\n",
       "      <th>index</th>\n",
       "      <th>name</th>\n",
       "      <th>description</th>\n",
       "      <th>useful_data</th>\n",
       "    </tr>\n",
       "  </thead>\n",
       "  <tbody>\n",
       "    <tr>\n",
       "      <th>0</th>\n",
       "      <td>26461447</td>\n",
       "      <td>персональный водитель сервиса \"wheely\"</td>\n",
       "      <td>&lt;p&gt;&lt;strong&gt;В &lt;/strong&gt;связи с расширением авто...</td>\n",
       "      <td>Выполнение поступающих заявок через приложение...</td>\n",
       "    </tr>\n",
       "    <tr>\n",
       "      <th>1</th>\n",
       "      <td>26464220</td>\n",
       "      <td>менеджер по автоперевозкам</td>\n",
       "      <td>&lt;strong&gt;Обязанности:&lt;/strong&gt; &lt;ul&gt; &lt;li&gt;Поиск п...</td>\n",
       "      <td>Поиск поставщиков Ведение перевозок от начало ...</td>\n",
       "    </tr>\n",
       "  </tbody>\n",
       "</table>\n",
       "</div>"
      ],
      "text/plain": [
       "      index                                    name  \\\n",
       "0  26461447  персональный водитель сервиса \"wheely\"   \n",
       "1  26464220              менеджер по автоперевозкам   \n",
       "\n",
       "                                         description  \\\n",
       "0  <p><strong>В </strong>связи с расширением авто...   \n",
       "1  <strong>Обязанности:</strong> <ul> <li>Поиск п...   \n",
       "\n",
       "                                         useful_data  \n",
       "0  Выполнение поступающих заявок через приложение...  \n",
       "1  Поиск поставщиков Ведение перевозок от начало ...  "
      ]
     },
     "execution_count": 20,
     "metadata": {},
     "output_type": "execute_result"
    }
   ],
   "source": [
    "# merge json data with test\n",
    "test_df_w_json = test_df.merge(vd, how='left', left_on='index', right_on='ID')\n",
    "test_df_w_json.drop(['ID'], inplace=True, axis=1)\n",
    "test_df_w_json.head(2)"
   ]
  },
  {
   "cell_type": "code",
   "execution_count": 21,
   "metadata": {},
   "outputs": [
    {
     "data": {
      "text/plain": [
       "1090"
      ]
     },
     "execution_count": 21,
     "metadata": {},
     "output_type": "execute_result"
    }
   ],
   "source": [
    "len(test_df_w_json)"
   ]
  },
  {
   "cell_type": "code",
   "execution_count": 22,
   "metadata": {},
   "outputs": [
    {
     "data": {
      "text/plain": [
       "182"
      ]
     },
     "execution_count": 22,
     "metadata": {},
     "output_type": "execute_result"
    }
   ],
   "source": [
    "# number of nan values in the test df\n",
    "sum(test_df_w_json['useful_data'].isna())"
   ]
  },
  {
   "cell_type": "code",
   "execution_count": 23,
   "metadata": {},
   "outputs": [
    {
     "data": {
      "text/html": [
       "<div>\n",
       "<style scoped>\n",
       "    .dataframe tbody tr th:only-of-type {\n",
       "        vertical-align: middle;\n",
       "    }\n",
       "\n",
       "    .dataframe tbody tr th {\n",
       "        vertical-align: top;\n",
       "    }\n",
       "\n",
       "    .dataframe thead th {\n",
       "        text-align: right;\n",
       "    }\n",
       "</style>\n",
       "<table border=\"1\" class=\"dataframe\">\n",
       "  <thead>\n",
       "    <tr style=\"text-align: right;\">\n",
       "      <th></th>\n",
       "      <th>index</th>\n",
       "      <th>description</th>\n",
       "      <th>full description</th>\n",
       "    </tr>\n",
       "  </thead>\n",
       "  <tbody>\n",
       "    <tr>\n",
       "      <th>0</th>\n",
       "      <td>26461447</td>\n",
       "      <td>&lt;p&gt;&lt;strong&gt;В &lt;/strong&gt;связи с расширением авто...</td>\n",
       "      <td>персональный водитель сервис выполнение поступ...</td>\n",
       "    </tr>\n",
       "    <tr>\n",
       "      <th>1</th>\n",
       "      <td>26464220</td>\n",
       "      <td>&lt;strong&gt;Обязанности:&lt;/strong&gt; &lt;ul&gt; &lt;li&gt;Поиск п...</td>\n",
       "      <td>менеджер автоперевозка поиск поставщик ведение...</td>\n",
       "    </tr>\n",
       "  </tbody>\n",
       "</table>\n",
       "</div>"
      ],
      "text/plain": [
       "      index                                        description  \\\n",
       "0  26461447  <p><strong>В </strong>связи с расширением авто...   \n",
       "1  26464220  <strong>Обязанности:</strong> <ul> <li>Поиск п...   \n",
       "\n",
       "                                    full description  \n",
       "0  персональный водитель сервис выполнение поступ...  \n",
       "1  менеджер автоперевозка поиск поставщик ведение...  "
      ]
     },
     "execution_count": 23,
     "metadata": {},
     "output_type": "execute_result"
    }
   ],
   "source": [
    "# process test data\n",
    "test_df_w_json['redacted name'] = test_df_w_json.apply(lambda row: simple_transformer(row['name']) , axis=1)\n",
    "test_df_w_json['redacted description'] = test_df_w_json.apply(lambda row: simple_transformer(row['useful_data']), axis=1)\n",
    "test_df_w_json['full description'] = test_df_w_json['redacted name'] + ' ' + test_df_w_json['redacted description']\n",
    "test_df_w_json['full description'].fillna(test_df_w_json['redacted name'], inplace=True)\n",
    "test_df_w_json.drop(['redacted name', 'redacted description', 'name', 'useful_data'], axis=1, inplace=True)\n",
    "test_df_w_json.head(2)"
   ]
  },
  {
   "cell_type": "code",
   "execution_count": 24,
   "metadata": {},
   "outputs": [
    {
     "data": {
      "text/plain": [
       "0"
      ]
     },
     "execution_count": 24,
     "metadata": {},
     "output_type": "execute_result"
    }
   ],
   "source": [
    "len(test_df_w_json[test_df_w_json['full description'].isna()])"
   ]
  },
  {
   "cell_type": "code",
   "execution_count": 25,
   "metadata": {},
   "outputs": [
    {
     "data": {
      "text/html": [
       "<div>\n",
       "<style scoped>\n",
       "    .dataframe tbody tr th:only-of-type {\n",
       "        vertical-align: middle;\n",
       "    }\n",
       "\n",
       "    .dataframe tbody tr th {\n",
       "        vertical-align: top;\n",
       "    }\n",
       "\n",
       "    .dataframe thead th {\n",
       "        text-align: right;\n",
       "    }\n",
       "</style>\n",
       "<table border=\"1\" class=\"dataframe\">\n",
       "  <thead>\n",
       "    <tr style=\"text-align: right;\">\n",
       "      <th></th>\n",
       "      <th>index</th>\n",
       "      <th>full description</th>\n",
       "    </tr>\n",
       "  </thead>\n",
       "  <tbody>\n",
       "    <tr>\n",
       "      <th>0</th>\n",
       "      <td>26461447</td>\n",
       "      <td>персональный водитель сервис выполнение поступ...</td>\n",
       "    </tr>\n",
       "    <tr>\n",
       "      <th>1</th>\n",
       "      <td>26464220</td>\n",
       "      <td>менеджер автоперевозка поиск поставщик ведение...</td>\n",
       "    </tr>\n",
       "  </tbody>\n",
       "</table>\n",
       "</div>"
      ],
      "text/plain": [
       "      index                                   full description\n",
       "0  26461447  персональный водитель сервис выполнение поступ...\n",
       "1  26464220  менеджер автоперевозка поиск поставщик ведение..."
      ]
     },
     "execution_count": 25,
     "metadata": {},
     "output_type": "execute_result"
    }
   ],
   "source": [
    "test_df_w_json.drop('description', axis=1, inplace=True)\n",
    "test_df_w_json.head(2)"
   ]
  },
  {
   "cell_type": "markdown",
   "metadata": {},
   "source": [
    "# Machine learning"
   ]
  },
  {
   "cell_type": "markdown",
   "metadata": {},
   "source": [
    "### Training"
   ]
  },
  {
   "cell_type": "code",
   "execution_count": 26,
   "metadata": {},
   "outputs": [
    {
     "data": {
      "text/html": [
       "<div>\n",
       "<style scoped>\n",
       "    .dataframe tbody tr th:only-of-type {\n",
       "        vertical-align: middle;\n",
       "    }\n",
       "\n",
       "    .dataframe tbody tr th {\n",
       "        vertical-align: top;\n",
       "    }\n",
       "\n",
       "    .dataframe thead th {\n",
       "        text-align: right;\n",
       "    }\n",
       "</style>\n",
       "<table border=\"1\" class=\"dataframe\">\n",
       "  <thead>\n",
       "    <tr style=\"text-align: right;\">\n",
       "      <th></th>\n",
       "      <th>target</th>\n",
       "      <th>full description</th>\n",
       "    </tr>\n",
       "  </thead>\n",
       "  <tbody>\n",
       "    <tr>\n",
       "      <th>0</th>\n",
       "      <td>5223</td>\n",
       "      <td>кассир пиццерия г витебск принимать выдавать з...</td>\n",
       "    </tr>\n",
       "    <tr>\n",
       "      <th>1</th>\n",
       "      <td>5223</td>\n",
       "      <td>продавец консультант тц галерея рассказывать ч...</td>\n",
       "    </tr>\n",
       "    <tr>\n",
       "      <th>2</th>\n",
       "      <td>7212</td>\n",
       "      <td>электросварщик накс ск п г норильск ручной дуг...</td>\n",
       "    </tr>\n",
       "    <tr>\n",
       "      <th>3</th>\n",
       "      <td>5223</td>\n",
       "      <td>кассир правило приём проведение расчётный конв...</td>\n",
       "    </tr>\n",
       "    <tr>\n",
       "      <th>4</th>\n",
       "      <td>6121</td>\n",
       "      <td>оператор машинный доение выполнять вид работа ...</td>\n",
       "    </tr>\n",
       "    <tr>\n",
       "      <th>...</th>\n",
       "      <td>...</td>\n",
       "      <td>...</td>\n",
       "    </tr>\n",
       "    <tr>\n",
       "      <th>15645</th>\n",
       "      <td>3341</td>\n",
       "      <td>офис менеджер</td>\n",
       "    </tr>\n",
       "    <tr>\n",
       "      <th>15646</th>\n",
       "      <td>3341</td>\n",
       "      <td>офис менеджер приём отправка входящий исходящи...</td>\n",
       "    </tr>\n",
       "    <tr>\n",
       "      <th>15647</th>\n",
       "      <td>3341</td>\n",
       "      <td>офис менеджер встречать направлять клиент вход...</td>\n",
       "    </tr>\n",
       "    <tr>\n",
       "      <th>15648</th>\n",
       "      <td>3341</td>\n",
       "      <td>офис менеджер приём регистрация входящий звоно...</td>\n",
       "    </tr>\n",
       "    <tr>\n",
       "      <th>15649</th>\n",
       "      <td>6121</td>\n",
       "      <td>дояр соблюдение должностной инструкция правило...</td>\n",
       "    </tr>\n",
       "  </tbody>\n",
       "</table>\n",
       "<p>15650 rows × 2 columns</p>\n",
       "</div>"
      ],
      "text/plain": [
       "       target                                   full description\n",
       "0        5223  кассир пиццерия г витебск принимать выдавать з...\n",
       "1        5223  продавец консультант тц галерея рассказывать ч...\n",
       "2        7212  электросварщик накс ск п г норильск ручной дуг...\n",
       "3        5223  кассир правило приём проведение расчётный конв...\n",
       "4        6121  оператор машинный доение выполнять вид работа ...\n",
       "...       ...                                                ...\n",
       "15645    3341                                      офис менеджер\n",
       "15646    3341  офис менеджер приём отправка входящий исходящи...\n",
       "15647    3341  офис менеджер встречать направлять клиент вход...\n",
       "15648    3341  офис менеджер приём регистрация входящий звоно...\n",
       "15649    6121  дояр соблюдение должностной инструкция правило...\n",
       "\n",
       "[15650 rows x 2 columns]"
      ]
     },
     "execution_count": 26,
     "metadata": {},
     "output_type": "execute_result"
    }
   ],
   "source": [
    "train_df_marked_w_json"
   ]
  },
  {
   "cell_type": "code",
   "execution_count": 27,
   "metadata": {},
   "outputs": [],
   "source": [
    "X = train_df_marked_w_json['full description']\n",
    "Y = train_df_marked_w_json['target']"
   ]
  },
  {
   "cell_type": "code",
   "execution_count": 29,
   "metadata": {},
   "outputs": [
    {
     "data": {
      "text/plain": [
       "PassiveAggressiveClassifier()"
      ]
     },
     "execution_count": 29,
     "metadata": {},
     "output_type": "execute_result"
    }
   ],
   "source": [
    "x_train, x_test, y_train, y_test = train_test_split(X, Y, test_size=0.2)\n",
    "vectorizer = TfidfVectorizer()\n",
    "tf_train = vectorizer.fit_transform(x_train)\n",
    "tf_test = vectorizer.transform(x_test)\n",
    "pas_ag = PassiveAggressiveClassifier()\n",
    "pas_ag.fit(tf_train, y_train)"
   ]
  },
  {
   "cell_type": "markdown",
   "metadata": {},
   "source": [
    "### Testing"
   ]
  },
  {
   "cell_type": "code",
   "execution_count": 30,
   "metadata": {},
   "outputs": [
    {
     "data": {
      "text/plain": [
       "0.9383386581469648"
      ]
     },
     "execution_count": 30,
     "metadata": {},
     "output_type": "execute_result"
    }
   ],
   "source": [
    "pas_ag.score(tf_test, y_test)"
   ]
  },
  {
   "cell_type": "markdown",
   "metadata": {},
   "source": [
    "### Predicting for unmarked data"
   ]
  },
  {
   "cell_type": "code",
   "execution_count": 31,
   "metadata": {},
   "outputs": [
    {
     "data": {
      "text/plain": [
       "array([5223, 5223, 3123, ..., 3341, 9622, 6210])"
      ]
     },
     "execution_count": 31,
     "metadata": {},
     "output_type": "execute_result"
    }
   ],
   "source": [
    "tf_predict = vectorizer.transform(unmarked_train_w_json['full description'])\n",
    "code_predict = pas_ag.predict(tf_predict)\n",
    "code_predict"
   ]
  },
  {
   "cell_type": "code",
   "execution_count": 32,
   "metadata": {},
   "outputs": [
    {
     "data": {
      "text/html": [
       "<div>\n",
       "<style scoped>\n",
       "    .dataframe tbody tr th:only-of-type {\n",
       "        vertical-align: middle;\n",
       "    }\n",
       "\n",
       "    .dataframe tbody tr th {\n",
       "        vertical-align: top;\n",
       "    }\n",
       "\n",
       "    .dataframe thead th {\n",
       "        text-align: right;\n",
       "    }\n",
       "</style>\n",
       "<table border=\"1\" class=\"dataframe\">\n",
       "  <thead>\n",
       "    <tr style=\"text-align: right;\">\n",
       "      <th></th>\n",
       "      <th>full description</th>\n",
       "      <th>target</th>\n",
       "    </tr>\n",
       "  </thead>\n",
       "  <tbody>\n",
       "    <tr>\n",
       "      <th>0</th>\n",
       "      <td>продавец кассир работа касса открытие закрытие...</td>\n",
       "      <td>5223</td>\n",
       "    </tr>\n",
       "    <tr>\n",
       "      <th>1</th>\n",
       "      <td>продавец мила шевченко выкладка товар соответс...</td>\n",
       "      <td>5223</td>\n",
       "    </tr>\n",
       "  </tbody>\n",
       "</table>\n",
       "</div>"
      ],
      "text/plain": [
       "                                    full description  target\n",
       "0  продавец кассир работа касса открытие закрытие...    5223\n",
       "1  продавец мила шевченко выкладка товар соответс...    5223"
      ]
     },
     "execution_count": 32,
     "metadata": {},
     "output_type": "execute_result"
    }
   ],
   "source": [
    "# marking the unmarked data\n",
    "unmarked_train_w_json['target'] = code_predict\n",
    "unmarked_train_w_json.head(2)"
   ]
  },
  {
   "cell_type": "code",
   "execution_count": 33,
   "metadata": {},
   "outputs": [
    {
     "data": {
      "text/html": [
       "<div>\n",
       "<style scoped>\n",
       "    .dataframe tbody tr th:only-of-type {\n",
       "        vertical-align: middle;\n",
       "    }\n",
       "\n",
       "    .dataframe tbody tr th {\n",
       "        vertical-align: top;\n",
       "    }\n",
       "\n",
       "    .dataframe thead th {\n",
       "        text-align: right;\n",
       "    }\n",
       "</style>\n",
       "<table border=\"1\" class=\"dataframe\">\n",
       "  <thead>\n",
       "    <tr style=\"text-align: right;\">\n",
       "      <th></th>\n",
       "      <th>target</th>\n",
       "      <th>full description</th>\n",
       "    </tr>\n",
       "  </thead>\n",
       "  <tbody>\n",
       "    <tr>\n",
       "      <th>0</th>\n",
       "      <td>5223</td>\n",
       "      <td>кассир пиццерия г витебск принимать выдавать з...</td>\n",
       "    </tr>\n",
       "    <tr>\n",
       "      <th>1</th>\n",
       "      <td>5223</td>\n",
       "      <td>продавец консультант тц галерея рассказывать ч...</td>\n",
       "    </tr>\n",
       "    <tr>\n",
       "      <th>2</th>\n",
       "      <td>7212</td>\n",
       "      <td>электросварщик накс ск п г норильск ручной дуг...</td>\n",
       "    </tr>\n",
       "    <tr>\n",
       "      <th>3</th>\n",
       "      <td>5223</td>\n",
       "      <td>кассир правило приём проведение расчётный конв...</td>\n",
       "    </tr>\n",
       "    <tr>\n",
       "      <th>4</th>\n",
       "      <td>6121</td>\n",
       "      <td>оператор машинный доение выполнять вид работа ...</td>\n",
       "    </tr>\n",
       "  </tbody>\n",
       "</table>\n",
       "</div>"
      ],
      "text/plain": [
       "   target                                   full description\n",
       "0    5223  кассир пиццерия г витебск принимать выдавать з...\n",
       "1    5223  продавец консультант тц галерея рассказывать ч...\n",
       "2    7212  электросварщик накс ск п г норильск ручной дуг...\n",
       "3    5223  кассир правило приём проведение расчётный конв...\n",
       "4    6121  оператор машинный доение выполнять вид работа ..."
      ]
     },
     "execution_count": 33,
     "metadata": {},
     "output_type": "execute_result"
    }
   ],
   "source": [
    "# concatting training\n",
    "ultimate_training = pd.concat([train_df_marked_w_json, unmarked_train_w_json])\n",
    "ultimate_training.head(5)"
   ]
  },
  {
   "cell_type": "code",
   "execution_count": 34,
   "metadata": {},
   "outputs": [
    {
     "data": {
      "text/plain": [
       "30000"
      ]
     },
     "execution_count": 34,
     "metadata": {},
     "output_type": "execute_result"
    }
   ],
   "source": [
    "len(ultimate_training)"
   ]
  },
  {
   "cell_type": "markdown",
   "metadata": {},
   "source": [
    "### Fitting another model"
   ]
  },
  {
   "cell_type": "code",
   "execution_count": 35,
   "metadata": {},
   "outputs": [],
   "source": [
    "# performing train test split\n",
    "X = ultimate_training['full description']\n",
    "Y = ultimate_training['target']\n",
    "x_train, x_test, y_train, y_test = train_test_split(X, Y, test_size=0.2)"
   ]
  },
  {
   "cell_type": "markdown",
   "metadata": {},
   "source": [
    "Just passive aggressive classifier"
   ]
  },
  {
   "cell_type": "code",
   "execution_count": 62,
   "metadata": {},
   "outputs": [
    {
     "data": {
      "text/plain": [
       "PassiveAggressiveClassifier(max_iter=5000)"
      ]
     },
     "execution_count": 62,
     "metadata": {},
     "output_type": "execute_result"
    }
   ],
   "source": [
    "pass_agg1 = PassiveAggressiveClassifier(max_iter=5000)\n",
    "tf_train1 = vectorizer.transform(x_train)\n",
    "pass_agg1.fit(tf_train1, y_train)"
   ]
  },
  {
   "cell_type": "code",
   "execution_count": 63,
   "metadata": {},
   "outputs": [
    {
     "data": {
      "text/plain": [
       "0.9626666666666667"
      ]
     },
     "execution_count": 63,
     "metadata": {},
     "output_type": "execute_result"
    }
   ],
   "source": [
    "tf_test1 = vectorizer.transform(x_test)\n",
    "pass_agg1.score(tf_test1, y_test)"
   ]
  },
  {
   "cell_type": "code",
   "execution_count": 64,
   "metadata": {},
   "outputs": [
    {
     "data": {
      "text/plain": [
       "array([8322, 3323, 5223, ..., 5223, 2269, 4323])"
      ]
     },
     "execution_count": 64,
     "metadata": {},
     "output_type": "execute_result"
    }
   ],
   "source": [
    "tf_predict1 = vectorizer.transform(test_df_w_json['full description'])\n",
    "prof_predict = pass_agg1.predict(tf_predict1)\n",
    "prof_predict"
   ]
  },
  {
   "cell_type": "markdown",
   "metadata": {},
   "source": [
    "My pipeline"
   ]
  },
  {
   "cell_type": "code",
   "execution_count": 36,
   "metadata": {},
   "outputs": [],
   "source": [
    "pass_agg_pip = Pipeline([\n",
    "    ('vect', TfidfVectorizer()),\n",
    "    ('pag', PassiveAggressiveClassifier(max_iter=10000))\n",
    "])"
   ]
  },
  {
   "cell_type": "code",
   "execution_count": 37,
   "metadata": {},
   "outputs": [
    {
     "data": {
      "text/plain": [
       "Pipeline(steps=[('vect', TfidfVectorizer()),\n",
       "                ('pag', PassiveAggressiveClassifier(max_iter=10000))])"
      ]
     },
     "execution_count": 37,
     "metadata": {},
     "output_type": "execute_result"
    }
   ],
   "source": [
    "pass_agg_pip.fit(x_train, y_train)"
   ]
  },
  {
   "cell_type": "code",
   "execution_count": 38,
   "metadata": {},
   "outputs": [
    {
     "data": {
      "text/plain": [
       "0.9603333333333334"
      ]
     },
     "execution_count": 38,
     "metadata": {},
     "output_type": "execute_result"
    }
   ],
   "source": [
    "pass_agg_pip.score(x_test, y_test)"
   ]
  },
  {
   "cell_type": "code",
   "execution_count": 39,
   "metadata": {},
   "outputs": [
    {
     "data": {
      "text/plain": [
       "array([8322, 3323, 5223, ..., 5223, 3331, 4323])"
      ]
     },
     "execution_count": 39,
     "metadata": {},
     "output_type": "execute_result"
    }
   ],
   "source": [
    "prof_predict = pass_agg_pip.predict(test_df_w_json['full description'])\n",
    "prof_predict"
   ]
  },
  {
   "cell_type": "markdown",
   "metadata": {},
   "source": [
    "Buddy's pipeline"
   ]
  },
  {
   "cell_type": "code",
   "execution_count": 48,
   "metadata": {},
   "outputs": [],
   "source": [
    "text_clf = Pipeline([\n",
    "    ('vect', CountVectorizer()),\n",
    "    ('tfidf', TfidfTransformer()),\n",
    "    ('clf', SGDClassifier(loss='modified_huber', penalty='l2',\n",
    "                         alpha=1e-4, random_state=42,\n",
    "                         max_iter=5, tol=None)),\n",
    "])"
   ]
  },
  {
   "cell_type": "code",
   "execution_count": 49,
   "metadata": {},
   "outputs": [
    {
     "data": {
      "text/plain": [
       "0.9666666666666667"
      ]
     },
     "execution_count": 49,
     "metadata": {},
     "output_type": "execute_result"
    }
   ],
   "source": [
    "text_clf = text_clf.fit(x_train, y_train)\n",
    "text_clf.score(x_test, y_test)"
   ]
  },
  {
   "cell_type": "code",
   "execution_count": 50,
   "metadata": {},
   "outputs": [
    {
     "data": {
      "text/plain": [
       "array([8322, 3323, 5223, ..., 5223, 8343, 4323])"
      ]
     },
     "execution_count": 50,
     "metadata": {},
     "output_type": "execute_result"
    }
   ],
   "source": [
    "prof_predict = text_clf.predict(test_df_w_json['full description'])\n",
    "prof_predict"
   ]
  },
  {
   "cell_type": "markdown",
   "metadata": {},
   "source": [
    "# Запись результата"
   ]
  },
  {
   "cell_type": "code",
   "execution_count": 40,
   "metadata": {},
   "outputs": [
    {
     "data": {
      "text/html": [
       "<div>\n",
       "<style scoped>\n",
       "    .dataframe tbody tr th:only-of-type {\n",
       "        vertical-align: middle;\n",
       "    }\n",
       "\n",
       "    .dataframe tbody tr th {\n",
       "        vertical-align: top;\n",
       "    }\n",
       "\n",
       "    .dataframe thead th {\n",
       "        text-align: right;\n",
       "    }\n",
       "</style>\n",
       "<table border=\"1\" class=\"dataframe\">\n",
       "  <thead>\n",
       "    <tr style=\"text-align: right;\">\n",
       "      <th></th>\n",
       "      <th>index</th>\n",
       "      <th>target</th>\n",
       "    </tr>\n",
       "  </thead>\n",
       "  <tbody>\n",
       "    <tr>\n",
       "      <th>0</th>\n",
       "      <td>26461447</td>\n",
       "      <td>8322</td>\n",
       "    </tr>\n",
       "    <tr>\n",
       "      <th>1</th>\n",
       "      <td>26464220</td>\n",
       "      <td>3323</td>\n",
       "    </tr>\n",
       "    <tr>\n",
       "      <th>2</th>\n",
       "      <td>26467473</td>\n",
       "      <td>5223</td>\n",
       "    </tr>\n",
       "    <tr>\n",
       "      <th>3</th>\n",
       "      <td>26468989</td>\n",
       "      <td>2411</td>\n",
       "    </tr>\n",
       "    <tr>\n",
       "      <th>4</th>\n",
       "      <td>26471705</td>\n",
       "      <td>4222</td>\n",
       "    </tr>\n",
       "    <tr>\n",
       "      <th>...</th>\n",
       "      <td>...</td>\n",
       "      <td>...</td>\n",
       "    </tr>\n",
       "    <tr>\n",
       "      <th>1085</th>\n",
       "      <td>123809156</td>\n",
       "      <td>9622</td>\n",
       "    </tr>\n",
       "    <tr>\n",
       "      <th>1086</th>\n",
       "      <td>104700805</td>\n",
       "      <td>4323</td>\n",
       "    </tr>\n",
       "    <tr>\n",
       "      <th>1087</th>\n",
       "      <td>114563177</td>\n",
       "      <td>5223</td>\n",
       "    </tr>\n",
       "    <tr>\n",
       "      <th>1088</th>\n",
       "      <td>354950498</td>\n",
       "      <td>3331</td>\n",
       "    </tr>\n",
       "    <tr>\n",
       "      <th>1089</th>\n",
       "      <td>361611956</td>\n",
       "      <td>4323</td>\n",
       "    </tr>\n",
       "  </tbody>\n",
       "</table>\n",
       "<p>1090 rows × 2 columns</p>\n",
       "</div>"
      ],
      "text/plain": [
       "          index  target\n",
       "0      26461447    8322\n",
       "1      26464220    3323\n",
       "2      26467473    5223\n",
       "3      26468989    2411\n",
       "4      26471705    4222\n",
       "...         ...     ...\n",
       "1085  123809156    9622\n",
       "1086  104700805    4323\n",
       "1087  114563177    5223\n",
       "1088  354950498    3331\n",
       "1089  361611956    4323\n",
       "\n",
       "[1090 rows x 2 columns]"
      ]
     },
     "execution_count": 40,
     "metadata": {},
     "output_type": "execute_result"
    }
   ],
   "source": [
    "results_to_write1 = test_df_w_json['index']\n",
    "prof_predict = pd.Series(prof_predict)\n",
    "prof_predict.name = 'target'\n",
    "results_to_write1 = pd.concat([results_to_write1, prof_predict], axis=1)\n",
    "results_to_write1"
   ]
  },
  {
   "cell_type": "code",
   "execution_count": 41,
   "metadata": {},
   "outputs": [],
   "source": [
    "results_to_write1.to_csv(result_path/'combobo_v4.csv', index=False)"
   ]
  }
 ],
 "metadata": {
  "kernelspec": {
   "display_name": "Python 3.9.7 ('base')",
   "language": "python",
   "name": "python3"
  },
  "language_info": {
   "codemirror_mode": {
    "name": "ipython",
    "version": 3
   },
   "file_extension": ".py",
   "mimetype": "text/x-python",
   "name": "python",
   "nbconvert_exporter": "python",
   "pygments_lexer": "ipython3",
   "version": "3.9.7"
  },
  "orig_nbformat": 4,
  "vscode": {
   "interpreter": {
    "hash": "00aef3b98e4ccb3322387f6c47ad24282262e1fd4d41067bd78cec0ceaa17bd0"
   }
  }
 },
 "nbformat": 4,
 "nbformat_minor": 2
}
